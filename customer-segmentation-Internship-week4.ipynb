{
 "cells": [
  {
   "cell_type": "markdown",
   "id": "7c9b8473",
   "metadata": {
    "papermill": {
     "duration": 0.056654,
     "end_time": "2023-09-13T18:55:29.073469",
     "exception": false,
     "start_time": "2023-09-13T18:55:29.016815",
     "status": "completed"
    },
    "tags": []
   },
   "source": [
    "<img src=\"https://github.com/FarzadNekouee/Retail_Customer_Segmentation_Recommendation_System/blob/master/image.png?raw=true\" width=\"2400\">"
   ]
  },
  {
   "cell_type": "markdown",
   "id": "ae7b7d8d",
   "metadata": {
    "papermill": {
     "duration": 0.054531,
     "end_time": "2023-09-13T18:55:29.182670",
     "exception": false,
     "start_time": "2023-09-13T18:55:29.128139",
     "status": "completed"
    },
    "tags": []
   },
   "source": [
    "<div style=\"border-radius:10px; padding: 15px; background-color: #ffeacc; font-size:130%; text-align:left\">\n",
    "\n",
    "<h2 align=\"left\"><font color=#ff6200>Problem:</font></h2>\n",
    "\n",
    "\n",
    "In this project, we delve deep into the thriving sector of __online retail__ by analyzing a __transactional dataset__ from a UK-based retailer, available at the [UCI Machine Learning Repository](https://archive.ics.uci.edu/dataset/352/online+retail). This dataset documents all transactions between 2010 and 2011. Our primary objective is to amplify the efficiency of marketing strategies and boost sales through __customer segmentation__. We aim to transform the transactional data into a customer-centric dataset by creating new features that will facilitate the segmentation of customers into distinct groups using the __K-means clustering__ algorithm. This segmentation will allow us to understand the distinct __profiles__ and preferences of different customer groups. Building upon this, we intend to develop a __recommendation system__ that will suggest top-selling products to customers within each segment who haven't purchased those items yet, ultimately enhancing marketing efficacy and fostering increased sales.\n"
   ]
  },
  {
   "cell_type": "markdown",
   "id": "546e6474",
   "metadata": {
    "papermill": {
     "duration": 0.059462,
     "end_time": "2023-09-13T18:55:29.374439",
     "exception": false,
     "start_time": "2023-09-13T18:55:29.314977",
     "status": "completed"
    },
    "tags": []
   },
   "source": [
    "<div style=\"border-radius:10px; padding: 15px; background-color: #ffeacc; font-size:130%; text-align:left\">\n",
    "\n",
    "<h2 align=\"left\"><font color=#ff6200>Objectives:</font></h2>\n",
    "\n",
    "\n",
    "- **Data Cleaning & Transformation**: Clean the dataset by handling missing values, duplicates, and outliers, preparing it for effective clustering.\n",
    "\n",
    "    \n",
    "- **Feature Engineering**: Develop new features based on the transactional data to create a customer-centric dataset, setting the foundation for customer segmentation.\n",
    "\n",
    "    \n",
    "- **Data Preprocessing**: Undertake feature scaling and dimensionality reduction to streamline the data, enhancing the efficiency of the clustering process.\n",
    "\n",
    "    \n",
    "- **Customer Segmentation using K-Means Clustering**: Segment customers into distinct groups using K-means, facilitating targeted marketing and personalized strategies.\n",
    "\n",
    "    \n",
    "- **Cluster Analysis & Evaluation**: Analyze and profile each cluster to develop targeted marketing strategies and assess the quality of the clusters formed.\n",
    "\n",
    "    \n",
    "- **Recommendation System**: Implement a system to recommend best-selling products to customers within the same cluster who haven't purchased those products, aiming to boost sales and marketing effectiveness.\n"
   ]
  },
  {
   "cell_type": "markdown",
   "id": "b0167c09",
   "metadata": {
    "papermill": {
     "duration": 0.054838,
     "end_time": "2023-09-13T18:55:29.487191",
     "exception": false,
     "start_time": "2023-09-13T18:55:29.432353",
     "status": "completed"
    },
    "tags": []
   },
   "source": [
    "<a id=\"contents_tabel\"></a>    \n",
    "<div style=\"border-radius:10px; padding: 15px; background-color: #ffeacc; font-size:130%; text-align:left\">\n",
    "\n",
    "<h2 align=\"left\"><font color=#ff6200>Table of Contents:</font></h2>\n",
    "    \n",
    "* [Step 1 | Setup and Initialization](#setup)\n",
    "    - [Step 1.1 | Importing Necessary Libraries](#libraries) \n",
    "    - [Step 1.2 | Loading the Dataset](#load_dataset)\n",
    "* [Step 2 | Initial Data Analysis](#initial_analysis) \n",
    "    - [Step 2.1 | Dataset Overview](#overview) \n",
    "    - [Step 2.2 | Summary Statistics](#statistics) \n",
    "* [Step 3 | Data Cleaning & Transformation](#data_cleaning)\n",
    "    - [Step 3.1 | Handling Missing Values](#missing_values)\n",
    "    - [Step 3.2 | Handling Duplicates](#duplicates)\n",
    "    - [Step 3.3 | Treating Cancelled Transactions](#InvoiceNo_cleaning)\n",
    "    - [Step 3.4 | Correcting StockCode Anomalies](#StockCode_cleaning)\n",
    "    - [Step 3.5 | Cleaning Description Column](#Description_cleaning)\n",
    "    - [Step 3.6 | Treating Zero Unit Prices](#UnitPrice_cleaning)\n",
    "    - [Step 3.7 | Outlier Treatment](#outlier_cleaning)\n",
    "* [Step 4 | Feature Engineering](#feature_engineering)\n",
    "    - [Step 4.1 | RFM Features](#rfm_features)\n",
    "        - [Step 4.1.1 | Recency (R)](#recency) \n",
    "        - [Step 4.1.2 | Frequency (F)](#frequency)\n",
    "        - [Step 4.1.3 | Monetary (M)](#monetary)\n",
    "    - [Step 4.2 | Product Diversity](#product_diversity)\n",
    "    - [Step 4.3 | Behavioral Features](#behaviroal_features)\n",
    "    - [Step 4.4 | Geographic Features](#geographical_features)\n",
    "    - [Step 4.5 | Cancellation Insights](#cancellation_insights) \n",
    "    - [Step 4.6 | Seasonality & Trends](#seasonality_trends) \n",
    "* [Step 5 | Outlier Detection and Treatment](#outlier_detection)\n",
    "* [Step 6 | Correlation Analysis](#correlation)\n",
    "* [Step 7 | Feature Scaling](#scaling)\n",
    "* [Step 8 | Dimensionality Reduction](#pca)\n",
    "* [Step 9 | K-Means Clustering](#kmeans) \n",
    "    - [Step 9.1 | Determining the Optimal Number of Clusters](#optimal_k) \n",
    "        - [Step 9.1.1 | Elbow Method](#elbow)\n",
    "        - [Step 9.1.2 | Silhouette Method](#silhouette)\n",
    "    - [Step 9.2 | Clustering Model - K-means](#kmeans_model)\n",
    "* [Step 10 | Clustering Evaluation](#evaluation)  \n",
    "    - [Step 10.1 | 3D Visualization of Top Principal Components](#3d_visualization)\n",
    "    - [Step 10.2 | Cluster Distribution Visualization](#cluster_distributuion) \n",
    "    - [Step 10.3 | Evaluation Metrics](#evaluations_metrics)\n",
    "* [Step 11 | Cluster Analysis and Profiling](#profiling)\n",
    "    - [Step 11.1 | Radar Chart Approach](#radar_chart)\n",
    "    - [Step 11.2 | Histogram Chart Approach](#histogram)\n",
    "* [Step 12 | Recommendation System](#recommendation_system)"
   ]
  },
  {
   "cell_type": "markdown",
   "id": "54bff998",
   "metadata": {
    "papermill": {
     "duration": 0.058194,
     "end_time": "2023-09-13T18:55:29.602828",
     "exception": false,
     "start_time": "2023-09-13T18:55:29.544634",
     "status": "completed"
    },
    "tags": []
   },
   "source": [
    "<h2 align=\"left\"><font color=#ff6200>Let's get started:</font></h2>"
   ]
  },
  {
   "cell_type": "markdown",
   "id": "158e6dcc",
   "metadata": {
    "papermill": {
     "duration": 0.055048,
     "end_time": "2023-09-13T18:55:29.713486",
     "exception": false,
     "start_time": "2023-09-13T18:55:29.658438",
     "status": "completed"
    },
    "tags": []
   },
   "source": [
    "<a id=\"setup\"></a>\n",
    "# <p style=\"background-color: #ff6200; font-family:calibri; color:white; font-size:140%; font-family:Verdana; text-align:center; border-radius:15px 50px;\">Step 1 | Setup and Initialization</p>\n",
    "⬆️ [Tabel of Contents](#contents_tabel)"
   ]
  },
  {
   "cell_type": "markdown",
   "id": "c4e393a0",
   "metadata": {
    "papermill": {
     "duration": 0.054748,
     "end_time": "2023-09-13T18:55:29.823414",
     "exception": false,
     "start_time": "2023-09-13T18:55:29.768666",
     "status": "completed"
    },
    "tags": []
   },
   "source": [
    "<a id=\"libraries\"></a>\n",
    "# <b><span style='color:#fcc36d'>Step 1.1 |</span><span style='color:#ff6200'> Importing Necessary Libraries</span></b>\n",
    "⬆️ [Tabel of Contents](#contents_tabel)"
   ]
  },
  {
   "cell_type": "markdown",
   "id": "b187bc22",
   "metadata": {
    "papermill": {
     "duration": 0.054579,
     "end_time": "2023-09-13T18:55:29.932823",
     "exception": false,
     "start_time": "2023-09-13T18:55:29.878244",
     "status": "completed"
    },
    "tags": []
   },
   "source": [
    "<div style=\"border-radius:10px; padding: 15px; background-color: #ffeacc; font-size:120%; text-align:left\">\n",
    "    \n",
    "First of all, we will import all the necessary libraries that we will use throughout the project. This generally includes libraries for data manipulation, data visualization, and others based on the specific needs of the project:"
   ]
  },
  {
   "cell_type": "code",
   "execution_count": 1,
   "id": "88c0d4f2",
   "metadata": {
    "papermill": {
     "duration": 3.71761,
     "end_time": "2023-09-13T18:55:33.705058",
     "exception": false,
     "start_time": "2023-09-13T18:55:29.987448",
     "status": "completed"
    },
    "tags": []
   },
   "outputs": [],
   "source": [
    "# Ignore warnings\n",
    "import warnings\n",
    "warnings.filterwarnings('ignore')\n",
    "\n",
    "import numpy as np\n",
    "import pandas as pd\n",
    "import seaborn as sns\n",
    "import matplotlib.pyplot as plt\n",
    "import matplotlib.gridspec as gridspec\n",
    "import plotly.graph_objects as go\n",
    "from matplotlib.colors import LinearSegmentedColormap\n",
    "from matplotlib import colors as mcolors\n",
    "from scipy.stats import linregress\n",
    "from sklearn.ensemble import IsolationForest\n",
    "from sklearn.preprocessing import StandardScaler\n",
    "from sklearn.decomposition import PCA\n",
    "from yellowbrick.cluster import KElbowVisualizer, SilhouetteVisualizer\n",
    "from sklearn.metrics import silhouette_score, calinski_harabasz_score, davies_bouldin_score\n",
    "from sklearn.cluster import KMeans\n",
    "from tabulate import tabulate\n",
    "from collections import Counter\n",
    "\n",
    "%matplotlib inline"
   ]
  },
  {
   "cell_type": "code",
   "execution_count": 2,
   "id": "6f2a57e4",
   "metadata": {
    "papermill": {
     "duration": 0.326571,
     "end_time": "2023-09-13T18:55:34.104602",
     "exception": false,
     "start_time": "2023-09-13T18:55:33.778031",
     "status": "completed"
    },
    "tags": []
   },
   "outputs": [
    {
     "data": {
      "text/html": [
       "        <script type=\"text/javascript\">\n",
       "        window.PlotlyConfig = {MathJaxConfig: 'local'};\n",
       "        if (window.MathJax && window.MathJax.Hub && window.MathJax.Hub.Config) {window.MathJax.Hub.Config({SVG: {font: \"STIX-Web\"}});}\n",
       "        if (typeof require !== 'undefined') {\n",
       "        require.undef(\"plotly\");\n",
       "        requirejs.config({\n",
       "            paths: {\n",
       "                'plotly': ['https://cdn.plot.ly/plotly-2.12.1.min']\n",
       "            }\n",
       "        });\n",
       "        require(['plotly'], function(Plotly) {\n",
       "            window._Plotly = Plotly;\n",
       "        });\n",
       "        }\n",
       "        </script>\n",
       "        "
      ]
     },
     "metadata": {},
     "output_type": "display_data"
    }
   ],
   "source": [
    "# Initialize Plotly for use in the notebook\n",
    "from plotly.offline import init_notebook_mode\n",
    "init_notebook_mode(connected=True)"
   ]
  },
  {
   "cell_type": "code",
   "execution_count": 3,
   "id": "e7f647ef",
   "metadata": {
    "papermill": {
     "duration": 0.065754,
     "end_time": "2023-09-13T18:55:34.225966",
     "exception": false,
     "start_time": "2023-09-13T18:55:34.160212",
     "status": "completed"
    },
    "tags": []
   },
   "outputs": [],
   "source": [
    "# Configure Seaborn plot styles: Set background color and use dark grid\n",
    "sns.set(rc={'axes.facecolor': '#fcf0dc'}, style='darkgrid')"
   ]
  },
  {
   "cell_type": "markdown",
   "id": "1859bfb9",
   "metadata": {
    "papermill": {
     "duration": 0.05608,
     "end_time": "2023-09-13T18:55:34.336948",
     "exception": false,
     "start_time": "2023-09-13T18:55:34.280868",
     "status": "completed"
    },
    "tags": []
   },
   "source": [
    "<a id=\"load_dataset\"></a>\n",
    "# <b><span style='color:#fcc36d'>Step 1.2 |</span><span style='color:#ff6200'> Loading the Dataset</span></b>\n",
    "⬆️ [Tabel of Contents](#contents_tabel)"
   ]
  },
  {
   "cell_type": "markdown",
   "id": "37684594",
   "metadata": {
    "papermill": {
     "duration": 0.055541,
     "end_time": "2023-09-13T18:55:34.447416",
     "exception": false,
     "start_time": "2023-09-13T18:55:34.391875",
     "status": "completed"
    },
    "tags": []
   },
   "source": [
    "<div style=\"border-radius:10px; padding: 15px; background-color: #ffeacc; font-size:120%; text-align:left\">\n",
    "    \n",
    "Next, we will load the dataset into a pandas DataFrame which will facilitate easy manipulation and analysis:"
   ]
  },
  {
   "cell_type": "code",
   "execution_count": 4,
   "id": "baaa0be4",
   "metadata": {
    "papermill": {
     "duration": 1.815595,
     "end_time": "2023-09-13T18:55:36.317782",
     "exception": false,
     "start_time": "2023-09-13T18:55:34.502187",
     "status": "completed"
    },
    "tags": []
   },
   "outputs": [],
   "source": [
    "df = pd.read_csv(r'C:\\Users\\Agniv\\Desktop\\Internships\\E-y(GDS) internship\\data set\\online+retail\\Online Retail2.csv', encoding=\"ISO-8859-1\")"
   ]
  },
  {
   "cell_type": "markdown",
   "id": "53887068",
   "metadata": {
    "papermill": {
     "duration": 0.055908,
     "end_time": "2023-09-13T18:55:36.429299",
     "exception": false,
     "start_time": "2023-09-13T18:55:36.373391",
     "status": "completed"
    },
    "tags": []
   },
   "source": [
    "<div style=\"border-radius:10px; padding: 15px; background-color: #ffeacc; font-size:130%; text-align:left\">\n",
    "\n",
    "<h2 align=\"left\"><font color=#ff6200>Dataset Description:</font></h2>\n",
    "\n",
    "| __Variable__   | __Description__ |\n",
    "|     :---       |       :---      |      \n",
    "| __InvoiceNo__  | Code representing each unique transaction.  If this code starts with letter 'c', it indicates a cancellation. |\n",
    "| __StockCode__  | Code uniquely assigned to each distinct product. |\n",
    "| __Description__| Description of each product. |\n",
    "| __Quantity__   | The number of units of a product in a transaction. |\n",
    "| __InvoiceDate__| The date and time of the transaction. |\n",
    "| __UnitPrice__  | The unit price of the product in sterling. |\n",
    "| __CustomerID__ | Identifier uniquely assigned to each customer. |\n",
    "| __Country__    | The country of the customer. |\n"
   ]
  },
  {
   "cell_type": "markdown",
   "id": "e275d113",
   "metadata": {
    "papermill": {
     "duration": 0.05478,
     "end_time": "2023-09-13T18:55:36.539387",
     "exception": false,
     "start_time": "2023-09-13T18:55:36.484607",
     "status": "completed"
    },
    "tags": []
   },
   "source": [
    "<a id=\"initial_analysis\"></a>\n",
    "# <p style=\"background-color: #ff6200; font-family:calibri; color:white; font-size:140%; font-family:Verdana; text-align:center; border-radius:15px 50px;\">Step 2 | Initial Data Analysis</p>\n",
    "⬆️ [Tabel of Contents](#contents_tabel)"
   ]
  },
  {
   "cell_type": "markdown",
   "id": "321c88dc",
   "metadata": {
    "papermill": {
     "duration": 0.055637,
     "end_time": "2023-09-13T18:55:36.654099",
     "exception": false,
     "start_time": "2023-09-13T18:55:36.598462",
     "status": "completed"
    },
    "tags": []
   },
   "source": [
    "<div style=\"border-radius:10px; padding: 15px; background-color: #ffeacc; font-size:120%; text-align:left\">\n",
    "    \n",
    "Afterward, we are going to gain a thorough understanding of the dataset before proceeding to the data cleaning and transformation stages."
   ]
  },
  {
   "cell_type": "markdown",
   "id": "dc056c8f",
   "metadata": {
    "papermill": {
     "duration": 0.054688,
     "end_time": "2023-09-13T18:55:36.764128",
     "exception": false,
     "start_time": "2023-09-13T18:55:36.709440",
     "status": "completed"
    },
    "tags": []
   },
   "source": [
    "<a id=\"overview\"></a>\n",
    "# <b><span style='color:#fcc36d'>Step 2.1 |</span><span style='color:#ff6200'> Dataset Overview</span></b>\n",
    "⬆️ [Tabel of Contents](#contents_tabel)"
   ]
  },
  {
   "cell_type": "markdown",
   "id": "33b2c029",
   "metadata": {
    "papermill": {
     "duration": 0.056899,
     "end_time": "2023-09-13T18:55:36.876789",
     "exception": false,
     "start_time": "2023-09-13T18:55:36.819890",
     "status": "completed"
    },
    "tags": []
   },
   "source": [
    "<div style=\"border-radius:10px; padding: 15px; background-color: #ffeacc; font-size:120%; text-align:left\">\n",
    "\n",
    "First we will perform a preliminary analysis to understand the structure and types of data columns:"
   ]
  },
  {
   "cell_type": "code",
   "execution_count": 5,
   "id": "4cec4265",
   "metadata": {
    "papermill": {
     "duration": 0.098838,
     "end_time": "2023-09-13T18:55:37.031877",
     "exception": false,
     "start_time": "2023-09-13T18:55:36.933039",
     "status": "completed"
    },
    "tags": []
   },
   "outputs": [
    {
     "data": {
      "text/html": [
       "<div>\n",
       "<style scoped>\n",
       "    .dataframe tbody tr th:only-of-type {\n",
       "        vertical-align: middle;\n",
       "    }\n",
       "\n",
       "    .dataframe tbody tr th {\n",
       "        vertical-align: top;\n",
       "    }\n",
       "\n",
       "    .dataframe thead th {\n",
       "        text-align: right;\n",
       "    }\n",
       "</style>\n",
       "<table border=\"1\" class=\"dataframe\">\n",
       "  <thead>\n",
       "    <tr style=\"text-align: right;\">\n",
       "      <th></th>\n",
       "      <th>InvoiceNo</th>\n",
       "      <th>StockCode</th>\n",
       "      <th>Description</th>\n",
       "      <th>Quantity</th>\n",
       "      <th>InvoiceDate</th>\n",
       "      <th>UnitPrice</th>\n",
       "      <th>CustomerID</th>\n",
       "      <th>Country</th>\n",
       "    </tr>\n",
       "  </thead>\n",
       "  <tbody>\n",
       "    <tr>\n",
       "      <th>0</th>\n",
       "      <td>536365</td>\n",
       "      <td>85123A</td>\n",
       "      <td>WHITE HANGING HEART T-LIGHT HOLDER</td>\n",
       "      <td>6</td>\n",
       "      <td>12/1/2010 8:26</td>\n",
       "      <td>2.55</td>\n",
       "      <td>17850.0</td>\n",
       "      <td>United Kingdom</td>\n",
       "    </tr>\n",
       "    <tr>\n",
       "      <th>1</th>\n",
       "      <td>536365</td>\n",
       "      <td>71053</td>\n",
       "      <td>WHITE METAL LANTERN</td>\n",
       "      <td>6</td>\n",
       "      <td>12/1/2010 8:26</td>\n",
       "      <td>3.39</td>\n",
       "      <td>17850.0</td>\n",
       "      <td>United Kingdom</td>\n",
       "    </tr>\n",
       "    <tr>\n",
       "      <th>2</th>\n",
       "      <td>536365</td>\n",
       "      <td>84406B</td>\n",
       "      <td>CREAM CUPID HEARTS COAT HANGER</td>\n",
       "      <td>8</td>\n",
       "      <td>12/1/2010 8:26</td>\n",
       "      <td>2.75</td>\n",
       "      <td>17850.0</td>\n",
       "      <td>United Kingdom</td>\n",
       "    </tr>\n",
       "    <tr>\n",
       "      <th>3</th>\n",
       "      <td>536365</td>\n",
       "      <td>84029G</td>\n",
       "      <td>KNITTED UNION FLAG HOT WATER BOTTLE</td>\n",
       "      <td>6</td>\n",
       "      <td>12/1/2010 8:26</td>\n",
       "      <td>3.39</td>\n",
       "      <td>17850.0</td>\n",
       "      <td>United Kingdom</td>\n",
       "    </tr>\n",
       "    <tr>\n",
       "      <th>4</th>\n",
       "      <td>536365</td>\n",
       "      <td>84029E</td>\n",
       "      <td>RED WOOLLY HOTTIE WHITE HEART.</td>\n",
       "      <td>6</td>\n",
       "      <td>12/1/2010 8:26</td>\n",
       "      <td>3.39</td>\n",
       "      <td>17850.0</td>\n",
       "      <td>United Kingdom</td>\n",
       "    </tr>\n",
       "    <tr>\n",
       "      <th>5</th>\n",
       "      <td>536365</td>\n",
       "      <td>22752</td>\n",
       "      <td>SET 7 BABUSHKA NESTING BOXES</td>\n",
       "      <td>2</td>\n",
       "      <td>12/1/2010 8:26</td>\n",
       "      <td>7.65</td>\n",
       "      <td>17850.0</td>\n",
       "      <td>United Kingdom</td>\n",
       "    </tr>\n",
       "    <tr>\n",
       "      <th>6</th>\n",
       "      <td>536365</td>\n",
       "      <td>21730</td>\n",
       "      <td>GLASS STAR FROSTED T-LIGHT HOLDER</td>\n",
       "      <td>6</td>\n",
       "      <td>12/1/2010 8:26</td>\n",
       "      <td>4.25</td>\n",
       "      <td>17850.0</td>\n",
       "      <td>United Kingdom</td>\n",
       "    </tr>\n",
       "    <tr>\n",
       "      <th>7</th>\n",
       "      <td>536366</td>\n",
       "      <td>22633</td>\n",
       "      <td>HAND WARMER UNION JACK</td>\n",
       "      <td>6</td>\n",
       "      <td>12/1/2010 8:28</td>\n",
       "      <td>1.85</td>\n",
       "      <td>17850.0</td>\n",
       "      <td>United Kingdom</td>\n",
       "    </tr>\n",
       "    <tr>\n",
       "      <th>8</th>\n",
       "      <td>536366</td>\n",
       "      <td>22632</td>\n",
       "      <td>HAND WARMER RED POLKA DOT</td>\n",
       "      <td>6</td>\n",
       "      <td>12/1/2010 8:28</td>\n",
       "      <td>1.85</td>\n",
       "      <td>17850.0</td>\n",
       "      <td>United Kingdom</td>\n",
       "    </tr>\n",
       "    <tr>\n",
       "      <th>9</th>\n",
       "      <td>536367</td>\n",
       "      <td>84879</td>\n",
       "      <td>ASSORTED COLOUR BIRD ORNAMENT</td>\n",
       "      <td>32</td>\n",
       "      <td>12/1/2010 8:34</td>\n",
       "      <td>1.69</td>\n",
       "      <td>13047.0</td>\n",
       "      <td>United Kingdom</td>\n",
       "    </tr>\n",
       "  </tbody>\n",
       "</table>\n",
       "</div>"
      ],
      "text/plain": [
       "  InvoiceNo StockCode                          Description  Quantity  \\\n",
       "0    536365    85123A   WHITE HANGING HEART T-LIGHT HOLDER         6   \n",
       "1    536365     71053                  WHITE METAL LANTERN         6   \n",
       "2    536365    84406B       CREAM CUPID HEARTS COAT HANGER         8   \n",
       "3    536365    84029G  KNITTED UNION FLAG HOT WATER BOTTLE         6   \n",
       "4    536365    84029E       RED WOOLLY HOTTIE WHITE HEART.         6   \n",
       "5    536365     22752         SET 7 BABUSHKA NESTING BOXES         2   \n",
       "6    536365     21730    GLASS STAR FROSTED T-LIGHT HOLDER         6   \n",
       "7    536366     22633               HAND WARMER UNION JACK         6   \n",
       "8    536366     22632            HAND WARMER RED POLKA DOT         6   \n",
       "9    536367     84879        ASSORTED COLOUR BIRD ORNAMENT        32   \n",
       "\n",
       "      InvoiceDate  UnitPrice  CustomerID         Country  \n",
       "0  12/1/2010 8:26       2.55     17850.0  United Kingdom  \n",
       "1  12/1/2010 8:26       3.39     17850.0  United Kingdom  \n",
       "2  12/1/2010 8:26       2.75     17850.0  United Kingdom  \n",
       "3  12/1/2010 8:26       3.39     17850.0  United Kingdom  \n",
       "4  12/1/2010 8:26       3.39     17850.0  United Kingdom  \n",
       "5  12/1/2010 8:26       7.65     17850.0  United Kingdom  \n",
       "6  12/1/2010 8:26       4.25     17850.0  United Kingdom  \n",
       "7  12/1/2010 8:28       1.85     17850.0  United Kingdom  \n",
       "8  12/1/2010 8:28       1.85     17850.0  United Kingdom  \n",
       "9  12/1/2010 8:34       1.69     13047.0  United Kingdom  "
      ]
     },
     "execution_count": 5,
     "metadata": {},
     "output_type": "execute_result"
    }
   ],
   "source": [
    "df.head(10)"
   ]
  },
  {
   "cell_type": "code",
   "execution_count": 6,
   "id": "d408d719",
   "metadata": {
    "papermill": {
     "duration": 0.367369,
     "end_time": "2023-09-13T18:55:37.454997",
     "exception": false,
     "start_time": "2023-09-13T18:55:37.087628",
     "status": "completed"
    },
    "tags": []
   },
   "outputs": [
    {
     "name": "stdout",
     "output_type": "stream",
     "text": [
      "<class 'pandas.core.frame.DataFrame'>\n",
      "RangeIndex: 541909 entries, 0 to 541908\n",
      "Data columns (total 8 columns):\n",
      " #   Column       Non-Null Count   Dtype  \n",
      "---  ------       --------------   -----  \n",
      " 0   InvoiceNo    541909 non-null  object \n",
      " 1   StockCode    541909 non-null  object \n",
      " 2   Description  540455 non-null  object \n",
      " 3   Quantity     541909 non-null  int64  \n",
      " 4   InvoiceDate  541909 non-null  object \n",
      " 5   UnitPrice    541909 non-null  float64\n",
      " 6   CustomerID   406829 non-null  float64\n",
      " 7   Country      541909 non-null  object \n",
      "dtypes: float64(2), int64(1), object(5)\n",
      "memory usage: 33.1+ MB\n"
     ]
    }
   ],
   "source": [
    "df.info()"
   ]
  },
  {
   "cell_type": "markdown",
   "id": "6f2947d7",
   "metadata": {
    "papermill": {
     "duration": 0.056558,
     "end_time": "2023-09-13T18:55:37.566435",
     "exception": false,
     "start_time": "2023-09-13T18:55:37.509877",
     "status": "completed"
    },
    "tags": []
   },
   "source": [
    "<div style=\"border-radius:10px; padding: 15px; background-color: #ffeacc; font-size:120%; text-align:left\">\n",
    "<h3 align=\"left\"><font color=#ff6200>Inferences:</font></h3>\n",
    "    \n",
    "The dataset consists of 541,909 entries and 8 columns. Here is a brief overview of each column:\n",
    "\n",
    "- __`InvoiceNo`__: This is an object data type column that contains the invoice number for each transaction. Each invoice number can represent multiple items purchased in a single transaction.\n",
    "   \n",
    "    \n",
    "- __`StockCode`__: An object data type column representing the product code for each item. \n",
    "\n",
    "    \n",
    "- __`Description`__: This column, also an object data type, contains descriptions of the products. It has some missing values, with 540,455 non-null entries out of 541,909.\n",
    "\n",
    "    \n",
    "- __`Quantity`__: This is an integer column indicating the quantity of products purchased in each transaction.\n",
    "   \n",
    "\n",
    "- __`InvoiceDate`__: A datetime column that records the date and time of each transaction.\n",
    "\n",
    "    \n",
    "- __`UnitPrice`__: A float column representing the unit price of each product.\n",
    "\n",
    "    \n",
    "- __`CustomerID`__: A float column that contains the customer ID for each transaction. This column has a significant number of missing values, with only 406,829 non-null entries out of 541,909.\n",
    "\n",
    "    \n",
    "- __`Country`__: An object column recording the country where each transaction took place.\n",
    "\n",
    "From a preliminary overview, it seems that there are missing values in the `Description` and `CustomerID` columns which need to be addressed. The `InvoiceDate` column is already in datetime format, which will facilitate further time series analysis. We also observe that a single customer can have multiple transactions as inferred from the repeated `CustomerID` in the initial rows.\n",
    "\n",
    "The next steps would include deeper data cleaning and preprocessing to handle missing values, potentially erroneous data, and to create new features that can help in achieving the project goals."
   ]
  },
  {
   "cell_type": "markdown",
   "id": "5606eacb",
   "metadata": {
    "papermill": {
     "duration": 0.057565,
     "end_time": "2023-09-13T18:55:37.681334",
     "exception": false,
     "start_time": "2023-09-13T18:55:37.623769",
     "status": "completed"
    },
    "tags": []
   },
   "source": [
    "<a id=\"statistics\"></a>\n",
    "# <b><span style='color:#fcc36d'>Step 2.2 |</span><span style='color:#ff6200'> Summary Statistics</span></b>\n",
    "⬆️ [Tabel of Contents](#contents_tabel)"
   ]
  },
  {
   "cell_type": "markdown",
   "id": "a4b3d6d9",
   "metadata": {
    "papermill": {
     "duration": 0.056226,
     "end_time": "2023-09-13T18:55:37.795485",
     "exception": false,
     "start_time": "2023-09-13T18:55:37.739259",
     "status": "completed"
    },
    "tags": []
   },
   "source": [
    "<div style=\"border-radius:10px; padding: 15px; background-color: #ffeacc; font-size:120%; text-align:left\">\n",
    "    \n",
    "Now, we are going to generate summary statistics to gain initial insights into the data distribution:"
   ]
  },
  {
   "cell_type": "code",
   "execution_count": 7,
   "id": "e4fa41f6",
   "metadata": {
    "papermill": {
     "duration": 0.177485,
     "end_time": "2023-09-13T18:55:38.029051",
     "exception": false,
     "start_time": "2023-09-13T18:55:37.851566",
     "status": "completed"
    },
    "tags": []
   },
   "outputs": [
    {
     "data": {
      "text/html": [
       "<div>\n",
       "<style scoped>\n",
       "    .dataframe tbody tr th:only-of-type {\n",
       "        vertical-align: middle;\n",
       "    }\n",
       "\n",
       "    .dataframe tbody tr th {\n",
       "        vertical-align: top;\n",
       "    }\n",
       "\n",
       "    .dataframe thead th {\n",
       "        text-align: right;\n",
       "    }\n",
       "</style>\n",
       "<table border=\"1\" class=\"dataframe\">\n",
       "  <thead>\n",
       "    <tr style=\"text-align: right;\">\n",
       "      <th></th>\n",
       "      <th>count</th>\n",
       "      <th>mean</th>\n",
       "      <th>std</th>\n",
       "      <th>min</th>\n",
       "      <th>25%</th>\n",
       "      <th>50%</th>\n",
       "      <th>75%</th>\n",
       "      <th>max</th>\n",
       "    </tr>\n",
       "  </thead>\n",
       "  <tbody>\n",
       "    <tr>\n",
       "      <th>Quantity</th>\n",
       "      <td>541909.0</td>\n",
       "      <td>9.552250</td>\n",
       "      <td>218.081158</td>\n",
       "      <td>-80995.00</td>\n",
       "      <td>1.00</td>\n",
       "      <td>3.00</td>\n",
       "      <td>10.00</td>\n",
       "      <td>80995.0</td>\n",
       "    </tr>\n",
       "    <tr>\n",
       "      <th>UnitPrice</th>\n",
       "      <td>541909.0</td>\n",
       "      <td>4.611114</td>\n",
       "      <td>96.759853</td>\n",
       "      <td>-11062.06</td>\n",
       "      <td>1.25</td>\n",
       "      <td>2.08</td>\n",
       "      <td>4.13</td>\n",
       "      <td>38970.0</td>\n",
       "    </tr>\n",
       "    <tr>\n",
       "      <th>CustomerID</th>\n",
       "      <td>406829.0</td>\n",
       "      <td>15287.690570</td>\n",
       "      <td>1713.600303</td>\n",
       "      <td>12346.00</td>\n",
       "      <td>13953.00</td>\n",
       "      <td>15152.00</td>\n",
       "      <td>16791.00</td>\n",
       "      <td>18287.0</td>\n",
       "    </tr>\n",
       "  </tbody>\n",
       "</table>\n",
       "</div>"
      ],
      "text/plain": [
       "               count          mean          std       min       25%       50%  \\\n",
       "Quantity    541909.0      9.552250   218.081158 -80995.00      1.00      3.00   \n",
       "UnitPrice   541909.0      4.611114    96.759853 -11062.06      1.25      2.08   \n",
       "CustomerID  406829.0  15287.690570  1713.600303  12346.00  13953.00  15152.00   \n",
       "\n",
       "                 75%      max  \n",
       "Quantity       10.00  80995.0  \n",
       "UnitPrice       4.13  38970.0  \n",
       "CustomerID  16791.00  18287.0  "
      ]
     },
     "execution_count": 7,
     "metadata": {},
     "output_type": "execute_result"
    }
   ],
   "source": [
    "# Summary statistics for numerical variables\n",
    "df.describe().T"
   ]
  },
  {
   "cell_type": "code",
   "execution_count": 8,
   "id": "38d8e05d",
   "metadata": {
    "papermill": {
     "duration": 0.843701,
     "end_time": "2023-09-13T18:55:38.930130",
     "exception": false,
     "start_time": "2023-09-13T18:55:38.086429",
     "status": "completed"
    },
    "scrolled": true,
    "tags": []
   },
   "outputs": [
    {
     "data": {
      "text/html": [
       "<div>\n",
       "<style scoped>\n",
       "    .dataframe tbody tr th:only-of-type {\n",
       "        vertical-align: middle;\n",
       "    }\n",
       "\n",
       "    .dataframe tbody tr th {\n",
       "        vertical-align: top;\n",
       "    }\n",
       "\n",
       "    .dataframe thead th {\n",
       "        text-align: right;\n",
       "    }\n",
       "</style>\n",
       "<table border=\"1\" class=\"dataframe\">\n",
       "  <thead>\n",
       "    <tr style=\"text-align: right;\">\n",
       "      <th></th>\n",
       "      <th>count</th>\n",
       "      <th>unique</th>\n",
       "      <th>top</th>\n",
       "      <th>freq</th>\n",
       "    </tr>\n",
       "  </thead>\n",
       "  <tbody>\n",
       "    <tr>\n",
       "      <th>InvoiceNo</th>\n",
       "      <td>541909</td>\n",
       "      <td>25900</td>\n",
       "      <td>573585</td>\n",
       "      <td>1114</td>\n",
       "    </tr>\n",
       "    <tr>\n",
       "      <th>StockCode</th>\n",
       "      <td>541909</td>\n",
       "      <td>4070</td>\n",
       "      <td>85123A</td>\n",
       "      <td>2313</td>\n",
       "    </tr>\n",
       "    <tr>\n",
       "      <th>Description</th>\n",
       "      <td>540455</td>\n",
       "      <td>4223</td>\n",
       "      <td>WHITE HANGING HEART T-LIGHT HOLDER</td>\n",
       "      <td>2369</td>\n",
       "    </tr>\n",
       "    <tr>\n",
       "      <th>InvoiceDate</th>\n",
       "      <td>541909</td>\n",
       "      <td>23260</td>\n",
       "      <td>10/31/2011 14:41</td>\n",
       "      <td>1114</td>\n",
       "    </tr>\n",
       "    <tr>\n",
       "      <th>Country</th>\n",
       "      <td>541909</td>\n",
       "      <td>38</td>\n",
       "      <td>United Kingdom</td>\n",
       "      <td>495478</td>\n",
       "    </tr>\n",
       "  </tbody>\n",
       "</table>\n",
       "</div>"
      ],
      "text/plain": [
       "              count unique                                 top    freq\n",
       "InvoiceNo    541909  25900                              573585    1114\n",
       "StockCode    541909   4070                              85123A    2313\n",
       "Description  540455   4223  WHITE HANGING HEART T-LIGHT HOLDER    2369\n",
       "InvoiceDate  541909  23260                    10/31/2011 14:41    1114\n",
       "Country      541909     38                      United Kingdom  495478"
      ]
     },
     "execution_count": 8,
     "metadata": {},
     "output_type": "execute_result"
    }
   ],
   "source": [
    "# Summary statistics for categorical variables\n",
    "df.describe(include='object').T"
   ]
  },
  {
   "cell_type": "markdown",
   "id": "c5e67213",
   "metadata": {
    "papermill": {
     "duration": 0.060269,
     "end_time": "2023-09-13T18:55:39.048706",
     "exception": false,
     "start_time": "2023-09-13T18:55:38.988437",
     "status": "completed"
    },
    "tags": []
   },
   "source": [
    "<div style=\"border-radius:10px; padding: 15px; background-color: #ffeacc; font-size:120%; text-align:left\">\n",
    "<h3 align=\"left\"><font color=#ff6200>Inferences:</font></h3>\n",
    "\n",
    "\n",
    "- __`Quantity`__:\n",
    "   - The average quantity of products in a transaction is approximately 9.55.\n",
    "   - The quantity has a wide range, with a minimum value of -80995 and a maximum value of 80995. The negative values indicate returned or cancelled orders, which need to be handled appropriately.\n",
    "   - The standard deviation is quite large, indicating a significant spread in the data. The presence of outliers is indicated by a large difference between the maximum and the 75th percentile values.\n",
    "\n",
    "    \n",
    "- __`UnitPrice`__:\n",
    "   - The average unit price of the products is approximately 4.61.\n",
    "   - The unit price also shows a wide range, from -11062.06 to 38970, which suggests the presence of errors or noise in the data, as negative prices don't make sense.\n",
    "   - Similar to the Quantity column, the presence of outliers is indicated by a large difference between the maximum and the 75th percentile values.\n",
    " \n",
    "    \n",
    "- __`CustomerID`__:\n",
    "   - There are 406829 non-null entries, indicating missing values in the dataset which need to be addressed.\n",
    "   - The Customer IDs range from 12346 to 18287, helping in identifying unique customers.\n",
    "\n",
    "    \n",
    "- __`InvoiceNo`__:\n",
    "   - There are 25900 unique invoice numbers, indicating 25900 separate transactions.\n",
    "   - The most frequent invoice number is 573585, appearing 1114 times, possibly representing a large transaction or an order with multiple items.\n",
    "\n",
    "    \n",
    "- __`StockCode`__:\n",
    "   - There are 4070 unique stock codes representing different products.\n",
    "   - The most frequent stock code is 85123A, appearing 2313 times in the dataset.\n",
    "\n",
    "    \n",
    "- __`Description`__:\n",
    "   - There are 4223 unique product descriptions.\n",
    "   - The most frequent product description is \"WHITE HANGING HEART T-LIGHT HOLDER\", appearing 2369 times.\n",
    "   - There are some missing values in this column which need to be treated.\n",
    "\n",
    "    \n",
    "- __`Country`__:\n",
    "   - The transactions come from 38 different countries, with a dominant majority of the transactions (approximately 91.4%) originating from the United Kingdom."
   ]
  },
  {
   "cell_type": "markdown",
   "id": "e987c3f4",
   "metadata": {
    "papermill": {
     "duration": 0.058377,
     "end_time": "2023-09-13T18:55:39.164241",
     "exception": false,
     "start_time": "2023-09-13T18:55:39.105864",
     "status": "completed"
    },
    "tags": []
   },
   "source": [
    "<a id=\"data_cleaning\"></a>\n",
    "# <p style=\"background-color: #ff6200; font-family:calibri; color:white; font-size:140%; font-family:Verdana; text-align:center; border-radius:15px 50px;\">Step 3 |  Data Cleaning & Transformation</p>\n",
    "⬆️ [Tabel of Contents](#contents_tabel)"
   ]
  },
  {
   "cell_type": "markdown",
   "id": "c3c78453",
   "metadata": {
    "papermill": {
     "duration": 0.057457,
     "end_time": "2023-09-13T18:55:39.281958",
     "exception": false,
     "start_time": "2023-09-13T18:55:39.224501",
     "status": "completed"
    },
    "tags": []
   },
   "source": [
    "<div style=\"border-radius:10px; padding: 15px; background-color: #ffeacc; font-size:120%; text-align:left\">\n",
    "\n",
    "This step encompasses a comprehensive cleaning and transformation process to refine the dataset. It includes addressing missing values, eliminating duplicate entries, correcting anomalies in product codes and descriptions, and other necessary adjustments to prepare the data for in-depth analysis and modeling."
   ]
  },
  {
   "cell_type": "markdown",
   "id": "5352c8a4",
   "metadata": {
    "papermill": {
     "duration": 0.05663,
     "end_time": "2023-09-13T18:55:39.395575",
     "exception": false,
     "start_time": "2023-09-13T18:55:39.338945",
     "status": "completed"
    },
    "tags": []
   },
   "source": [
    "<a id=\"missing_values\"></a>\n",
    "# <b><span style='color:#fcc36d'>Step 3.1 |</span><span style='color:#ff6200'> Handling Missing Values</span></b>\n",
    "⬆️ [Tabel of Contents](#contents_tabel)"
   ]
  },
  {
   "cell_type": "markdown",
   "id": "44be9a3d",
   "metadata": {
    "papermill": {
     "duration": 0.056136,
     "end_time": "2023-09-13T18:55:39.509898",
     "exception": false,
     "start_time": "2023-09-13T18:55:39.453762",
     "status": "completed"
    },
    "tags": []
   },
   "source": [
    "<div style=\"border-radius:10px; padding: 15px; background-color: #ffeacc; font-size:120%; text-align:left\">\n",
    "    \n",
    "Initially, we will determine the percentage of missing values present in each column, followed by selecting the most effective strategy to address them:"
   ]
  },
  {
   "cell_type": "code",
   "execution_count": 9,
   "id": "f7b6abe6",
   "metadata": {
    "papermill": {
     "duration": 0.983847,
     "end_time": "2023-09-13T18:55:40.553710",
     "exception": false,
     "start_time": "2023-09-13T18:55:39.569863",
     "status": "completed"
    },
    "tags": []
   },
   "outputs": [
    {
     "data": {
      "image/png": "[encoded data removed]",
      "text/plain": [
       "<Figure size 1500x400 with 1 Axes>"
      ]
     },
     "metadata": {},
     "output_type": "display_data"
    }
   ],
   "source": [
    "# Calculating the percentage of missing values for each column\n",
    "missing_data = df.isnull().sum()\n",
    "missing_percentage = (missing_data[missing_data > 0] / df.shape[0]) * 100\n",
    "\n",
    "# Prepare values\n",
    "missing_percentage.sort_values(ascending=True, inplace=True)\n",
    "\n",
    "# Plot the barh chart\n",
    "fig, ax = plt.subplots(figsize=(15, 4))\n",
    "ax.barh(missing_percentage.index, missing_percentage, color='#ff6200')\n",
    "\n",
    "# Annotate the values and indexes\n",
    "for i, (value, name) in enumerate(zip(missing_percentage, missing_percentage.index)):\n",
    "    ax.text(value+0.5, i, f\"{value:.2f}%\", ha='left', va='center', fontweight='bold', fontsize=18, color='black')\n",
    "\n",
    "# Set x-axis limit\n",
    "ax.set_xlim([0, 40])\n",
    "\n",
    "# Add title and xlabel\n",
    "plt.title(\"Percentage of Missing Values\", fontweight='bold', fontsize=22)\n",
    "plt.xlabel('Percentages (%)', fontsize=16)\n",
    "plt.show()"
   ]
  },
  {
   "cell_type": "markdown",
   "id": "b59b382a",
   "metadata": {
    "papermill": {
     "duration": 0.0648,
     "end_time": "2023-09-13T18:55:40.684001",
     "exception": false,
     "start_time": "2023-09-13T18:55:40.619201",
     "status": "completed"
    },
    "tags": []
   },
   "source": [
    "<div style=\"border-radius:10px; padding: 15px; background-color: #ffeacc; font-size:120%; text-align:left\">\n",
    "\n",
    "<h3 align=\"left\"><font color=#ff6200>Handling Missing Values Strategy:</font></h3>\n",
    "\n",
    "- __`CustomerID` (24.93% missing values)__\n",
    "   - The `CustomerID` column contains nearly a quarter of missing data. This column is essential for clustering customers and creating a recommendation system. Imputing such a large percentage of missing values might introduce significant bias or noise into the analysis.\n",
    "    \n",
    "   - Moreover, since the clustering is based on customer behavior and preferences, it's crucial to have accurate data on customer identifiers. Therefore, removing the rows with missing `CustomerID`s seems to be the most reasonable approach to maintain the integrity of the clusters and the analysis.\n",
    "\n",
    "    \n",
    "- __`Description` (0.27% missing values)__\n",
    "   - The `Description` column has a minor percentage of missing values. However, it has been noticed that there are inconsistencies in the data where the same `StockCode` does not always have the same `Description`. This indicates data quality issues and potential errors in the product descriptions.\n",
    "    \n",
    "   - Given these inconsistencies, imputing the missing descriptions based on `StockCode` might not be reliable. Moreover, since the missing percentage is quite low, it would be prudent to remove the rows with missing `Description`s to avoid propagating errors and inconsistencies into the subsequent analyses.\n",
    "   \n",
    "By removing rows with missing values in the `CustomerID` and `Description` columns, we aim to construct a cleaner and more reliable dataset, which is essential for achieving accurate clustering and creating an effective recommendation system.\n"
   ]
  },
  {
   "cell_type": "code",
   "execution_count": 10,
   "id": "1ec499ed",
   "metadata": {
    "papermill": {
     "duration": 0.161893,
     "end_time": "2023-09-13T18:55:40.910774",
     "exception": false,
     "start_time": "2023-09-13T18:55:40.748881",
     "status": "completed"
    },
    "tags": []
   },
   "outputs": [
    {
     "data": {
      "text/html": [
       "<div>\n",
       "<style scoped>\n",
       "    .dataframe tbody tr th:only-of-type {\n",
       "        vertical-align: middle;\n",
       "    }\n",
       "\n",
       "    .dataframe tbody tr th {\n",
       "        vertical-align: top;\n",
       "    }\n",
       "\n",
       "    .dataframe thead th {\n",
       "        text-align: right;\n",
       "    }\n",
       "</style>\n",
       "<table border=\"1\" class=\"dataframe\">\n",
       "  <thead>\n",
       "    <tr style=\"text-align: right;\">\n",
       "      <th></th>\n",
       "      <th>InvoiceNo</th>\n",
       "      <th>StockCode</th>\n",
       "      <th>Description</th>\n",
       "      <th>Quantity</th>\n",
       "      <th>InvoiceDate</th>\n",
       "      <th>UnitPrice</th>\n",
       "      <th>CustomerID</th>\n",
       "      <th>Country</th>\n",
       "    </tr>\n",
       "  </thead>\n",
       "  <tbody>\n",
       "    <tr>\n",
       "      <th>622</th>\n",
       "      <td>536414</td>\n",
       "      <td>22139</td>\n",
       "      <td>NaN</td>\n",
       "      <td>56</td>\n",
       "      <td>12/1/2010 11:52</td>\n",
       "      <td>0.00</td>\n",
       "      <td>NaN</td>\n",
       "      <td>United Kingdom</td>\n",
       "    </tr>\n",
       "    <tr>\n",
       "      <th>1443</th>\n",
       "      <td>536544</td>\n",
       "      <td>21773</td>\n",
       "      <td>DECORATIVE ROSE BATHROOM BOTTLE</td>\n",
       "      <td>1</td>\n",
       "      <td>12/1/2010 14:32</td>\n",
       "      <td>2.51</td>\n",
       "      <td>NaN</td>\n",
       "      <td>United Kingdom</td>\n",
       "    </tr>\n",
       "    <tr>\n",
       "      <th>1444</th>\n",
       "      <td>536544</td>\n",
       "      <td>21774</td>\n",
       "      <td>DECORATIVE CATS BATHROOM BOTTLE</td>\n",
       "      <td>2</td>\n",
       "      <td>12/1/2010 14:32</td>\n",
       "      <td>2.51</td>\n",
       "      <td>NaN</td>\n",
       "      <td>United Kingdom</td>\n",
       "    </tr>\n",
       "    <tr>\n",
       "      <th>1445</th>\n",
       "      <td>536544</td>\n",
       "      <td>21786</td>\n",
       "      <td>POLKADOT RAIN HAT</td>\n",
       "      <td>4</td>\n",
       "      <td>12/1/2010 14:32</td>\n",
       "      <td>0.85</td>\n",
       "      <td>NaN</td>\n",
       "      <td>United Kingdom</td>\n",
       "    </tr>\n",
       "    <tr>\n",
       "      <th>1446</th>\n",
       "      <td>536544</td>\n",
       "      <td>21787</td>\n",
       "      <td>RAIN PONCHO RETROSPOT</td>\n",
       "      <td>2</td>\n",
       "      <td>12/1/2010 14:32</td>\n",
       "      <td>1.66</td>\n",
       "      <td>NaN</td>\n",
       "      <td>United Kingdom</td>\n",
       "    </tr>\n",
       "  </tbody>\n",
       "</table>\n",
       "</div>"
      ],
      "text/plain": [
       "     InvoiceNo StockCode                      Description  Quantity  \\\n",
       "622     536414     22139                              NaN        56   \n",
       "1443    536544     21773  DECORATIVE ROSE BATHROOM BOTTLE         1   \n",
       "1444    536544     21774  DECORATIVE CATS BATHROOM BOTTLE         2   \n",
       "1445    536544     21786               POLKADOT RAIN HAT          4   \n",
       "1446    536544     21787            RAIN PONCHO RETROSPOT         2   \n",
       "\n",
       "          InvoiceDate  UnitPrice  CustomerID         Country  \n",
       "622   12/1/2010 11:52       0.00         NaN  United Kingdom  \n",
       "1443  12/1/2010 14:32       2.51         NaN  United Kingdom  \n",
       "1444  12/1/2010 14:32       2.51         NaN  United Kingdom  \n",
       "1445  12/1/2010 14:32       0.85         NaN  United Kingdom  \n",
       "1446  12/1/2010 14:32       1.66         NaN  United Kingdom  "
      ]
     },
     "execution_count": 10,
     "metadata": {},
     "output_type": "execute_result"
    }
   ],
   "source": [
    "# Extracting rows with missing values in 'CustomerID' or 'Description' columns\n",
    "df[df['CustomerID'].isnull() | df['Description'].isnull()].head()"
   ]
  },
  {
   "cell_type": "code",
   "execution_count": 11,
   "id": "9be2cf0c",
   "metadata": {
    "papermill": {
     "duration": 0.200287,
     "end_time": "2023-09-13T18:55:41.174169",
     "exception": false,
     "start_time": "2023-09-13T18:55:40.973882",
     "status": "completed"
    },
    "tags": []
   },
   "outputs": [],
   "source": [
    "# Removing rows with missing values in 'CustomerID' and 'Description' columns\n",
    "df = df.dropna(subset=['CustomerID', 'Description'])"
   ]
  },
  {
   "cell_type": "code",
   "execution_count": 12,
   "id": "7c7a2e89",
   "metadata": {
    "papermill": {
     "duration": 0.283735,
     "end_time": "2023-09-13T18:55:41.515200",
     "exception": false,
     "start_time": "2023-09-13T18:55:41.231465",
     "status": "completed"
    },
    "tags": []
   },
   "outputs": [
    {
     "data": {
      "text/plain": [
       "0"
      ]
     },
     "execution_count": 12,
     "metadata": {},
     "output_type": "execute_result"
    }
   ],
   "source": [
    "# Verifying the removal of missing values\n",
    "df.isnull().sum().sum()"
   ]
  },
  {
   "cell_type": "markdown",
   "id": "29966208",
   "metadata": {
    "papermill": {
     "duration": 0.056893,
     "end_time": "2023-09-13T18:55:41.630113",
     "exception": false,
     "start_time": "2023-09-13T18:55:41.573220",
     "status": "completed"
    },
    "tags": []
   },
   "source": [
    "<a id=\"duplicates\"></a>\n",
    "# <b><span style='color:#fcc36d'>Step 3.2 |</span><span style='color:#ff6200'> Handling Duplicates</span></b>\n",
    "⬆️ [Tabel of Contents](#contents_tabel)"
   ]
  },
  {
   "cell_type": "markdown",
   "id": "d2c36b71",
   "metadata": {
    "papermill": {
     "duration": 0.059306,
     "end_time": "2023-09-13T18:55:41.748028",
     "exception": false,
     "start_time": "2023-09-13T18:55:41.688722",
     "status": "completed"
    },
    "tags": []
   },
   "source": [
    "<div style=\"border-radius:10px; padding: 15px; background-color: #ffeacc; font-size:120%; text-align:left\">\n",
    "    \n",
    "Next, we are going to recognize duplicate rows in the dataset:"
   ]
  },
  {
   "cell_type": "code",
   "execution_count": 13,
   "id": "b5d579fb",
   "metadata": {
    "papermill": {
     "duration": 0.505381,
     "end_time": "2023-09-13T18:55:42.311188",
     "exception": false,
     "start_time": "2023-09-13T18:55:41.805807",
     "status": "completed"
    },
    "tags": []
   },
   "outputs": [
    {
     "data": {
      "text/html": [
       "<div>\n",
       "<style scoped>\n",
       "    .dataframe tbody tr th:only-of-type {\n",
       "        vertical-align: middle;\n",
       "    }\n",
       "\n",
       "    .dataframe tbody tr th {\n",
       "        vertical-align: top;\n",
       "    }\n",
       "\n",
       "    .dataframe thead th {\n",
       "        text-align: right;\n",
       "    }\n",
       "</style>\n",
       "<table border=\"1\" class=\"dataframe\">\n",
       "  <thead>\n",
       "    <tr style=\"text-align: right;\">\n",
       "      <th></th>\n",
       "      <th>InvoiceNo</th>\n",
       "      <th>StockCode</th>\n",
       "      <th>Description</th>\n",
       "      <th>Quantity</th>\n",
       "      <th>InvoiceDate</th>\n",
       "      <th>UnitPrice</th>\n",
       "      <th>CustomerID</th>\n",
       "      <th>Country</th>\n",
       "    </tr>\n",
       "  </thead>\n",
       "  <tbody>\n",
       "    <tr>\n",
       "      <th>494</th>\n",
       "      <td>536409</td>\n",
       "      <td>21866</td>\n",
       "      <td>UNION JACK FLAG LUGGAGE TAG</td>\n",
       "      <td>1</td>\n",
       "      <td>12/1/2010 11:45</td>\n",
       "      <td>1.25</td>\n",
       "      <td>17908.0</td>\n",
       "      <td>United Kingdom</td>\n",
       "    </tr>\n",
       "    <tr>\n",
       "      <th>517</th>\n",
       "      <td>536409</td>\n",
       "      <td>21866</td>\n",
       "      <td>UNION JACK FLAG LUGGAGE TAG</td>\n",
       "      <td>1</td>\n",
       "      <td>12/1/2010 11:45</td>\n",
       "      <td>1.25</td>\n",
       "      <td>17908.0</td>\n",
       "      <td>United Kingdom</td>\n",
       "    </tr>\n",
       "    <tr>\n",
       "      <th>485</th>\n",
       "      <td>536409</td>\n",
       "      <td>22111</td>\n",
       "      <td>SCOTTIE DOG HOT WATER BOTTLE</td>\n",
       "      <td>1</td>\n",
       "      <td>12/1/2010 11:45</td>\n",
       "      <td>4.95</td>\n",
       "      <td>17908.0</td>\n",
       "      <td>United Kingdom</td>\n",
       "    </tr>\n",
       "    <tr>\n",
       "      <th>539</th>\n",
       "      <td>536409</td>\n",
       "      <td>22111</td>\n",
       "      <td>SCOTTIE DOG HOT WATER BOTTLE</td>\n",
       "      <td>1</td>\n",
       "      <td>12/1/2010 11:45</td>\n",
       "      <td>4.95</td>\n",
       "      <td>17908.0</td>\n",
       "      <td>United Kingdom</td>\n",
       "    </tr>\n",
       "    <tr>\n",
       "      <th>489</th>\n",
       "      <td>536409</td>\n",
       "      <td>22866</td>\n",
       "      <td>HAND WARMER SCOTTY DOG DESIGN</td>\n",
       "      <td>1</td>\n",
       "      <td>12/1/2010 11:45</td>\n",
       "      <td>2.10</td>\n",
       "      <td>17908.0</td>\n",
       "      <td>United Kingdom</td>\n",
       "    </tr>\n",
       "    <tr>\n",
       "      <th>527</th>\n",
       "      <td>536409</td>\n",
       "      <td>22866</td>\n",
       "      <td>HAND WARMER SCOTTY DOG DESIGN</td>\n",
       "      <td>1</td>\n",
       "      <td>12/1/2010 11:45</td>\n",
       "      <td>2.10</td>\n",
       "      <td>17908.0</td>\n",
       "      <td>United Kingdom</td>\n",
       "    </tr>\n",
       "    <tr>\n",
       "      <th>521</th>\n",
       "      <td>536409</td>\n",
       "      <td>22900</td>\n",
       "      <td>SET 2 TEA TOWELS I LOVE LONDON</td>\n",
       "      <td>1</td>\n",
       "      <td>12/1/2010 11:45</td>\n",
       "      <td>2.95</td>\n",
       "      <td>17908.0</td>\n",
       "      <td>United Kingdom</td>\n",
       "    </tr>\n",
       "    <tr>\n",
       "      <th>537</th>\n",
       "      <td>536409</td>\n",
       "      <td>22900</td>\n",
       "      <td>SET 2 TEA TOWELS I LOVE LONDON</td>\n",
       "      <td>1</td>\n",
       "      <td>12/1/2010 11:45</td>\n",
       "      <td>2.95</td>\n",
       "      <td>17908.0</td>\n",
       "      <td>United Kingdom</td>\n",
       "    </tr>\n",
       "    <tr>\n",
       "      <th>578</th>\n",
       "      <td>536412</td>\n",
       "      <td>21448</td>\n",
       "      <td>12 DAISY PEGS IN WOOD BOX</td>\n",
       "      <td>1</td>\n",
       "      <td>12/1/2010 11:49</td>\n",
       "      <td>1.65</td>\n",
       "      <td>17920.0</td>\n",
       "      <td>United Kingdom</td>\n",
       "    </tr>\n",
       "    <tr>\n",
       "      <th>598</th>\n",
       "      <td>536412</td>\n",
       "      <td>21448</td>\n",
       "      <td>12 DAISY PEGS IN WOOD BOX</td>\n",
       "      <td>1</td>\n",
       "      <td>12/1/2010 11:49</td>\n",
       "      <td>1.65</td>\n",
       "      <td>17920.0</td>\n",
       "      <td>United Kingdom</td>\n",
       "    </tr>\n",
       "  </tbody>\n",
       "</table>\n",
       "</div>"
      ],
      "text/plain": [
       "    InvoiceNo StockCode                       Description  Quantity  \\\n",
       "494    536409     21866       UNION JACK FLAG LUGGAGE TAG         1   \n",
       "517    536409     21866       UNION JACK FLAG LUGGAGE TAG         1   \n",
       "485    536409     22111      SCOTTIE DOG HOT WATER BOTTLE         1   \n",
       "539    536409     22111      SCOTTIE DOG HOT WATER BOTTLE         1   \n",
       "489    536409     22866     HAND WARMER SCOTTY DOG DESIGN         1   \n",
       "527    536409     22866     HAND WARMER SCOTTY DOG DESIGN         1   \n",
       "521    536409     22900   SET 2 TEA TOWELS I LOVE LONDON          1   \n",
       "537    536409     22900   SET 2 TEA TOWELS I LOVE LONDON          1   \n",
       "578    536412     21448         12 DAISY PEGS IN WOOD BOX         1   \n",
       "598    536412     21448         12 DAISY PEGS IN WOOD BOX         1   \n",
       "\n",
       "         InvoiceDate  UnitPrice  CustomerID         Country  \n",
       "494  12/1/2010 11:45       1.25     17908.0  United Kingdom  \n",
       "517  12/1/2010 11:45       1.25     17908.0  United Kingdom  \n",
       "485  12/1/2010 11:45       4.95     17908.0  United Kingdom  \n",
       "539  12/1/2010 11:45       4.95     17908.0  United Kingdom  \n",
       "489  12/1/2010 11:45       2.10     17908.0  United Kingdom  \n",
       "527  12/1/2010 11:45       2.10     17908.0  United Kingdom  \n",
       "521  12/1/2010 11:45       2.95     17908.0  United Kingdom  \n",
       "537  12/1/2010 11:45       2.95     17908.0  United Kingdom  \n",
       "578  12/1/2010 11:49       1.65     17920.0  United Kingdom  \n",
       "598  12/1/2010 11:49       1.65     17920.0  United Kingdom  "
      ]
     },
     "execution_count": 13,
     "metadata": {},
     "output_type": "execute_result"
    }
   ],
   "source": [
    "# Finding duplicate rows (keeping all instances)\n",
    "duplicate_rows = df[df.duplicated(keep=False)]\n",
    "\n",
    "# Sorting the data by certain columns to see the duplicate rows next to each other\n",
    "duplicate_rows_sorted = duplicate_rows.sort_values(by=['InvoiceNo', 'StockCode', 'Description', 'CustomerID', 'Quantity'])\n",
    "\n",
    "# Displaying the first 10 records\n",
    "duplicate_rows_sorted.head(10)"
   ]
  },
  {
   "cell_type": "markdown",
   "id": "f20175f9",
   "metadata": {
    "papermill": {
     "duration": 0.059643,
     "end_time": "2023-09-13T18:55:42.430422",
     "exception": false,
     "start_time": "2023-09-13T18:55:42.370779",
     "status": "completed"
    },
    "tags": []
   },
   "source": [
    "<div style=\"border-radius:10px; padding: 15px; background-color: #ffeacc; font-size:120%; text-align:left\">\n",
    "\n",
    "<h3 align=\"left\"><font color=#ff6200>Handling Duplicates Strategy:</font></h3>\n",
    "    \n",
    "In the context of this project, the presence of completely identical rows, including identical transaction times, suggests that these might be data recording errors rather than genuine repeated transactions. Keeping these duplicate rows can introduce noise and potential inaccuracies in the clustering and recommendation system. \n",
    "\n",
    "Therefore, I am going to remove these completely identical duplicate rows from the dataset. Removing these rows will help in achieving a cleaner dataset, which in turn would aid in building more accurate customer clusters based on their unique purchasing behaviors. Moreover, it would help in creating a more precise recommendation system by correctly identifying the products with the most purchases."
   ]
  },
  {
   "cell_type": "code",
   "execution_count": 14,
   "id": "82d2b098",
   "metadata": {
    "papermill": {
     "duration": 0.854262,
     "end_time": "2023-09-13T18:55:43.343966",
     "exception": false,
     "start_time": "2023-09-13T18:55:42.489704",
     "status": "completed"
    },
    "tags": []
   },
   "outputs": [
    {
     "name": "stdout",
     "output_type": "stream",
     "text": [
      "The dataset contains 5225 duplicate rows that need to be removed.\n"
     ]
    }
   ],
   "source": [
    "# Displaying the number of duplicate rows\n",
    "print(f\"The dataset contains {df.duplicated().sum()} duplicate rows that need to be removed.\")\n",
    "\n",
    "# Removing duplicate rows\n",
    "df.drop_duplicates(inplace=True)"
   ]
  },
  {
   "cell_type": "code",
   "execution_count": 15,
   "id": "96102471",
   "metadata": {
    "papermill": {
     "duration": 0.073206,
     "end_time": "2023-09-13T18:55:43.478411",
     "exception": false,
     "start_time": "2023-09-13T18:55:43.405205",
     "status": "completed"
    },
    "tags": []
   },
   "outputs": [
    {
     "data": {
      "text/plain": [
       "401604"
      ]
     },
     "execution_count": 15,
     "metadata": {},
     "output_type": "execute_result"
    }
   ],
   "source": [
    "# Getting the number of rows in the dataframe\n",
    "df.shape[0]"
   ]
  },
  {
   "cell_type": "markdown",
   "id": "23ff4f89",
   "metadata": {
    "papermill": {
     "duration": 0.060407,
     "end_time": "2023-09-13T18:55:43.599222",
     "exception": false,
     "start_time": "2023-09-13T18:55:43.538815",
     "status": "completed"
    },
    "tags": []
   },
   "source": [
    "<a id=\"InvoiceNo_cleaning\"></a>\n",
    "# <b><span style='color:#fcc36d'>Step 3.3 |</span><span style='color:#ff6200'> Treating Cancelled Transactions</span></b>\n",
    "⬆️ [Tabel of Contents](#contents_tabel)"
   ]
  },
  {
   "cell_type": "markdown",
   "id": "30afd646",
   "metadata": {
    "papermill": {
     "duration": 0.07041,
     "end_time": "2023-09-13T18:55:43.749148",
     "exception": false,
     "start_time": "2023-09-13T18:55:43.678738",
     "status": "completed"
    },
    "tags": []
   },
   "source": [
    "<div style=\"border-radius:10px; padding: 15px; background-color: #ffeacc; font-size:120%; text-align:left\">\n",
    "\n",
    "To refine our understanding of customer behavior and preferences, we need to take into account the transactions that were cancelled. Initially, we will identify these transactions by filtering the rows where the `InvoiceNo` starts with \"C\". Subsequently, we will analyze these rows to understand their common characteristics or patterns:"
   ]
  },
  {
   "cell_type": "code",
   "execution_count": 16,
   "id": "19e11e75",
   "metadata": {
    "papermill": {
     "duration": 0.486159,
     "end_time": "2023-09-13T18:55:44.294362",
     "exception": false,
     "start_time": "2023-09-13T18:55:43.808203",
     "status": "completed"
    },
    "tags": []
   },
   "outputs": [
    {
     "data": {
      "text/html": [
       "<div>\n",
       "<style scoped>\n",
       "    .dataframe tbody tr th:only-of-type {\n",
       "        vertical-align: middle;\n",
       "    }\n",
       "\n",
       "    .dataframe tbody tr th {\n",
       "        vertical-align: top;\n",
       "    }\n",
       "\n",
       "    .dataframe thead th {\n",
       "        text-align: right;\n",
       "    }\n",
       "</style>\n",
       "<table border=\"1\" class=\"dataframe\">\n",
       "  <thead>\n",
       "    <tr style=\"text-align: right;\">\n",
       "      <th></th>\n",
       "      <th>Quantity</th>\n",
       "      <th>UnitPrice</th>\n",
       "    </tr>\n",
       "  </thead>\n",
       "  <tbody>\n",
       "    <tr>\n",
       "      <th>count</th>\n",
       "      <td>8872.000000</td>\n",
       "      <td>8872.000000</td>\n",
       "    </tr>\n",
       "    <tr>\n",
       "      <th>mean</th>\n",
       "      <td>-30.774910</td>\n",
       "      <td>18.899512</td>\n",
       "    </tr>\n",
       "    <tr>\n",
       "      <th>std</th>\n",
       "      <td>1172.249902</td>\n",
       "      <td>445.190864</td>\n",
       "    </tr>\n",
       "    <tr>\n",
       "      <th>min</th>\n",
       "      <td>-80995.000000</td>\n",
       "      <td>0.010000</td>\n",
       "    </tr>\n",
       "    <tr>\n",
       "      <th>25%</th>\n",
       "      <td>-6.000000</td>\n",
       "      <td>1.450000</td>\n",
       "    </tr>\n",
       "    <tr>\n",
       "      <th>50%</th>\n",
       "      <td>-2.000000</td>\n",
       "      <td>2.950000</td>\n",
       "    </tr>\n",
       "    <tr>\n",
       "      <th>75%</th>\n",
       "      <td>-1.000000</td>\n",
       "      <td>4.950000</td>\n",
       "    </tr>\n",
       "    <tr>\n",
       "      <th>max</th>\n",
       "      <td>-1.000000</td>\n",
       "      <td>38970.000000</td>\n",
       "    </tr>\n",
       "  </tbody>\n",
       "</table>\n",
       "</div>"
      ],
      "text/plain": [
       "           Quantity     UnitPrice\n",
       "count   8872.000000   8872.000000\n",
       "mean     -30.774910     18.899512\n",
       "std     1172.249902    445.190864\n",
       "min   -80995.000000      0.010000\n",
       "25%       -6.000000      1.450000\n",
       "50%       -2.000000      2.950000\n",
       "75%       -1.000000      4.950000\n",
       "max       -1.000000  38970.000000"
      ]
     },
     "execution_count": 16,
     "metadata": {},
     "output_type": "execute_result"
    }
   ],
   "source": [
    "# Filter out the rows with InvoiceNo starting with \"C\" and create a new column indicating the transaction status\n",
    "df['Transaction_Status'] = np.where(df['InvoiceNo'].astype(str).str.startswith('C'), 'Cancelled', 'Completed')\n",
    "\n",
    "# Analyze the characteristics of these rows (considering the new column)\n",
    "cancelled_transactions = df[df['Transaction_Status'] == 'Cancelled']\n",
    "cancelled_transactions.describe().drop('CustomerID', axis=1)"
   ]
  },
  {
   "cell_type": "markdown",
   "id": "6e474de4",
   "metadata": {
    "papermill": {
     "duration": 0.060071,
     "end_time": "2023-09-13T18:55:44.415175",
     "exception": false,
     "start_time": "2023-09-13T18:55:44.355104",
     "status": "completed"
    },
    "tags": []
   },
   "source": [
    "<div style=\"border-radius:10px; padding: 15px; background-color: #ffeacc; font-size:120%; text-align:left\">\n",
    "<h3 align=\"left\"><font color=#ff6200>Inferences from the Cancelled Transactions Data:</font></h3>\n",
    "\n",
    "- All quantities in the cancelled transactions are negative, indicating that these are indeed orders that were cancelled.\n",
    "    \n",
    "    \n",
    "- The `UnitPrice` column has a considerable spread, showing that a variety of products, from low to high value, were part of the cancelled transactions.\n",
    "\n"
   ]
  },
  {
   "cell_type": "markdown",
   "id": "137fcbd2",
   "metadata": {
    "papermill": {
     "duration": 0.060423,
     "end_time": "2023-09-13T18:55:44.534939",
     "exception": false,
     "start_time": "2023-09-13T18:55:44.474516",
     "status": "completed"
    },
    "tags": []
   },
   "source": [
    "<div style=\"border-radius:10px; padding: 15px; background-color: #ffeacc; font-size:120%; text-align:left\">\n",
    "<h3 align=\"left\"><font color=#ff6200>Strategy for Handling Cancelled Transactions:</font></h3>\n",
    "    \n",
    "Considering the project's objective to cluster customers based on their purchasing behavior and preferences and to eventually create a recommendation system, it's imperative to understand the cancellation patterns of customers. Therefore, the strategy is to retain these cancelled transactions in the dataset, marking them distinctly to facilitate further analysis. This approach will:\n",
    "\n",
    "- Enhance the clustering process by incorporating patterns and trends observed in cancellation data, which might represent certain customer behaviors or preferences.\n",
    "    \n",
    "    \n",
    "- Allow the recommendation system to possibly prevent suggesting products that have a high likelihood of being cancelled, thereby improving the quality of recommendations.\n",
    "\n"
   ]
  },
  {
   "cell_type": "code",
   "execution_count": 17,
   "id": "d9b1427b",
   "metadata": {
    "papermill": {
     "duration": 0.073523,
     "end_time": "2023-09-13T18:55:44.671722",
     "exception": false,
     "start_time": "2023-09-13T18:55:44.598199",
     "status": "completed"
    },
    "tags": []
   },
   "outputs": [
    {
     "name": "stdout",
     "output_type": "stream",
     "text": [
      "The percentage of cancelled transactions in the dataset is: 2.21%\n"
     ]
    }
   ],
   "source": [
    "# Finding the percentage of cancelled transactions\n",
    "cancelled_percentage = (cancelled_transactions.shape[0] / df.shape[0]) * 100\n",
    "\n",
    "# Printing the percentage of cancelled transactions\n",
    "print(f\"The percentage of cancelled transactions in the dataset is: {cancelled_percentage:.2f}%\")"
   ]
  },
  {
   "cell_type": "markdown",
   "id": "b00cc10e",
   "metadata": {
    "papermill": {
     "duration": 0.060775,
     "end_time": "2023-09-13T18:55:44.793574",
     "exception": false,
     "start_time": "2023-09-13T18:55:44.732799",
     "status": "completed"
    },
    "tags": []
   },
   "source": [
    "<a id=\"StockCode_cleaning\"></a>\n",
    "# <b><span style='color:#fcc36d'>Step 3.4 |</span><span style='color:#ff6200'> Correcting StockCode Anomalies</span></b>\n",
    "⬆️ [Tabel of Contents](#contents_tabel)"
   ]
  },
  {
   "cell_type": "markdown",
   "id": "11c2b476",
   "metadata": {
    "papermill": {
     "duration": 0.061598,
     "end_time": "2023-09-13T18:55:44.916653",
     "exception": false,
     "start_time": "2023-09-13T18:55:44.855055",
     "status": "completed"
    },
    "tags": []
   },
   "source": [
    "<div style=\"border-radius:10px; padding: 15px; background-color: #ffeacc; font-size:120%; text-align:left\">\n",
    "\n",
    "First of all, lets find the number of unique stock codes and to plot the top 10 most frequent stock codes along with their percentage frequency:"
   ]
  },
  {
   "cell_type": "code",
   "execution_count": 18,
   "id": "3c8eb6d4",
   "metadata": {
    "papermill": {
     "duration": 0.116377,
     "end_time": "2023-09-13T18:55:45.095198",
     "exception": false,
     "start_time": "2023-09-13T18:55:44.978821",
     "status": "completed"
    },
    "tags": []
   },
   "outputs": [
    {
     "name": "stdout",
     "output_type": "stream",
     "text": [
      "The number of unique stock codes in the dataset is: 3684\n"
     ]
    }
   ],
   "source": [
    "# Finding the number of unique stock codes\n",
    "unique_stock_codes = df['StockCode'].nunique()\n",
    "\n",
    "# Printing the number of unique stock codes\n",
    "print(f\"The number of unique stock codes in the dataset is: {unique_stock_codes}\")"
   ]
  },
  {
   "cell_type": "code",
   "execution_count": 19,
   "id": "af68693a",
   "metadata": {
    "papermill": {
     "duration": 0.623504,
     "end_time": "2023-09-13T18:55:45.780969",
     "exception": false,
     "start_time": "2023-09-13T18:55:45.157465",
     "status": "completed"
    },
    "tags": []
   },
   "outputs": [
    {
     "data": {
      "image/png": "[encoded data removed]",
      "text/plain": [
       "<Figure size 1200x500 with 1 Axes>"
      ]
     },
     "metadata": {},
     "output_type": "display_data"
    }
   ],
   "source": [
    "# Finding the top 10 most frequent stock codes\n",
    "top_10_stock_codes = df['StockCode'].value_counts(normalize=True).head(10) * 100\n",
    "\n",
    "# Plotting the top 10 most frequent stock codes\n",
    "plt.figure(figsize=(12, 5))\n",
    "top_10_stock_codes.plot(kind='barh', color='#ff6200')\n",
    "\n",
    "# Adding the percentage frequency on the bars\n",
    "for index, value in enumerate(top_10_stock_codes):\n",
    "    plt.text(value, index+0.25, f'{value:.2f}%', fontsize=10)\n",
    "\n",
    "plt.title('Top 10 Most Frequent Stock Codes')\n",
    "plt.xlabel('Percentage Frequency (%)')\n",
    "plt.ylabel('Stock Codes')\n",
    "plt.gca().invert_yaxis()\n",
    "plt.show()"
   ]
  },
  {
   "cell_type": "markdown",
   "id": "0593782c",
   "metadata": {
    "papermill": {
     "duration": 0.060129,
     "end_time": "2023-09-13T18:55:45.901732",
     "exception": false,
     "start_time": "2023-09-13T18:55:45.841603",
     "status": "completed"
    },
    "tags": []
   },
   "source": [
    "<div style=\"border-radius:10px; padding: 15px; background-color: #ffeacc; font-size:120%; text-align:left\">\n",
    "<h3 align=\"left\"><font color=#ff6200>Inferences on Stock Codes:</font></h3>\n",
    "\n",
    "- __Product Variety__: The dataset contains 3684 unique stock codes, indicating a substantial variety of products available in the online retail store. This diversity can potentially lead to the identification of distinct customer clusters, with preferences for different types of products.\n",
    "\n",
    "    \n",
    "- __Popular Items__: A closer look at the top 10 most frequent stock codes can offer insights into the popular products or categories that are frequently purchased by customers.\n",
    "\n",
    "    \n",
    "- __Stock Code Anomalies__: We observe that while most stock codes are composed of 5 or 6 characters, there are some anomalies like the code '__POST__'. These anomalies might represent services or non-product transactions (perhaps postage fees) rather than actual products. To maintain the focus of the project, which is clustering based on product purchases and creating a recommendation system, these anomalies should be further investigated and possibly treated appropriately to ensure data integrity."
   ]
  },
  {
   "cell_type": "markdown",
   "id": "235088cd",
   "metadata": {
    "papermill": {
     "duration": 0.06263,
     "end_time": "2023-09-13T18:55:46.024789",
     "exception": false,
     "start_time": "2023-09-13T18:55:45.962159",
     "status": "completed"
    },
    "tags": []
   },
   "source": [
    "<div style=\"border-radius:10px; padding: 15px; background-color: #ffeacc; font-size:120%; text-align:left\">\n",
    "    \n",
    "To delve deeper into identifying these anomalies, let's explore the frequency of the number of numeric characters in the stock codes, which can provide insights into the nature of these unusual entries:"
   ]
  },
  {
   "cell_type": "code",
   "execution_count": 20,
   "id": "3b39dde0",
   "metadata": {
    "papermill": {
     "duration": 0.124219,
     "end_time": "2023-09-13T18:55:46.210927",
     "exception": false,
     "start_time": "2023-09-13T18:55:46.086708",
     "status": "completed"
    },
    "tags": []
   },
   "outputs": [
    {
     "name": "stdout",
     "output_type": "stream",
     "text": [
      "Value counts of numeric character frequencies in unique stock codes:\n",
      "----------------------------------------------------------------------\n",
      "5    3676\n",
      "0       7\n",
      "1       1\n",
      "Name: count, dtype: int64\n"
     ]
    }
   ],
   "source": [
    "# Finding the number of numeric characters in each unique stock code\n",
    "unique_stock_codes = df['StockCode'].unique()\n",
    "numeric_char_counts_in_unique_codes = pd.Series(unique_stock_codes).apply(lambda x: sum(c.isdigit() for c in str(x))).value_counts()\n",
    "\n",
    "# Printing the value counts for unique stock codes\n",
    "print(\"Value counts of numeric character frequencies in unique stock codes:\")\n",
    "print(\"-\"*70)\n",
    "print(numeric_char_counts_in_unique_codes)"
   ]
  },
  {
   "cell_type": "markdown",
   "id": "dafe502c",
   "metadata": {
    "papermill": {
     "duration": 0.060667,
     "end_time": "2023-09-13T18:55:46.333155",
     "exception": false,
     "start_time": "2023-09-13T18:55:46.272488",
     "status": "completed"
    },
    "tags": []
   },
   "source": [
    "<div style=\"border-radius:10px; padding: 15px; background-color: #ffeacc; font-size:120%; text-align:left\">\n",
    "<h3 align=\"left\"><font color=#ff6200>Inference:</font></h3>\n",
    "\n",
    "The output indicates the following:\n",
    "\n",
    "- A majority of the unique stock codes (3676 out of 3684) contain exactly 5 numeric characters, which seems to be the standard format for representing product codes in this dataset.\n",
    "\n",
    "    \n",
    "- There are a few anomalies: 7 stock codes contain no numeric characters and 1 stock code contains only 1 numeric character. These are clearly deviating from the standard format and need further investigation to understand their nature and whether they represent valid product transactions.\n",
    "\n",
    "Now, let's identify the stock codes that contain 0 or 1 numeric characters to further understand these anomalies:"
   ]
  },
  {
   "cell_type": "code",
   "execution_count": 21,
   "id": "77541192",
   "metadata": {
    "papermill": {
     "duration": 0.078998,
     "end_time": "2023-09-13T18:55:46.475514",
     "exception": false,
     "start_time": "2023-09-13T18:55:46.396516",
     "status": "completed"
    },
    "tags": []
   },
   "outputs": [
    {
     "name": "stdout",
     "output_type": "stream",
     "text": [
      "Anomalous stock codes:\n",
      "----------------------\n",
      "POST\n",
      "D\n",
      "C2\n",
      "M\n",
      "BANK CHARGES\n",
      "PADS\n",
      "DOT\n",
      "CRUK\n"
     ]
    }
   ],
   "source": [
    "# Finding and printing the stock codes with 0 and 1 numeric characters\n",
    "anomalous_stock_codes = [code for code in unique_stock_codes if sum(c.isdigit() for c in str(code)) in (0, 1)]\n",
    "\n",
    "# Printing each stock code on a new line\n",
    "print(\"Anomalous stock codes:\")\n",
    "print(\"-\"*22)\n",
    "for code in anomalous_stock_codes:\n",
    "    print(code)"
   ]
  },
  {
   "cell_type": "markdown",
   "id": "4245f10f",
   "metadata": {
    "papermill": {
     "duration": 0.065017,
     "end_time": "2023-09-13T18:55:46.601301",
     "exception": false,
     "start_time": "2023-09-13T18:55:46.536284",
     "status": "completed"
    },
    "tags": []
   },
   "source": [
    "<div style=\"border-radius:10px; padding: 15px; background-color: #ffeacc; font-size:120%; text-align:left\">\n",
    "    \n",
    "Let's calculate the percentage of records with these anomalous stock codes:    "
   ]
  },
  {
   "cell_type": "code",
   "execution_count": 22,
   "id": "2df9d357",
   "metadata": {
    "papermill": {
     "duration": 0.103691,
     "end_time": "2023-09-13T18:55:46.767256",
     "exception": false,
     "start_time": "2023-09-13T18:55:46.663565",
     "status": "completed"
    },
    "tags": []
   },
   "outputs": [
    {
     "name": "stdout",
     "output_type": "stream",
     "text": [
      "The percentage of records with anomalous stock codes in the dataset is: 0.48%\n"
     ]
    }
   ],
   "source": [
    "# Calculating the percentage of records with these stock codes\n",
    "percentage_anomalous = (df['StockCode'].isin(anomalous_stock_codes).sum() / len(df)) * 100\n",
    "\n",
    "# Printing the percentage\n",
    "print(f\"The percentage of records with anomalous stock codes in the dataset is: {percentage_anomalous:.2f}%\")"
   ]
  },
  {
   "cell_type": "markdown",
   "id": "ce1aef40",
   "metadata": {
    "papermill": {
     "duration": 0.062504,
     "end_time": "2023-09-13T18:55:46.894474",
     "exception": false,
     "start_time": "2023-09-13T18:55:46.831970",
     "status": "completed"
    },
    "tags": []
   },
   "source": [
    "<div style=\"border-radius:10px; padding: 15px; background-color: #ffeacc; font-size:120%; text-align:left\">\n",
    "\n",
    "<h3 align=\"left\"><font color=#ff6200>Inference:</font></h3>\n",
    "\n",
    "Based on the analysis, we find that a very small proportion of the records, __0.48%__, have anomalous stock codes, which deviate from the typical format observed in the majority of the data. Also, these anomalous codes are just a fraction among all unique stock codes (__only 8 out of 3684__).\n",
    "\n",
    "These codes seem to represent non-product transactions like \"__BANK CHARGES__\", \"__POST__\" (possibly postage fees), etc. Since they do not represent actual products and are a very small proportion of the dataset, including them in the analysis might introduce noise and distort the clustering and recommendation system."
   ]
  },
  {
   "cell_type": "markdown",
   "id": "74257d90",
   "metadata": {
    "papermill": {
     "duration": 0.062346,
     "end_time": "2023-09-13T18:55:47.019937",
     "exception": false,
     "start_time": "2023-09-13T18:55:46.957591",
     "status": "completed"
    },
    "tags": []
   },
   "source": [
    "<div style=\"border-radius:10px; padding: 15px; background-color: #ffeacc; font-size:120%; text-align:left\">\n",
    "<h3 align=\"left\"><font color=#ff6200>Strategy:</font></h3>\n",
    "\n",
    "Given the context of the project, where the aim is to cluster customers based on their product purchasing behaviors and develop a product recommendation system, it would be prudent to exclude these records with anomalous stock codes from the dataset. This way, the focus remains strictly on genuine product transactions, which would lead to a more accurate and meaningful analysis."
   ]
  },
  {
   "cell_type": "markdown",
   "id": "642d3e66",
   "metadata": {
    "papermill": {
     "duration": 0.062179,
     "end_time": "2023-09-13T18:55:47.144068",
     "exception": false,
     "start_time": "2023-09-13T18:55:47.081889",
     "status": "completed"
    },
    "tags": []
   },
   "source": [
    "<div style=\"border-radius:10px; padding: 15px; background-color: #ffeacc; font-size:120%; text-align:left\">\n",
    "    \n",
    "Thus, the strategy would be to filter out and remove rows with these anomalous stock codes from the dataset before proceeding with further analysis and model development:"
   ]
  },
  {
   "cell_type": "code",
   "execution_count": 23,
   "id": "1db59942",
   "metadata": {
    "papermill": {
     "duration": 0.158751,
     "end_time": "2023-09-13T18:55:47.364629",
     "exception": false,
     "start_time": "2023-09-13T18:55:47.205878",
     "status": "completed"
    },
    "tags": []
   },
   "outputs": [],
   "source": [
    "# Removing rows with anomalous stock codes from the dataset\n",
    "df = df[~df['StockCode'].isin(anomalous_stock_codes)]"
   ]
  },
  {
   "cell_type": "code",
   "execution_count": 24,
   "id": "bc3dda95",
   "metadata": {
    "papermill": {
     "duration": 0.070041,
     "end_time": "2023-09-13T18:55:47.495154",
     "exception": false,
     "start_time": "2023-09-13T18:55:47.425113",
     "status": "completed"
    },
    "tags": []
   },
   "outputs": [
    {
     "data": {
      "text/plain": [
       "399689"
      ]
     },
     "execution_count": 24,
     "metadata": {},
     "output_type": "execute_result"
    }
   ],
   "source": [
    "# Getting the number of rows in the dataframe\n",
    "df.shape[0]"
   ]
  },
  {
   "cell_type": "markdown",
   "id": "f523c417",
   "metadata": {
    "papermill": {
     "duration": 0.059584,
     "end_time": "2023-09-13T18:55:47.615935",
     "exception": false,
     "start_time": "2023-09-13T18:55:47.556351",
     "status": "completed"
    },
    "tags": []
   },
   "source": [
    "<a id=\"Description_cleaning\"></a>\n",
    "# <b><span style='color:#fcc36d'>Step 3.5 |</span><span style='color:#ff6200'> Cleaning Description Column</span></b>\n",
    "⬆️ [Tabel of Contents](#contents_tabel)"
   ]
  },
  {
   "cell_type": "markdown",
   "id": "0cbd21e6",
   "metadata": {
    "papermill": {
     "duration": 0.060155,
     "end_time": "2023-09-13T18:55:47.737908",
     "exception": false,
     "start_time": "2023-09-13T18:55:47.677753",
     "status": "completed"
    },
    "tags": []
   },
   "source": [
    "<div style=\"border-radius:10px; padding: 15px; background-color: #ffeacc; font-size:120%; text-align:left\">\n",
    "    \n",
    "First, I will calculate the occurrence count of each unique description in the dataset. Then, I will plot the top 30 descriptions. This visualization will give a clear view of the highest occurring descriptions in the dataset:"
   ]
  },
  {
   "cell_type": "code",
   "execution_count": 25,
   "id": "ebd4eebb",
   "metadata": {
    "papermill": {
     "duration": 0.906535,
     "end_time": "2023-09-13T18:55:48.705153",
     "exception": false,
     "start_time": "2023-09-13T18:55:47.798618",
     "status": "completed"
    },
    "tags": []
   },
   "outputs": [
    {
     "data": {
      "image/png": "[encoded data removed]",
      "text/plain": [
       "<Figure size 1200x800 with 1 Axes>"
      ]
     },
     "metadata": {},
     "output_type": "display_data"
    }
   ],
   "source": [
    "# Calculate the occurrence of each unique description and sort them\n",
    "description_counts = df['Description'].value_counts()\n",
    "\n",
    "# Get the top 30 descriptions\n",
    "top_30_descriptions = description_counts[:30]\n",
    "\n",
    "# Plotting\n",
    "plt.figure(figsize=(12,8))\n",
    "plt.barh(top_30_descriptions.index[::-1], top_30_descriptions.values[::-1], color='#ff6200')\n",
    "\n",
    "# Adding labels and title\n",
    "plt.xlabel('Number of Occurrences')\n",
    "plt.ylabel('Description')\n",
    "plt.title('Top 30 Most Frequent Descriptions')\n",
    "\n",
    "# Show the plot\n",
    "plt.show()"
   ]
  },
  {
   "cell_type": "markdown",
   "id": "23357ef7",
   "metadata": {
    "papermill": {
     "duration": 0.06267,
     "end_time": "2023-09-13T18:55:48.831715",
     "exception": false,
     "start_time": "2023-09-13T18:55:48.769045",
     "status": "completed"
    },
    "tags": []
   },
   "source": [
    "<div style=\"border-radius:10px; padding: 15px; background-color: #ffeacc; font-size:120%; text-align:left\">\n",
    "<h3 align=\"left\"><font color=#ff6200>Inferences on Descriptions:</font></h3>\n",
    "\n",
    "- The most frequent descriptions are generally household items, particularly those associated with kitchenware, lunch bags, and decorative items.\n",
    "       \n",
    "    \n",
    "- Interestingly, all the descriptions are in uppercase, which might be a standardized format for entering product descriptions in the database. However, considering the inconsistencies and anomalies encountered in the dataset so far, it would be prudent to check if there are descriptions entered in lowercase or a mix of case styles."
   ]
  },
  {
   "cell_type": "code",
   "execution_count": 26,
   "id": "9aaa4a45",
   "metadata": {
    "papermill": {
     "duration": 0.14653,
     "end_time": "2023-09-13T18:55:49.044148",
     "exception": false,
     "start_time": "2023-09-13T18:55:48.897618",
     "status": "completed"
    },
    "tags": []
   },
   "outputs": [
    {
     "name": "stdout",
     "output_type": "stream",
     "text": [
      "The unique descriptions containing lowercase characters are:\n",
      "------------------------------------------------------------\n",
      "BAG 500g SWIRLY MARBLES\n",
      "POLYESTER FILLER PAD 45x45cm\n",
      "POLYESTER FILLER PAD 45x30cm\n",
      "POLYESTER FILLER PAD 40x40cm\n",
      "FRENCH BLUE METAL DOOR SIGN No\n",
      "BAG 250g SWIRLY MARBLES\n",
      "BAG 125g SWIRLY MARBLES\n",
      "3 TRADITIONAl BISCUIT CUTTERS  SET\n",
      "NUMBER TILE COTTAGE GARDEN No\n",
      "FOLK ART GREETING CARD,pack/12\n",
      "ESSENTIAL BALM 3.5g TIN IN ENVELOPE\n",
      "POLYESTER FILLER PAD 65CMx65CM\n",
      "NUMBER TILE VINTAGE FONT No \n",
      "POLYESTER FILLER PAD 30CMx30CM\n",
      "POLYESTER FILLER PAD 60x40cm\n",
      "FLOWERS HANDBAG blue and orange\n",
      "Next Day Carriage\n",
      "THE KING GIFT BAG 25x24x12cm\n",
      "High Resolution Image\n"
     ]
    }
   ],
   "source": [
    "# Find unique descriptions containing lowercase characters\n",
    "lowercase_descriptions = df['Description'].unique()\n",
    "lowercase_descriptions = [desc for desc in lowercase_descriptions if any(char.islower() for char in desc)]\n",
    "\n",
    "# Print the unique descriptions containing lowercase characters\n",
    "print(\"The unique descriptions containing lowercase characters are:\")\n",
    "print(\"-\"*60)\n",
    "for desc in lowercase_descriptions:\n",
    "    print(desc)"
   ]
  },
  {
   "cell_type": "markdown",
   "id": "e64446a0",
   "metadata": {
    "papermill": {
     "duration": 0.160289,
     "end_time": "2023-09-13T18:55:49.270577",
     "exception": false,
     "start_time": "2023-09-13T18:55:49.110288",
     "status": "completed"
    },
    "tags": []
   },
   "source": [
    "<div style=\"border-radius:10px; padding: 15px; background-color: #ffeacc; font-size:120%; text-align:left\">\n",
    "<h3 align=\"left\"><font color=#ff6200>Inference:</font></h3>\n",
    "    \n",
    "- Upon reviewing the descriptions that contain lowercase characters, it is evident that some entries are not product descriptions, such as \"__Next Day Carriage__\" and \"__High Resolution Image__\". These entries seem to be unrelated to the actual products and might represent other types of information or service details."
   ]
  },
  {
   "cell_type": "markdown",
   "id": "e2cfe980",
   "metadata": {
    "papermill": {
     "duration": 0.064482,
     "end_time": "2023-09-13T18:55:49.399071",
     "exception": false,
     "start_time": "2023-09-13T18:55:49.334589",
     "status": "completed"
    },
    "tags": []
   },
   "source": [
    "<div style=\"border-radius:10px; padding: 15px; background-color: #ffeacc; font-size:120%; text-align:left\">\n",
    "<h3 align=\"left\"><font color=#ff6200>Strategy:</font></h3>\n",
    "\n",
    "- __Step 1__: Remove the rows where the descriptions contain service-related information like \"__Next Day Carriage__\" and \"__High Resolution Image__\", as these do not represent actual products and would not contribute to the clustering and recommendation system we aim to build.\n",
    "\n",
    "    \n",
    "- __Step 2__: For the remaining descriptions with mixed case, standardize the text to uppercase to maintain uniformity across the dataset. This will also assist in reducing the chances of having duplicate entries with different case styles.\n",
    "\n",
    "By implementing the above strategy, we can enhance the quality of our dataset, making it more suitable for the analysis and modeling phases of our project."
   ]
  },
  {
   "cell_type": "code",
   "execution_count": 27,
   "id": "ba3ed68d",
   "metadata": {
    "papermill": {
     "duration": 0.436004,
     "end_time": "2023-09-13T18:55:49.899055",
     "exception": false,
     "start_time": "2023-09-13T18:55:49.463051",
     "status": "completed"
    },
    "tags": []
   },
   "outputs": [
    {
     "name": "stdout",
     "output_type": "stream",
     "text": [
      "The percentage of records with service-related descriptions in the dataset is: 0.02%\n"
     ]
    }
   ],
   "source": [
    "service_related_descriptions = [\"Next Day Carriage\", \"High Resolution Image\"]\n",
    "\n",
    "# Calculate the percentage of records with service-related descriptions\n",
    "service_related_percentage = df[df['Description'].isin(service_related_descriptions)].shape[0] / df.shape[0] * 100\n",
    "\n",
    "# Print the percentage of records with service-related descriptions\n",
    "print(f\"The percentage of records with service-related descriptions in the dataset is: {service_related_percentage:.2f}%\")\n",
    "\n",
    "# Remove rows with service-related information in the description\n",
    "df = df[~df['Description'].isin(service_related_descriptions)]\n",
    "\n",
    "# Standardize the text to uppercase to maintain uniformity across the dataset\n",
    "df['Description'] = df['Description'].str.upper()"
   ]
  },
  {
   "cell_type": "code",
   "execution_count": 28,
   "id": "30511fa4",
   "metadata": {
    "papermill": {
     "duration": 0.074834,
     "end_time": "2023-09-13T18:55:50.038775",
     "exception": false,
     "start_time": "2023-09-13T18:55:49.963941",
     "status": "completed"
    },
    "tags": []
   },
   "outputs": [
    {
     "data": {
      "text/plain": [
       "399606"
      ]
     },
     "execution_count": 28,
     "metadata": {},
     "output_type": "execute_result"
    }
   ],
   "source": [
    "# Getting the number of rows in the dataframe\n",
    "df.shape[0]"
   ]
  },
  {
   "cell_type": "markdown",
   "id": "464073aa",
   "metadata": {
    "papermill": {
     "duration": 0.064272,
     "end_time": "2023-09-13T18:55:50.169305",
     "exception": false,
     "start_time": "2023-09-13T18:55:50.105033",
     "status": "completed"
    },
    "tags": []
   },
   "source": [
    "<a id=\"UnitPrice_cleaning\"></a>\n",
    "# <b><span style='color:#fcc36d'>Step 3.6 |</span><span style='color:#ff6200'> Treating Zero Unit Prices</span></b>\n",
    "⬆️ [Tabel of Contents](#contents_tabel)"
   ]
  },
  {
   "cell_type": "markdown",
   "id": "19dc3b3b",
   "metadata": {
    "papermill": {
     "duration": 0.06281,
     "end_time": "2023-09-13T18:55:50.295256",
     "exception": false,
     "start_time": "2023-09-13T18:55:50.232446",
     "status": "completed"
    },
    "tags": []
   },
   "source": [
    "<div style=\"border-radius:10px; padding: 15px; background-color: #ffeacc; font-size:120%; text-align:left\">\n",
    "    \n",
    "In this step, first I am going to take a look at the statistical description of the `UnitPrice` column:"
   ]
  },
  {
   "cell_type": "code",
   "execution_count": 29,
   "id": "81d5299a",
   "metadata": {
    "papermill": {
     "duration": 0.097583,
     "end_time": "2023-09-13T18:55:50.456794",
     "exception": false,
     "start_time": "2023-09-13T18:55:50.359211",
     "status": "completed"
    },
    "scrolled": true,
    "tags": []
   },
   "outputs": [
    {
     "data": {
      "text/plain": [
       "count    399606.000000\n",
       "mean          2.904957\n",
       "std           4.448796\n",
       "min           0.000000\n",
       "25%           1.250000\n",
       "50%           1.950000\n",
       "75%           3.750000\n",
       "max         649.500000\n",
       "Name: UnitPrice, dtype: float64"
      ]
     },
     "execution_count": 29,
     "metadata": {},
     "output_type": "execute_result"
    }
   ],
   "source": [
    "df['UnitPrice'].describe()"
   ]
  },
  {
   "cell_type": "markdown",
   "id": "db86de21",
   "metadata": {
    "papermill": {
     "duration": 0.065281,
     "end_time": "2023-09-13T18:55:50.587969",
     "exception": false,
     "start_time": "2023-09-13T18:55:50.522688",
     "status": "completed"
    },
    "tags": []
   },
   "source": [
    "<div style=\"border-radius:10px; padding: 15px; background-color: #ffeacc; font-size:120%; text-align:left\">\n",
    "<h3 align=\"left\"><font color=#ff6200>Inference:</font></h3>\n",
    "    \n",
    "The minimum unit price value is zero. This suggests that there are some transactions where the unit price is zero, potentially indicating a free item or a data entry error. To understand their nature, it is essential to investigate these zero unit price transactions further. A detailed analysis of the product descriptions associated with zero unit prices will be conducted to determine if they adhere to a specific pattern:"
   ]
  },
  {
   "cell_type": "code",
   "execution_count": 30,
   "id": "c08c5b8b",
   "metadata": {
    "papermill": {
     "duration": 0.09384,
     "end_time": "2023-09-13T18:55:50.748583",
     "exception": false,
     "start_time": "2023-09-13T18:55:50.654743",
     "status": "completed"
    },
    "tags": []
   },
   "outputs": [
    {
     "data": {
      "text/html": [
       "<div>\n",
       "<style scoped>\n",
       "    .dataframe tbody tr th:only-of-type {\n",
       "        vertical-align: middle;\n",
       "    }\n",
       "\n",
       "    .dataframe tbody tr th {\n",
       "        vertical-align: top;\n",
       "    }\n",
       "\n",
       "    .dataframe thead th {\n",
       "        text-align: right;\n",
       "    }\n",
       "</style>\n",
       "<table border=\"1\" class=\"dataframe\">\n",
       "  <thead>\n",
       "    <tr style=\"text-align: right;\">\n",
       "      <th></th>\n",
       "      <th>Quantity</th>\n",
       "    </tr>\n",
       "  </thead>\n",
       "  <tbody>\n",
       "    <tr>\n",
       "      <th>count</th>\n",
       "      <td>33.000000</td>\n",
       "    </tr>\n",
       "    <tr>\n",
       "      <th>mean</th>\n",
       "      <td>420.515152</td>\n",
       "    </tr>\n",
       "    <tr>\n",
       "      <th>std</th>\n",
       "      <td>2176.713608</td>\n",
       "    </tr>\n",
       "    <tr>\n",
       "      <th>min</th>\n",
       "      <td>1.000000</td>\n",
       "    </tr>\n",
       "    <tr>\n",
       "      <th>25%</th>\n",
       "      <td>2.000000</td>\n",
       "    </tr>\n",
       "    <tr>\n",
       "      <th>50%</th>\n",
       "      <td>11.000000</td>\n",
       "    </tr>\n",
       "    <tr>\n",
       "      <th>75%</th>\n",
       "      <td>36.000000</td>\n",
       "    </tr>\n",
       "    <tr>\n",
       "      <th>max</th>\n",
       "      <td>12540.000000</td>\n",
       "    </tr>\n",
       "  </tbody>\n",
       "</table>\n",
       "</div>"
      ],
      "text/plain": [
       "           Quantity\n",
       "count     33.000000\n",
       "mean     420.515152\n",
       "std     2176.713608\n",
       "min        1.000000\n",
       "25%        2.000000\n",
       "50%       11.000000\n",
       "75%       36.000000\n",
       "max    12540.000000"
      ]
     },
     "execution_count": 30,
     "metadata": {},
     "output_type": "execute_result"
    }
   ],
   "source": [
    "df[df['UnitPrice']==0].describe()[['Quantity']]"
   ]
  },
  {
   "cell_type": "markdown",
   "id": "f5fb6656",
   "metadata": {
    "papermill": {
     "duration": 0.066037,
     "end_time": "2023-09-13T18:55:50.879490",
     "exception": false,
     "start_time": "2023-09-13T18:55:50.813453",
     "status": "completed"
    },
    "tags": []
   },
   "source": [
    "<div style=\"border-radius:10px; padding: 15px; background-color: #ffeacc; font-size:120%; text-align:left\">\n",
    "<h3 align=\"left\"><font color=#ff6200>Inferences on UnitPrice: </font></h3>\n",
    "\n",
    "- The transactions with a unit price of zero are relatively few in number (33 transactions).\n",
    "    \n",
    "    \n",
    "- These transactions have a large variability in the quantity of items involved, ranging from 1 to 12540, with a substantial standard deviation.\n",
    "    \n",
    "    \n",
    "- Including these transactions in the clustering analysis might introduce noise and could potentially distort the customer behavior patterns identified by the clustering algorithm."
   ]
  },
  {
   "cell_type": "markdown",
   "id": "cdc32fb9",
   "metadata": {
    "papermill": {
     "duration": 0.064739,
     "end_time": "2023-09-13T18:55:51.008917",
     "exception": false,
     "start_time": "2023-09-13T18:55:50.944178",
     "status": "completed"
    },
    "tags": []
   },
   "source": [
    "<div style=\"border-radius:10px; padding: 15px; background-color: #ffeacc; font-size:120%; text-align:left\">\n",
    "<h3 align=\"left\"><font color=#ff6200>Strategy: </font></h3>\n",
    "\n",
    "Given the small number of these transactions and their potential to introduce noise in the data analysis, the strategy should be to remove these transactions from the dataset. This would help in maintaining a cleaner and more consistent dataset, which is essential for building an accurate and reliable clustering model and recommendation system."
   ]
  },
  {
   "cell_type": "code",
   "execution_count": 31,
   "id": "a8fd2d24",
   "metadata": {
    "papermill": {
     "duration": 0.125633,
     "end_time": "2023-09-13T18:55:51.201038",
     "exception": false,
     "start_time": "2023-09-13T18:55:51.075405",
     "status": "completed"
    },
    "tags": []
   },
   "outputs": [],
   "source": [
    "# Removing records with a unit price of zero to avoid potential data entry errors\n",
    "df = df[df['UnitPrice'] > 0]"
   ]
  },
  {
   "cell_type": "markdown",
   "id": "1c4d3071",
   "metadata": {
    "papermill": {
     "duration": 0.064292,
     "end_time": "2023-09-13T18:55:51.330774",
     "exception": false,
     "start_time": "2023-09-13T18:55:51.266482",
     "status": "completed"
    },
    "tags": []
   },
   "source": [
    "<a id=\"outlier_cleaning\"></a>\n",
    "# <b><span style='color:#fcc36d'>Step 3.7 |</span><span style='color:#ff6200'> Outlier Treatment</span></b>\n",
    "⬆️ [Tabel of Contents](#contents_tabel)"
   ]
  },
  {
   "cell_type": "markdown",
   "id": "921f8e84",
   "metadata": {
    "papermill": {
     "duration": 0.064205,
     "end_time": "2023-09-13T18:55:51.460106",
     "exception": false,
     "start_time": "2023-09-13T18:55:51.395901",
     "status": "completed"
    },
    "tags": []
   },
   "source": [
    "<div style=\"border-radius:10px; padding: 15px; background-color: #ffeacc; font-size:120%; text-align:left\">\n",
    "    \n",
    "In K-means clustering, the algorithm is sensitive to both the scale of data and the presence of outliers, as they can significantly influence the position of centroids, potentially leading to incorrect cluster assignments. However, considering the context of this project where the final goal is to understand customer behavior and preferences through K-means clustering, it would be more prudent to address the issue of outliers __after the feature engineering phase__ where we create a customer-centric dataset. At this stage, the data is transactional, and removing outliers might eliminate valuable information that could play a crucial role in segmenting customers later on. Therefore, we will postpone the outlier treatment and proceed to the next stage for now."
   ]
  },
  {
   "cell_type": "code",
   "execution_count": 32,
   "id": "8fb2e314",
   "metadata": {
    "papermill": {
     "duration": 0.075851,
     "end_time": "2023-09-13T18:55:51.600414",
     "exception": false,
     "start_time": "2023-09-13T18:55:51.524563",
     "status": "completed"
    },
    "tags": []
   },
   "outputs": [],
   "source": [
    "# Resetting the index of the cleaned dataset\n",
    "df.reset_index(drop=True, inplace=True)"
   ]
  },
  {
   "cell_type": "code",
   "execution_count": 33,
   "id": "e53a70e2",
   "metadata": {
    "papermill": {
     "duration": 0.077309,
     "end_time": "2023-09-13T18:55:51.743412",
     "exception": false,
     "start_time": "2023-09-13T18:55:51.666103",
     "status": "completed"
    },
    "tags": []
   },
   "outputs": [
    {
     "data": {
      "text/plain": [
       "399573"
      ]
     },
     "execution_count": 33,
     "metadata": {},
     "output_type": "execute_result"
    }
   ],
   "source": [
    "# Getting the number of rows in the dataframe\n",
    "df.shape[0]"
   ]
  },
  {
   "cell_type": "markdown",
   "id": "c0423204",
   "metadata": {
    "papermill": {
     "duration": 0.065855,
     "end_time": "2023-09-13T18:55:51.875480",
     "exception": false,
     "start_time": "2023-09-13T18:55:51.809625",
     "status": "completed"
    },
    "tags": []
   },
   "source": [
    "<a id=\"feature_engineering\"></a>\n",
    "# <p style=\"background-color: #ff6200; font-family:calibri; color:white; font-size:140%; font-family:Verdana; text-align:center; border-radius:15px 50px;\">Step 4 | Feature Engineering</p>\n",
    "⬆️ [Tabel of Contents](#contents_tabel)"
   ]
  },
  {
   "cell_type": "markdown",
   "id": "e645ab50",
   "metadata": {
    "papermill": {
     "duration": 0.065798,
     "end_time": "2023-09-13T18:55:52.006890",
     "exception": false,
     "start_time": "2023-09-13T18:55:51.941092",
     "status": "completed"
    },
    "tags": []
   },
   "source": [
    "<div style=\"border-radius:10px; padding: 15px; background-color: #ffeacc; font-size:120%; text-align:left\">\n",
    "\n",
    "In order to create a comprehensive customer-centric dataset for clustering and recommendation, the following features can be engineered from the available data:"
   ]
  },
  {
   "cell_type": "markdown",
   "id": "996035e6",
   "metadata": {
    "papermill": {
     "duration": 0.068241,
     "end_time": "2023-09-13T18:55:52.142187",
     "exception": false,
     "start_time": "2023-09-13T18:55:52.073946",
     "status": "completed"
    },
    "tags": []
   },
   "source": [
    "<a id=\"rfm_features\"></a>\n",
    "# <b><span style='color:#fcc36d'>Step 4.1 |</span><span style='color:#ff6200'> RFM Features</span></b>\n",
    "⬆️ [Tabel of Contents](#contents_tabel)"
   ]
  },
  {
   "cell_type": "markdown",
   "id": "3ba7cb37",
   "metadata": {
    "papermill": {
     "duration": 0.066119,
     "end_time": "2023-09-13T18:55:52.275008",
     "exception": false,
     "start_time": "2023-09-13T18:55:52.208889",
     "status": "completed"
    },
    "tags": []
   },
   "source": [
    "<div style=\"border-radius:10px; padding: 15px; background-color: #ffeacc; font-size:120%; text-align:left\">\n",
    "\n",
    "RFM is a method used for analyzing customer value and segmenting the customer base. It is an acronym that stands for:\n",
    "\n",
    "- __Recency (R):__ This metric indicates how recently a customer has made a purchase. A lower recency value means the customer has purchased more recently, indicating higher engagement with the brand.\n",
    "\n",
    "    \n",
    "- __Frequency (F):__ This metric signifies how often a customer makes a purchase within a certain period. A higher frequency value indicates a customer who interacts with the business more often, suggesting higher loyalty or satisfaction.\n",
    "\n",
    "    \n",
    "- __Monetary (M):__ This metric represents the total amount of money a customer has spent over a certain period. Customers who have a higher monetary value have contributed more to the business, indicating their potential high lifetime value.\n",
    "\n",
    "    \n",
    "Together, these metrics help in understanding a customer's buying behavior and preferences, which is pivotal in personalizing marketing strategies and creating a recommendation system."
   ]
  },
  {
   "cell_type": "markdown",
   "id": "49247c5e",
   "metadata": {
    "papermill": {
     "duration": 0.065054,
     "end_time": "2023-09-13T18:55:52.406366",
     "exception": false,
     "start_time": "2023-09-13T18:55:52.341312",
     "status": "completed"
    },
    "tags": []
   },
   "source": [
    "<a id=\"recency\"></a>\n",
    "## <b><span style='color:#fcc36d'>Step 4.1.1 |</span><span style='color:#ff6200'> Recency (R)</span></b>\n",
    "⬆️ [Tabel of Contents](#contents_tabel)"
   ]
  },
  {
   "cell_type": "markdown",
   "id": "e78228ab",
   "metadata": {
    "papermill": {
     "duration": 0.065306,
     "end_time": "2023-09-13T18:55:52.536954",
     "exception": false,
     "start_time": "2023-09-13T18:55:52.471648",
     "status": "completed"
    },
    "tags": []
   },
   "source": [
    "<div style=\"border-radius:10px; padding: 15px; background-color: #ffeacc; font-size:120%; text-align:left\">\n",
    "    \n",
    "In this step, we focus on understanding how recently a customer has made a purchase. This is a crucial aspect of customer segmentation as it helps in identifying the engagement level of customers. Here, I am going to define the following feature:\n",
    "\n",
    "- __Days Since Last Purchas__: This feature represents the number of days that have passed since the customer's last purchase. A lower value indicates that the customer has purchased recently, implying a higher engagement level with the business, whereas a higher value may indicate a lapse or decreased engagement. By understanding the recency of purchases, businesses can tailor their marketing strategies to re-engage customers who have not made purchases in a while, potentially increasing customer retention and fostering loyalty."
   ]
  },
  {
   "cell_type": "code",
   "execution_count": 34,
   "id": "12e426e9",
   "metadata": {
    "papermill": {
     "duration": 1.173973,
     "end_time": "2023-09-13T18:55:53.778716",
     "exception": false,
     "start_time": "2023-09-13T18:55:52.604743",
     "status": "completed"
    },
    "tags": []
   },
   "outputs": [],
   "source": [
    "# Convert InvoiceDate to datetime type\n",
    "df['InvoiceDate'] = pd.to_datetime(df['InvoiceDate'])\n",
    "\n",
    "# Convert InvoiceDate to datetime and extract only the date\n",
    "df['InvoiceDay'] = df['InvoiceDate'].dt.date\n",
    "\n",
    "# Find the most recent purchase date for each customer\n",
    "customer_data = df.groupby('CustomerID')['InvoiceDay'].max().reset_index()\n",
    "\n",
    "# Find the most recent date in the entire dataset\n",
    "most_recent_date = df['InvoiceDay'].max()\n",
    "\n",
    "# Convert InvoiceDay to datetime type before subtraction\n",
    "customer_data['InvoiceDay'] = pd.to_datetime(customer_data['InvoiceDay'])\n",
    "most_recent_date = pd.to_datetime(most_recent_date)\n",
    "\n",
    "# Calculate the number of days since the last purchase for each customer\n",
    "customer_data['Days_Since_Last_Purchase'] = (most_recent_date - customer_data['InvoiceDay']).dt.days\n",
    "\n",
    "# Remove the InvoiceDay column\n",
    "customer_data.drop(columns=['InvoiceDay'], inplace=True)"
   ]
  },
  {
   "cell_type": "markdown",
   "id": "7313c903",
   "metadata": {
    "papermill": {
     "duration": 0.065152,
     "end_time": "2023-09-13T18:55:53.911157",
     "exception": false,
     "start_time": "2023-09-13T18:55:53.846005",
     "status": "completed"
    },
    "tags": []
   },
   "source": [
    "<div style=\"border-radius:10px; padding: 15px; background-color: #ffeacc; font-size:120%; text-align:left\">\n",
    "    \n",
    "Now, __customer_data__ dataframe contains the __`Days_Since_Last_Purchase`__ feature:"
   ]
  },
  {
   "cell_type": "code",
   "execution_count": 35,
   "id": "8e5ba7d2",
   "metadata": {
    "papermill": {
     "duration": 0.082016,
     "end_time": "2023-09-13T18:55:54.058539",
     "exception": false,
     "start_time": "2023-09-13T18:55:53.976523",
     "status": "completed"
    },
    "tags": []
   },
   "outputs": [
    {
     "data": {
      "text/html": [
       "<div>\n",
       "<style scoped>\n",
       "    .dataframe tbody tr th:only-of-type {\n",
       "        vertical-align: middle;\n",
       "    }\n",
       "\n",
       "    .dataframe tbody tr th {\n",
       "        vertical-align: top;\n",
       "    }\n",
       "\n",
       "    .dataframe thead th {\n",
       "        text-align: right;\n",
       "    }\n",
       "</style>\n",
       "<table border=\"1\" class=\"dataframe\">\n",
       "  <thead>\n",
       "    <tr style=\"text-align: right;\">\n",
       "      <th></th>\n",
       "      <th>CustomerID</th>\n",
       "      <th>Days_Since_Last_Purchase</th>\n",
       "    </tr>\n",
       "  </thead>\n",
       "  <tbody>\n",
       "    <tr>\n",
       "      <th>0</th>\n",
       "      <td>12346.0</td>\n",
       "      <td>325</td>\n",
       "    </tr>\n",
       "    <tr>\n",
       "      <th>1</th>\n",
       "      <td>12347.0</td>\n",
       "      <td>2</td>\n",
       "    </tr>\n",
       "    <tr>\n",
       "      <th>2</th>\n",
       "      <td>12348.0</td>\n",
       "      <td>75</td>\n",
       "    </tr>\n",
       "    <tr>\n",
       "      <th>3</th>\n",
       "      <td>12349.0</td>\n",
       "      <td>18</td>\n",
       "    </tr>\n",
       "    <tr>\n",
       "      <th>4</th>\n",
       "      <td>12350.0</td>\n",
       "      <td>310</td>\n",
       "    </tr>\n",
       "  </tbody>\n",
       "</table>\n",
       "</div>"
      ],
      "text/plain": [
       "   CustomerID  Days_Since_Last_Purchase\n",
       "0     12346.0                       325\n",
       "1     12347.0                         2\n",
       "2     12348.0                        75\n",
       "3     12349.0                        18\n",
       "4     12350.0                       310"
      ]
     },
     "execution_count": 35,
     "metadata": {},
     "output_type": "execute_result"
    }
   ],
   "source": [
    "customer_data.head()"
   ]
  },
  {
   "cell_type": "markdown",
   "id": "9a675db6",
   "metadata": {
    "papermill": {
     "duration": 0.065204,
     "end_time": "2023-09-13T18:55:54.189503",
     "exception": false,
     "start_time": "2023-09-13T18:55:54.124299",
     "status": "completed"
    },
    "tags": []
   },
   "source": [
    "<div style=\"border-radius:10px; padding: 15px; background-color: #ffeacc; font-size:120%; text-align:left\">\n",
    "<h3 align=\"left\"><font color=#ff6200>Note: </font></h3>\n",
    "    \n",
    "- We've named the customer-centric dataframe as __customer_data__, which will eventually contain all the customer-based features we plan to create."
   ]
  },
  {
   "cell_type": "markdown",
   "id": "d3b5ec72",
   "metadata": {
    "papermill": {
     "duration": 0.063722,
     "end_time": "2023-09-13T18:55:54.318090",
     "exception": false,
     "start_time": "2023-09-13T18:55:54.254368",
     "status": "completed"
    },
    "tags": []
   },
   "source": [
    "<a id=\"frequency\"></a>\n",
    "## <b><span style='color:#fcc36d'>Step 4.1.2 |</span><span style='color:#ff6200'> Frequency (F)</span></b>\n",
    "⬆️ [Tabel of Contents](#contents_tabel)"
   ]
  },
  {
   "cell_type": "markdown",
   "id": "a5b9dce3",
   "metadata": {
    "papermill": {
     "duration": 0.065174,
     "end_time": "2023-09-13T18:55:54.450537",
     "exception": false,
     "start_time": "2023-09-13T18:55:54.385363",
     "status": "completed"
    },
    "tags": []
   },
   "source": [
    "<div style=\"border-radius:10px; padding: 15px; background-color: #ffeacc; font-size:120%; text-align:left\">\n",
    "\n",
    "In this step, I am going to create two features that quantify the frequency of a customer's engagement with the retailer:\n",
    "\n",
    "- __Total Transactions__: This feature represents the total number of transactions made by a customer. It helps in understanding the engagement level of a customer with the retailer.\n",
    "\n",
    "    \n",
    "\n",
    "- __Total Products Purchased__: This feature indicates the total number of products (sum of quantities) purchased by a customer across all transactions. It gives an insight into the customer's buying behavior in terms of the volume of products purchased.\n",
    "\n",
    "    \n",
    "These features will be crucial in segmenting customers based on their buying frequency, which is a key aspect in determining customer segments for targeted marketing and personalized recommendations."
   ]
  },
  {
   "cell_type": "code",
   "execution_count": 36,
   "id": "49c8b928",
   "metadata": {
    "papermill": {
     "duration": 0.187211,
     "end_time": "2023-09-13T18:55:54.703665",
     "exception": false,
     "start_time": "2023-09-13T18:55:54.516454",
     "status": "completed"
    },
    "tags": []
   },
   "outputs": [
    {
     "data": {
      "text/html": [
       "<div>\n",
       "<style scoped>\n",
       "    .dataframe tbody tr th:only-of-type {\n",
       "        vertical-align: middle;\n",
       "    }\n",
       "\n",
       "    .dataframe tbody tr th {\n",
       "        vertical-align: top;\n",
       "    }\n",
       "\n",
       "    .dataframe thead th {\n",
       "        text-align: right;\n",
       "    }\n",
       "</style>\n",
       "<table border=\"1\" class=\"dataframe\">\n",
       "  <thead>\n",
       "    <tr style=\"text-align: right;\">\n",
       "      <th></th>\n",
       "      <th>CustomerID</th>\n",
       "      <th>Days_Since_Last_Purchase</th>\n",
       "      <th>Total_Transactions</th>\n",
       "      <th>Total_Products_Purchased</th>\n",
       "    </tr>\n",
       "  </thead>\n",
       "  <tbody>\n",
       "    <tr>\n",
       "      <th>0</th>\n",
       "      <td>12346.0</td>\n",
       "      <td>325</td>\n",
       "      <td>2</td>\n",
       "      <td>0</td>\n",
       "    </tr>\n",
       "    <tr>\n",
       "      <th>1</th>\n",
       "      <td>12347.0</td>\n",
       "      <td>2</td>\n",
       "      <td>7</td>\n",
       "      <td>2458</td>\n",
       "    </tr>\n",
       "    <tr>\n",
       "      <th>2</th>\n",
       "      <td>12348.0</td>\n",
       "      <td>75</td>\n",
       "      <td>4</td>\n",
       "      <td>2332</td>\n",
       "    </tr>\n",
       "    <tr>\n",
       "      <th>3</th>\n",
       "      <td>12349.0</td>\n",
       "      <td>18</td>\n",
       "      <td>1</td>\n",
       "      <td>630</td>\n",
       "    </tr>\n",
       "    <tr>\n",
       "      <th>4</th>\n",
       "      <td>12350.0</td>\n",
       "      <td>310</td>\n",
       "      <td>1</td>\n",
       "      <td>196</td>\n",
       "    </tr>\n",
       "  </tbody>\n",
       "</table>\n",
       "</div>"
      ],
      "text/plain": [
       "   CustomerID  Days_Since_Last_Purchase  Total_Transactions  \\\n",
       "0     12346.0                       325                   2   \n",
       "1     12347.0                         2                   7   \n",
       "2     12348.0                        75                   4   \n",
       "3     12349.0                        18                   1   \n",
       "4     12350.0                       310                   1   \n",
       "\n",
       "   Total_Products_Purchased  \n",
       "0                         0  \n",
       "1                      2458  \n",
       "2                      2332  \n",
       "3                       630  \n",
       "4                       196  "
      ]
     },
     "execution_count": 36,
     "metadata": {},
     "output_type": "execute_result"
    }
   ],
   "source": [
    "# Calculate the total number of transactions made by each customer\n",
    "total_transactions = df.groupby('CustomerID')['InvoiceNo'].nunique().reset_index()\n",
    "total_transactions.rename(columns={'InvoiceNo': 'Total_Transactions'}, inplace=True)\n",
    "\n",
    "# Calculate the total number of products purchased by each customer\n",
    "total_products_purchased = df.groupby('CustomerID')['Quantity'].sum().reset_index()\n",
    "total_products_purchased.rename(columns={'Quantity': 'Total_Products_Purchased'}, inplace=True)\n",
    "\n",
    "# Merge the new features into the customer_data dataframe\n",
    "customer_data = pd.merge(customer_data, total_transactions, on='CustomerID')\n",
    "customer_data = pd.merge(customer_data, total_products_purchased, on='CustomerID')\n",
    "\n",
    "# Display the first few rows of the customer_data dataframe\n",
    "customer_data.head()"
   ]
  },
  {
   "cell_type": "markdown",
   "id": "6fa3261c",
   "metadata": {
    "papermill": {
     "duration": 0.085369,
     "end_time": "2023-09-13T18:55:54.854478",
     "exception": false,
     "start_time": "2023-09-13T18:55:54.769109",
     "status": "completed"
    },
    "tags": []
   },
   "source": [
    "<a id=\"monetary\"></a>\n",
    "## <b><span style='color:#fcc36d'>Step 4.1.3 |</span><span style='color:#ff6200'> Monetary (M)</span></b>\n",
    "⬆️ [Tabel of Contents](#contents_tabel)"
   ]
  },
  {
   "cell_type": "markdown",
   "id": "ccd2f4f8",
   "metadata": {
    "papermill": {
     "duration": 0.065187,
     "end_time": "2023-09-13T18:55:54.985249",
     "exception": false,
     "start_time": "2023-09-13T18:55:54.920062",
     "status": "completed"
    },
    "tags": []
   },
   "source": [
    "<div style=\"border-radius:10px; padding: 15px; background-color: #ffeacc; font-size:120%; text-align:left\">\n",
    "\n",
    "In this step, I am going to create two features that represent the monetary aspect of customer's transactions:\n",
    "\n",
    "- __Total Spend__: This feature represents the total amount of money spent by each customer. It is calculated as the sum of the product of `UnitPrice` and `Quantity` for all transactions made by a customer. This feature is crucial as it helps in identifying the total revenue generated by each customer, which is a direct indicator of a customer's value to the business.\n",
    "\n",
    "    \n",
    "- __Average Transaction Value__: This feature is calculated as the __Total Spend__ divided by the __Total Transactions__ for each customer. It indicates the average value of a transaction carried out by a customer. This metric is useful in understanding the spending behavior of customers per transaction, which can assist in tailoring marketing strategies and offers to different customer segments based on their average spending patterns."
   ]
  },
  {
   "cell_type": "code",
   "execution_count": 37,
   "id": "a131e718",
   "metadata": {
    "papermill": {
     "duration": 0.121753,
     "end_time": "2023-09-13T18:55:55.178675",
     "exception": false,
     "start_time": "2023-09-13T18:55:55.056922",
     "status": "completed"
    },
    "tags": []
   },
   "outputs": [
    {
     "data": {
      "text/html": [
       "<div>\n",
       "<style scoped>\n",
       "    .dataframe tbody tr th:only-of-type {\n",
       "        vertical-align: middle;\n",
       "    }\n",
       "\n",
       "    .dataframe tbody tr th {\n",
       "        vertical-align: top;\n",
       "    }\n",
       "\n",
       "    .dataframe thead th {\n",
       "        text-align: right;\n",
       "    }\n",
       "</style>\n",
       "<table border=\"1\" class=\"dataframe\">\n",
       "  <thead>\n",
       "    <tr style=\"text-align: right;\">\n",
       "      <th></th>\n",
       "      <th>CustomerID</th>\n",
       "      <th>Days_Since_Last_Purchase</th>\n",
       "      <th>Total_Transactions</th>\n",
       "      <th>Total_Products_Purchased</th>\n",
       "      <th>Total_Spend</th>\n",
       "      <th>Average_Transaction_Value</th>\n",
       "    </tr>\n",
       "  </thead>\n",
       "  <tbody>\n",
       "    <tr>\n",
       "      <th>0</th>\n",
       "      <td>12346.0</td>\n",
       "      <td>325</td>\n",
       "      <td>2</td>\n",
       "      <td>0</td>\n",
       "      <td>0.00</td>\n",
       "      <td>0.000000</td>\n",
       "    </tr>\n",
       "    <tr>\n",
       "      <th>1</th>\n",
       "      <td>12347.0</td>\n",
       "      <td>2</td>\n",
       "      <td>7</td>\n",
       "      <td>2458</td>\n",
       "      <td>4310.00</td>\n",
       "      <td>615.714286</td>\n",
       "    </tr>\n",
       "    <tr>\n",
       "      <th>2</th>\n",
       "      <td>12348.0</td>\n",
       "      <td>75</td>\n",
       "      <td>4</td>\n",
       "      <td>2332</td>\n",
       "      <td>1437.24</td>\n",
       "      <td>359.310000</td>\n",
       "    </tr>\n",
       "    <tr>\n",
       "      <th>3</th>\n",
       "      <td>12349.0</td>\n",
       "      <td>18</td>\n",
       "      <td>1</td>\n",
       "      <td>630</td>\n",
       "      <td>1457.55</td>\n",
       "      <td>1457.550000</td>\n",
       "    </tr>\n",
       "    <tr>\n",
       "      <th>4</th>\n",
       "      <td>12350.0</td>\n",
       "      <td>310</td>\n",
       "      <td>1</td>\n",
       "      <td>196</td>\n",
       "      <td>294.40</td>\n",
       "      <td>294.400000</td>\n",
       "    </tr>\n",
       "  </tbody>\n",
       "</table>\n",
       "</div>"
      ],
      "text/plain": [
       "   CustomerID  Days_Since_Last_Purchase  Total_Transactions  \\\n",
       "0     12346.0                       325                   2   \n",
       "1     12347.0                         2                   7   \n",
       "2     12348.0                        75                   4   \n",
       "3     12349.0                        18                   1   \n",
       "4     12350.0                       310                   1   \n",
       "\n",
       "   Total_Products_Purchased  Total_Spend  Average_Transaction_Value  \n",
       "0                         0         0.00                   0.000000  \n",
       "1                      2458      4310.00                 615.714286  \n",
       "2                      2332      1437.24                 359.310000  \n",
       "3                       630      1457.55                1457.550000  \n",
       "4                       196       294.40                 294.400000  "
      ]
     },
     "execution_count": 37,
     "metadata": {},
     "output_type": "execute_result"
    }
   ],
   "source": [
    "# Calculate the total spend by each customer\n",
    "df['Total_Spend'] = df['UnitPrice'] * df['Quantity']\n",
    "total_spend = df.groupby('CustomerID')['Total_Spend'].sum().reset_index()\n",
    "\n",
    "# Calculate the average transaction value for each customer\n",
    "average_transaction_value = total_spend.merge(total_transactions, on='CustomerID')\n",
    "average_transaction_value['Average_Transaction_Value'] = average_transaction_value['Total_Spend'] / average_transaction_value['Total_Transactions']\n",
    "\n",
    "# Merge the new features into the customer_data dataframe\n",
    "customer_data = pd.merge(customer_data, total_spend, on='CustomerID')\n",
    "customer_data = pd.merge(customer_data, average_transaction_value[['CustomerID', 'Average_Transaction_Value']], on='CustomerID')\n",
    "\n",
    "# Display the first few rows of the customer_data dataframe\n",
    "customer_data.head()"
   ]
  },
  {
   "cell_type": "markdown",
   "id": "48c28443",
   "metadata": {
    "papermill": {
     "duration": 0.067521,
     "end_time": "2023-09-13T18:55:55.315371",
     "exception": false,
     "start_time": "2023-09-13T18:55:55.247850",
     "status": "completed"
    },
    "tags": []
   },
   "source": [
    "<a id=\"product_diversity\"></a>\n",
    "# <b><span style='color:#fcc36d'>Step 4.2 |</span><span style='color:#ff6200'> Product Diversity</span></b>\n",
    "⬆️ [Tabel of Contents](#contents_tabel)"
   ]
  },
  {
   "cell_type": "markdown",
   "id": "e062ecf4",
   "metadata": {
    "papermill": {
     "duration": 0.066321,
     "end_time": "2023-09-13T18:55:55.449792",
     "exception": false,
     "start_time": "2023-09-13T18:55:55.383471",
     "status": "completed"
    },
    "tags": []
   },
   "source": [
    "<div style=\"border-radius:10px; padding: 15px; background-color: #ffeacc; font-size:120%; text-align:left\">\n",
    "\n",
    "In this step, we are going to understand the diversity in the product purchase behavior of customers. Understanding product diversity can help in crafting personalized marketing strategies and product recommendations. Here, I am going to define the following feature:\n",
    "\n",
    "- __Unique Products Purchased__: This feature represents the number of distinct products bought by a customer. A higher value indicates that the customer has a diverse taste or preference, buying a wide range of products, while a lower value might indicate a focused or specific preference. Understanding the diversity in product purchases can help in segmenting customers based on their buying diversity, which can be a critical input in personalizing product recommendations."
   ]
  },
  {
   "cell_type": "code",
   "execution_count": 38,
   "id": "055ab01f",
   "metadata": {
    "papermill": {
     "duration": 0.251802,
     "end_time": "2023-09-13T18:55:55.767945",
     "exception": false,
     "start_time": "2023-09-13T18:55:55.516143",
     "status": "completed"
    },
    "tags": []
   },
   "outputs": [
    {
     "data": {
      "text/html": [
       "<div>\n",
       "<style scoped>\n",
       "    .dataframe tbody tr th:only-of-type {\n",
       "        vertical-align: middle;\n",
       "    }\n",
       "\n",
       "    .dataframe tbody tr th {\n",
       "        vertical-align: top;\n",
       "    }\n",
       "\n",
       "    .dataframe thead th {\n",
       "        text-align: right;\n",
       "    }\n",
       "</style>\n",
       "<table border=\"1\" class=\"dataframe\">\n",
       "  <thead>\n",
       "    <tr style=\"text-align: right;\">\n",
       "      <th></th>\n",
       "      <th>CustomerID</th>\n",
       "      <th>Days_Since_Last_Purchase</th>\n",
       "      <th>Total_Transactions</th>\n",
       "      <th>Total_Products_Purchased</th>\n",
       "      <th>Total_Spend</th>\n",
       "      <th>Average_Transaction_Value</th>\n",
       "      <th>Unique_Products_Purchased</th>\n",
       "    </tr>\n",
       "  </thead>\n",
       "  <tbody>\n",
       "    <tr>\n",
       "      <th>0</th>\n",
       "      <td>12346.0</td>\n",
       "      <td>325</td>\n",
       "      <td>2</td>\n",
       "      <td>0</td>\n",
       "      <td>0.00</td>\n",
       "      <td>0.000000</td>\n",
       "      <td>1</td>\n",
       "    </tr>\n",
       "    <tr>\n",
       "      <th>1</th>\n",
       "      <td>12347.0</td>\n",
       "      <td>2</td>\n",
       "      <td>7</td>\n",
       "      <td>2458</td>\n",
       "      <td>4310.00</td>\n",
       "      <td>615.714286</td>\n",
       "      <td>103</td>\n",
       "    </tr>\n",
       "    <tr>\n",
       "      <th>2</th>\n",
       "      <td>12348.0</td>\n",
       "      <td>75</td>\n",
       "      <td>4</td>\n",
       "      <td>2332</td>\n",
       "      <td>1437.24</td>\n",
       "      <td>359.310000</td>\n",
       "      <td>21</td>\n",
       "    </tr>\n",
       "    <tr>\n",
       "      <th>3</th>\n",
       "      <td>12349.0</td>\n",
       "      <td>18</td>\n",
       "      <td>1</td>\n",
       "      <td>630</td>\n",
       "      <td>1457.55</td>\n",
       "      <td>1457.550000</td>\n",
       "      <td>72</td>\n",
       "    </tr>\n",
       "    <tr>\n",
       "      <th>4</th>\n",
       "      <td>12350.0</td>\n",
       "      <td>310</td>\n",
       "      <td>1</td>\n",
       "      <td>196</td>\n",
       "      <td>294.40</td>\n",
       "      <td>294.400000</td>\n",
       "      <td>16</td>\n",
       "    </tr>\n",
       "  </tbody>\n",
       "</table>\n",
       "</div>"
      ],
      "text/plain": [
       "   CustomerID  Days_Since_Last_Purchase  Total_Transactions  \\\n",
       "0     12346.0                       325                   2   \n",
       "1     12347.0                         2                   7   \n",
       "2     12348.0                        75                   4   \n",
       "3     12349.0                        18                   1   \n",
       "4     12350.0                       310                   1   \n",
       "\n",
       "   Total_Products_Purchased  Total_Spend  Average_Transaction_Value  \\\n",
       "0                         0         0.00                   0.000000   \n",
       "1                      2458      4310.00                 615.714286   \n",
       "2                      2332      1437.24                 359.310000   \n",
       "3                       630      1457.55                1457.550000   \n",
       "4                       196       294.40                 294.400000   \n",
       "\n",
       "   Unique_Products_Purchased  \n",
       "0                          1  \n",
       "1                        103  \n",
       "2                         21  \n",
       "3                         72  \n",
       "4                         16  "
      ]
     },
     "execution_count": 38,
     "metadata": {},
     "output_type": "execute_result"
    }
   ],
   "source": [
    "# Calculate the number of unique products purchased by each customer\n",
    "unique_products_purchased = df.groupby('CustomerID')['StockCode'].nunique().reset_index()\n",
    "unique_products_purchased.rename(columns={'StockCode': 'Unique_Products_Purchased'}, inplace=True)\n",
    "\n",
    "# Merge the new feature into the customer_data dataframe\n",
    "customer_data = pd.merge(customer_data, unique_products_purchased, on='CustomerID')\n",
    "\n",
    "# Display the first few rows of the customer_data dataframe\n",
    "customer_data.head()"
   ]
  },
  {
   "cell_type": "markdown",
   "id": "ef5beaa9",
   "metadata": {
    "papermill": {
     "duration": 0.068876,
     "end_time": "2023-09-13T18:55:55.902838",
     "exception": false,
     "start_time": "2023-09-13T18:55:55.833962",
     "status": "completed"
    },
    "tags": []
   },
   "source": [
    "<a id=\"behaviroal_features\"></a>\n",
    "# <b><span style='color:#fcc36d'>Step 4.3 |</span><span style='color:#ff6200'> Behavioral Features</span></b>\n",
    "⬆️ [Tabel of Contents](#contents_tabel)"
   ]
  },
  {
   "cell_type": "markdown",
   "id": "115bd31a",
   "metadata": {
    "papermill": {
     "duration": 0.068002,
     "end_time": "2023-09-13T18:55:56.037118",
     "exception": false,
     "start_time": "2023-09-13T18:55:55.969116",
     "status": "completed"
    },
    "tags": []
   },
   "source": [
    "<div style=\"border-radius:10px; padding: 15px; background-color: #ffeacc; font-size:120%; text-align:left\">\n",
    "\n",
    "In this step, we aim to understand and capture the shopping patterns and behaviors of customers. These features will give us insights into the customers' preferences regarding when they like to shop, which can be crucial information for personalizing their shopping experience. Here are the features I am planning to introduce:\n",
    "\n",
    "- __Average Days Between Purchases__: This feature represents the average number of days a customer waits before making another purchase. Understanding this can help in predicting when the customer is likely to make their next purchase, which can be a crucial metric for targeted marketing and personalized promotions.\n",
    "\n",
    "    \n",
    "- __Favorite Shopping Day__: This denotes the day of the week when the customer shops the most. This information can help in identifying the preferred shopping days of different customer segments, which can be used to optimize marketing strategies and promotions for different days of the week.\n",
    "\n",
    "    \n",
    "- __Favorite Shopping Hour__: This refers to the hour of the day when the customer shops the most. Identifying the favorite shopping hour can aid in optimizing the timing of marketing campaigns and promotions to align with the times when different customer segments are most active.\n",
    "\n",
    "    \n",
    "By including these behavioral features in our dataset, we can create a more rounded view of our customers, which will potentially enhance the effectiveness of the clustering algorithm, leading to more meaningful customer segments."
   ]
  },
  {
   "cell_type": "code",
   "execution_count": 39,
   "id": "25325c84",
   "metadata": {
    "papermill": {
     "duration": 7.324267,
     "end_time": "2023-09-13T18:56:03.428738",
     "exception": false,
     "start_time": "2023-09-13T18:55:56.104471",
     "status": "completed"
    },
    "tags": []
   },
   "outputs": [
    {
     "data": {
      "text/html": [
       "<div>\n",
       "<style scoped>\n",
       "    .dataframe tbody tr th:only-of-type {\n",
       "        vertical-align: middle;\n",
       "    }\n",
       "\n",
       "    .dataframe tbody tr th {\n",
       "        vertical-align: top;\n",
       "    }\n",
       "\n",
       "    .dataframe thead th {\n",
       "        text-align: right;\n",
       "    }\n",
       "</style>\n",
       "<table border=\"1\" class=\"dataframe\">\n",
       "  <thead>\n",
       "    <tr style=\"text-align: right;\">\n",
       "      <th></th>\n",
       "      <th>CustomerID</th>\n",
       "      <th>Days_Since_Last_Purchase</th>\n",
       "      <th>Total_Transactions</th>\n",
       "      <th>Total_Products_Purchased</th>\n",
       "      <th>Total_Spend</th>\n",
       "      <th>Average_Transaction_Value</th>\n",
       "      <th>Unique_Products_Purchased</th>\n",
       "      <th>Average_Days_Between_Purchases</th>\n",
       "      <th>Day_Of_Week</th>\n",
       "      <th>Hour</th>\n",
       "    </tr>\n",
       "  </thead>\n",
       "  <tbody>\n",
       "    <tr>\n",
       "      <th>0</th>\n",
       "      <td>12346.0</td>\n",
       "      <td>325</td>\n",
       "      <td>2</td>\n",
       "      <td>0</td>\n",
       "      <td>0.00</td>\n",
       "      <td>0.000000</td>\n",
       "      <td>1</td>\n",
       "      <td>0.000000</td>\n",
       "      <td>1</td>\n",
       "      <td>10</td>\n",
       "    </tr>\n",
       "    <tr>\n",
       "      <th>1</th>\n",
       "      <td>12347.0</td>\n",
       "      <td>2</td>\n",
       "      <td>7</td>\n",
       "      <td>2458</td>\n",
       "      <td>4310.00</td>\n",
       "      <td>615.714286</td>\n",
       "      <td>103</td>\n",
       "      <td>2.016575</td>\n",
       "      <td>1</td>\n",
       "      <td>14</td>\n",
       "    </tr>\n",
       "    <tr>\n",
       "      <th>2</th>\n",
       "      <td>12348.0</td>\n",
       "      <td>75</td>\n",
       "      <td>4</td>\n",
       "      <td>2332</td>\n",
       "      <td>1437.24</td>\n",
       "      <td>359.310000</td>\n",
       "      <td>21</td>\n",
       "      <td>10.884615</td>\n",
       "      <td>3</td>\n",
       "      <td>19</td>\n",
       "    </tr>\n",
       "    <tr>\n",
       "      <th>3</th>\n",
       "      <td>12349.0</td>\n",
       "      <td>18</td>\n",
       "      <td>1</td>\n",
       "      <td>630</td>\n",
       "      <td>1457.55</td>\n",
       "      <td>1457.550000</td>\n",
       "      <td>72</td>\n",
       "      <td>0.000000</td>\n",
       "      <td>0</td>\n",
       "      <td>9</td>\n",
       "    </tr>\n",
       "    <tr>\n",
       "      <th>4</th>\n",
       "      <td>12350.0</td>\n",
       "      <td>310</td>\n",
       "      <td>1</td>\n",
       "      <td>196</td>\n",
       "      <td>294.40</td>\n",
       "      <td>294.400000</td>\n",
       "      <td>16</td>\n",
       "      <td>0.000000</td>\n",
       "      <td>2</td>\n",
       "      <td>16</td>\n",
       "    </tr>\n",
       "  </tbody>\n",
       "</table>\n",
       "</div>"
      ],
      "text/plain": [
       "   CustomerID  Days_Since_Last_Purchase  Total_Transactions  \\\n",
       "0     12346.0                       325                   2   \n",
       "1     12347.0                         2                   7   \n",
       "2     12348.0                        75                   4   \n",
       "3     12349.0                        18                   1   \n",
       "4     12350.0                       310                   1   \n",
       "\n",
       "   Total_Products_Purchased  Total_Spend  Average_Transaction_Value  \\\n",
       "0                         0         0.00                   0.000000   \n",
       "1                      2458      4310.00                 615.714286   \n",
       "2                      2332      1437.24                 359.310000   \n",
       "3                       630      1457.55                1457.550000   \n",
       "4                       196       294.40                 294.400000   \n",
       "\n",
       "   Unique_Products_Purchased  Average_Days_Between_Purchases  Day_Of_Week  \\\n",
       "0                          1                        0.000000            1   \n",
       "1                        103                        2.016575            1   \n",
       "2                         21                       10.884615            3   \n",
       "3                         72                        0.000000            0   \n",
       "4                         16                        0.000000            2   \n",
       "\n",
       "   Hour  \n",
       "0    10  \n",
       "1    14  \n",
       "2    19  \n",
       "3     9  \n",
       "4    16  "
      ]
     },
     "execution_count": 39,
     "metadata": {},
     "output_type": "execute_result"
    }
   ],
   "source": [
    "# Extract day of week and hour from InvoiceDate\n",
    "df['Day_Of_Week'] = df['InvoiceDate'].dt.dayofweek\n",
    "df['Hour'] = df['InvoiceDate'].dt.hour\n",
    "\n",
    "# Calculate the average number of days between consecutive purchases\n",
    "days_between_purchases = df.groupby('CustomerID')['InvoiceDay'].apply(lambda x: (x.diff().dropna()).apply(lambda y: y.days))\n",
    "average_days_between_purchases = days_between_purchases.groupby('CustomerID').mean().reset_index()\n",
    "average_days_between_purchases.rename(columns={'InvoiceDay': 'Average_Days_Between_Purchases'}, inplace=True)\n",
    "\n",
    "# Find the favorite shopping day of the week\n",
    "favorite_shopping_day = df.groupby(['CustomerID', 'Day_Of_Week']).size().reset_index(name='Count')\n",
    "favorite_shopping_day = favorite_shopping_day.loc[favorite_shopping_day.groupby('CustomerID')['Count'].idxmax()][['CustomerID', 'Day_Of_Week']]\n",
    "\n",
    "# Find the favorite shopping hour of the day\n",
    "favorite_shopping_hour = df.groupby(['CustomerID', 'Hour']).size().reset_index(name='Count')\n",
    "favorite_shopping_hour = favorite_shopping_hour.loc[favorite_shopping_hour.groupby('CustomerID')['Count'].idxmax()][['CustomerID', 'Hour']]\n",
    "\n",
    "# Merge the new features into the customer_data dataframe\n",
    "customer_data = pd.merge(customer_data, average_days_between_purchases, on='CustomerID')\n",
    "customer_data = pd.merge(customer_data, favorite_shopping_day, on='CustomerID')\n",
    "customer_data = pd.merge(customer_data, favorite_shopping_hour, on='CustomerID')\n",
    "\n",
    "# Display the first few rows of the customer_data dataframe\n",
    "customer_data.head()"
   ]
  },
  {
   "cell_type": "markdown",
   "id": "18dcba45",
   "metadata": {
    "papermill": {
     "duration": 0.068396,
     "end_time": "2023-09-13T18:56:03.569155",
     "exception": false,
     "start_time": "2023-09-13T18:56:03.500759",
     "status": "completed"
    },
    "tags": []
   },
   "source": [
    "<a id=\"geographical_features\"></a>\n",
    "# <b><span style='color:#fcc36d'>Step 4.4 |</span><span style='color:#ff6200'> Geographic Features</span></b>\n",
    "⬆️ [Tabel of Contents](#contents_tabel)"
   ]
  },
  {
   "cell_type": "markdown",
   "id": "869bd60e",
   "metadata": {
    "papermill": {
     "duration": 0.08516,
     "end_time": "2023-09-13T18:56:03.724226",
     "exception": false,
     "start_time": "2023-09-13T18:56:03.639066",
     "status": "completed"
    },
    "tags": []
   },
   "source": [
    "<div style=\"border-radius:10px; padding: 15px; background-color: #ffeacc; font-size:120%; text-align:left\">\n",
    "    \n",
    "In this step, we will introduce a geographic feature that reflects the geographical location of customers. Understanding the geographic distribution of customers is pivotal for several reasons:\n",
    "\n",
    "- __Country__: This feature identifies the country where each customer is located. Including the country data can help us understand region-specific buying patterns and preferences. Different regions might have varying preferences and purchasing behaviors which can be critical in personalizing marketing strategies and inventory planning. Furthermore, it can be instrumental in logistics and supply chain optimization, particularly for an online retailer where shipping and delivery play a significant role."
   ]
  },
  {
   "cell_type": "code",
   "execution_count": 40,
   "id": "517c5883",
   "metadata": {
    "papermill": {
     "duration": 0.150849,
     "end_time": "2023-09-13T18:56:03.944819",
     "exception": false,
     "start_time": "2023-09-13T18:56:03.793970",
     "status": "completed"
    },
    "tags": []
   },
   "outputs": [
    {
     "data": {
      "text/plain": [
       "Country\n",
       "United Kingdom    0.890971\n",
       "Germany           0.022722\n",
       "France            0.020402\n",
       "EIRE              0.018440\n",
       "Spain             0.006162\n",
       "Name: proportion, dtype: float64"
      ]
     },
     "execution_count": 40,
     "metadata": {},
     "output_type": "execute_result"
    }
   ],
   "source": [
    "df['Country'].value_counts(normalize=True).head()"
   ]
  },
  {
   "cell_type": "markdown",
   "id": "e338f422",
   "metadata": {
    "papermill": {
     "duration": 0.066789,
     "end_time": "2023-09-13T18:56:04.078489",
     "exception": false,
     "start_time": "2023-09-13T18:56:04.011700",
     "status": "completed"
    },
    "tags": []
   },
   "source": [
    "<div style=\"border-radius:10px; padding: 15px; background-color: #ffeacc; font-size:120%; text-align:left\">\n",
    "<h3 align=\"left\"><font color=#ff6200>Inference: </font></h3>\n",
    "    \n",
    "Given that a substantial portion (__89%__) of transactions are originating from the __United Kingdom__, we might consider creating a binary feature indicating whether the transaction is from the UK or not. This approach can potentially streamline the clustering process without losing critical geographical information, especially when considering the application of algorithms like K-means which are sensitive to the dimensionality of the feature space."
   ]
  },
  {
   "cell_type": "markdown",
   "id": "378f2001",
   "metadata": {
    "papermill": {
     "duration": 0.067358,
     "end_time": "2023-09-13T18:56:04.214871",
     "exception": false,
     "start_time": "2023-09-13T18:56:04.147513",
     "status": "completed"
    },
    "tags": []
   },
   "source": [
    "<div style=\"border-radius:10px; padding: 15px; background-color: #ffeacc; font-size:120%; text-align:left\">\n",
    "<h3 align=\"left\"><font color=#ff6200>Methodology: </font></h3>\n",
    "\n",
    "- First, I will group the data by `CustomerID` and `Country` and calculate the number of transactions per country for each customer.\n",
    "\n",
    "- Next, I will identify the main country for each customer (the country from which they have the maximum transactions).\n",
    "    \n",
    "- Then, I will create a binary column indicating whether the customer is from the UK or not.\n",
    "    \n",
    "- Finally, I will merge this information with the `customer_data` dataframe to include the new feature in our analysis."
   ]
  },
  {
   "cell_type": "code",
   "execution_count": 41,
   "id": "076d45c4",
   "metadata": {
    "papermill": {
     "duration": 0.167104,
     "end_time": "2023-09-13T18:56:04.448331",
     "exception": false,
     "start_time": "2023-09-13T18:56:04.281227",
     "status": "completed"
    },
    "tags": []
   },
   "outputs": [
    {
     "data": {
      "text/html": [
       "<div>\n",
       "<style scoped>\n",
       "    .dataframe tbody tr th:only-of-type {\n",
       "        vertical-align: middle;\n",
       "    }\n",
       "\n",
       "    .dataframe tbody tr th {\n",
       "        vertical-align: top;\n",
       "    }\n",
       "\n",
       "    .dataframe thead th {\n",
       "        text-align: right;\n",
       "    }\n",
       "</style>\n",
       "<table border=\"1\" class=\"dataframe\">\n",
       "  <thead>\n",
       "    <tr style=\"text-align: right;\">\n",
       "      <th></th>\n",
       "      <th>CustomerID</th>\n",
       "      <th>Days_Since_Last_Purchase</th>\n",
       "      <th>Total_Transactions</th>\n",
       "      <th>Total_Products_Purchased</th>\n",
       "      <th>Total_Spend</th>\n",
       "      <th>Average_Transaction_Value</th>\n",
       "      <th>Unique_Products_Purchased</th>\n",
       "      <th>Average_Days_Between_Purchases</th>\n",
       "      <th>Day_Of_Week</th>\n",
       "      <th>Hour</th>\n",
       "      <th>Is_UK</th>\n",
       "    </tr>\n",
       "  </thead>\n",
       "  <tbody>\n",
       "    <tr>\n",
       "      <th>0</th>\n",
       "      <td>12346.0</td>\n",
       "      <td>325</td>\n",
       "      <td>2</td>\n",
       "      <td>0</td>\n",
       "      <td>0.00</td>\n",
       "      <td>0.000000</td>\n",
       "      <td>1</td>\n",
       "      <td>0.000000</td>\n",
       "      <td>1</td>\n",
       "      <td>10</td>\n",
       "      <td>1</td>\n",
       "    </tr>\n",
       "    <tr>\n",
       "      <th>1</th>\n",
       "      <td>12347.0</td>\n",
       "      <td>2</td>\n",
       "      <td>7</td>\n",
       "      <td>2458</td>\n",
       "      <td>4310.00</td>\n",
       "      <td>615.714286</td>\n",
       "      <td>103</td>\n",
       "      <td>2.016575</td>\n",
       "      <td>1</td>\n",
       "      <td>14</td>\n",
       "      <td>0</td>\n",
       "    </tr>\n",
       "    <tr>\n",
       "      <th>2</th>\n",
       "      <td>12348.0</td>\n",
       "      <td>75</td>\n",
       "      <td>4</td>\n",
       "      <td>2332</td>\n",
       "      <td>1437.24</td>\n",
       "      <td>359.310000</td>\n",
       "      <td>21</td>\n",
       "      <td>10.884615</td>\n",
       "      <td>3</td>\n",
       "      <td>19</td>\n",
       "      <td>0</td>\n",
       "    </tr>\n",
       "    <tr>\n",
       "      <th>3</th>\n",
       "      <td>12349.0</td>\n",
       "      <td>18</td>\n",
       "      <td>1</td>\n",
       "      <td>630</td>\n",
       "      <td>1457.55</td>\n",
       "      <td>1457.550000</td>\n",
       "      <td>72</td>\n",
       "      <td>0.000000</td>\n",
       "      <td>0</td>\n",
       "      <td>9</td>\n",
       "      <td>0</td>\n",
       "    </tr>\n",
       "    <tr>\n",
       "      <th>4</th>\n",
       "      <td>12350.0</td>\n",
       "      <td>310</td>\n",
       "      <td>1</td>\n",
       "      <td>196</td>\n",
       "      <td>294.40</td>\n",
       "      <td>294.400000</td>\n",
       "      <td>16</td>\n",
       "      <td>0.000000</td>\n",
       "      <td>2</td>\n",
       "      <td>16</td>\n",
       "      <td>0</td>\n",
       "    </tr>\n",
       "  </tbody>\n",
       "</table>\n",
       "</div>"
      ],
      "text/plain": [
       "   CustomerID  Days_Since_Last_Purchase  Total_Transactions  \\\n",
       "0     12346.0                       325                   2   \n",
       "1     12347.0                         2                   7   \n",
       "2     12348.0                        75                   4   \n",
       "3     12349.0                        18                   1   \n",
       "4     12350.0                       310                   1   \n",
       "\n",
       "   Total_Products_Purchased  Total_Spend  Average_Transaction_Value  \\\n",
       "0                         0         0.00                   0.000000   \n",
       "1                      2458      4310.00                 615.714286   \n",
       "2                      2332      1437.24                 359.310000   \n",
       "3                       630      1457.55                1457.550000   \n",
       "4                       196       294.40                 294.400000   \n",
       "\n",
       "   Unique_Products_Purchased  Average_Days_Between_Purchases  Day_Of_Week  \\\n",
       "0                          1                        0.000000            1   \n",
       "1                        103                        2.016575            1   \n",
       "2                         21                       10.884615            3   \n",
       "3                         72                        0.000000            0   \n",
       "4                         16                        0.000000            2   \n",
       "\n",
       "   Hour  Is_UK  \n",
       "0    10      1  \n",
       "1    14      0  \n",
       "2    19      0  \n",
       "3     9      0  \n",
       "4    16      0  "
      ]
     },
     "execution_count": 41,
     "metadata": {},
     "output_type": "execute_result"
    }
   ],
   "source": [
    "# Group by CustomerID and Country to get the number of transactions per country for each customer\n",
    "customer_country = df.groupby(['CustomerID', 'Country']).size().reset_index(name='Number_of_Transactions')\n",
    "\n",
    "# Get the country with the maximum number of transactions for each customer (in case a customer has transactions from multiple countries)\n",
    "customer_main_country = customer_country.sort_values('Number_of_Transactions', ascending=False).drop_duplicates('CustomerID')\n",
    "\n",
    "# Create a binary column indicating whether the customer is from the UK or not\n",
    "customer_main_country['Is_UK'] = customer_main_country['Country'].apply(lambda x: 1 if x == 'United Kingdom' else 0)\n",
    "\n",
    "# Merge this data with our customer_data dataframe\n",
    "customer_data = pd.merge(customer_data, customer_main_country[['CustomerID', 'Is_UK']], on='CustomerID', how='left')\n",
    "\n",
    "# Display the first few rows of the customer_data dataframe\n",
    "customer_data.head()"
   ]
  },
  {
   "cell_type": "code",
   "execution_count": 42,
   "id": "172aabff",
   "metadata": {
    "papermill": {
     "duration": 0.081428,
     "end_time": "2023-09-13T18:56:04.601164",
     "exception": false,
     "start_time": "2023-09-13T18:56:04.519736",
     "status": "completed"
    },
    "tags": []
   },
   "outputs": [
    {
     "data": {
      "text/plain": [
       "Is_UK\n",
       "1    3866\n",
       "0     416\n",
       "Name: count, dtype: int64"
      ]
     },
     "execution_count": 42,
     "metadata": {},
     "output_type": "execute_result"
    }
   ],
   "source": [
    "# Display feature distribution\n",
    "customer_data['Is_UK'].value_counts()"
   ]
  },
  {
   "cell_type": "markdown",
   "id": "54878de8",
   "metadata": {
    "papermill": {
     "duration": 0.068165,
     "end_time": "2023-09-13T18:56:04.736100",
     "exception": false,
     "start_time": "2023-09-13T18:56:04.667935",
     "status": "completed"
    },
    "tags": []
   },
   "source": [
    "<a id=\"cancellation_insights\"></a>\n",
    "# <b><span style='color:#fcc36d'>Step 4.5 |</span><span style='color:#ff6200'> Cancellation Insights</span></b>\n",
    "⬆️ [Tabel of Contents](#contents_tabel)"
   ]
  },
  {
   "cell_type": "markdown",
   "id": "c221e4d1",
   "metadata": {
    "papermill": {
     "duration": 0.068456,
     "end_time": "2023-09-13T18:56:04.871071",
     "exception": false,
     "start_time": "2023-09-13T18:56:04.802615",
     "status": "completed"
    },
    "tags": []
   },
   "source": [
    "<div style=\"border-radius:10px; padding: 15px; background-color: #ffeacc; font-size:120%; text-align:left\">\n",
    "\n",
    "In this step, We are going to delve deeper into the cancellation patterns of customers to gain insights that can enhance our customer segmentation model. The features I am planning to introduce are:\n",
    "\n",
    "- __Cancellation Frequency__: This metric represents the total number of transactions a customer has canceled. Understanding the frequency of cancellations can help us identify customers who are more likely to cancel transactions. This could be an indicator of dissatisfaction or other issues, and understanding this can help us tailor strategies to reduce cancellations and enhance customer satisfaction.\n",
    "\n",
    "    \n",
    "- __Cancellation Rate__: This represents the proportion of transactions that a customer has canceled out of all their transactions. This metric gives a normalized view of cancellation behavior. A high cancellation rate might be indicative of an unsatisfied customer segment. By identifying these segments, we can develop targeted strategies to improve their shopping experience and potentially reduce the cancellation rate.\n",
    "\n",
    "By incorporating these cancellation insights into our dataset, we can build a more comprehensive view of customer behavior, which could potentially aid in creating more effective and nuanced customer segmentation.\n"
   ]
  },
  {
   "cell_type": "code",
   "execution_count": 43,
   "id": "65a2c273",
   "metadata": {
    "papermill": {
     "duration": 0.264581,
     "end_time": "2023-09-13T18:56:05.202510",
     "exception": false,
     "start_time": "2023-09-13T18:56:04.937929",
     "status": "completed"
    },
    "tags": []
   },
   "outputs": [
    {
     "data": {
      "text/html": [
       "<div>\n",
       "<style scoped>\n",
       "    .dataframe tbody tr th:only-of-type {\n",
       "        vertical-align: middle;\n",
       "    }\n",
       "\n",
       "    .dataframe tbody tr th {\n",
       "        vertical-align: top;\n",
       "    }\n",
       "\n",
       "    .dataframe thead th {\n",
       "        text-align: right;\n",
       "    }\n",
       "</style>\n",
       "<table border=\"1\" class=\"dataframe\">\n",
       "  <thead>\n",
       "    <tr style=\"text-align: right;\">\n",
       "      <th></th>\n",
       "      <th>CustomerID</th>\n",
       "      <th>Days_Since_Last_Purchase</th>\n",
       "      <th>Total_Transactions</th>\n",
       "      <th>Total_Products_Purchased</th>\n",
       "      <th>Total_Spend</th>\n",
       "      <th>Average_Transaction_Value</th>\n",
       "      <th>Unique_Products_Purchased</th>\n",
       "      <th>Average_Days_Between_Purchases</th>\n",
       "      <th>Day_Of_Week</th>\n",
       "      <th>Hour</th>\n",
       "      <th>Is_UK</th>\n",
       "      <th>Cancellation_Frequency</th>\n",
       "      <th>Cancellation_Rate</th>\n",
       "    </tr>\n",
       "  </thead>\n",
       "  <tbody>\n",
       "    <tr>\n",
       "      <th>0</th>\n",
       "      <td>12346.0</td>\n",
       "      <td>325</td>\n",
       "      <td>2</td>\n",
       "      <td>0</td>\n",
       "      <td>0.00</td>\n",
       "      <td>0.000000</td>\n",
       "      <td>1</td>\n",
       "      <td>0.000000</td>\n",
       "      <td>1</td>\n",
       "      <td>10</td>\n",
       "      <td>1</td>\n",
       "      <td>1.0</td>\n",
       "      <td>0.5</td>\n",
       "    </tr>\n",
       "    <tr>\n",
       "      <th>1</th>\n",
       "      <td>12347.0</td>\n",
       "      <td>2</td>\n",
       "      <td>7</td>\n",
       "      <td>2458</td>\n",
       "      <td>4310.00</td>\n",
       "      <td>615.714286</td>\n",
       "      <td>103</td>\n",
       "      <td>2.016575</td>\n",
       "      <td>1</td>\n",
       "      <td>14</td>\n",
       "      <td>0</td>\n",
       "      <td>0.0</td>\n",
       "      <td>0.0</td>\n",
       "    </tr>\n",
       "    <tr>\n",
       "      <th>2</th>\n",
       "      <td>12348.0</td>\n",
       "      <td>75</td>\n",
       "      <td>4</td>\n",
       "      <td>2332</td>\n",
       "      <td>1437.24</td>\n",
       "      <td>359.310000</td>\n",
       "      <td>21</td>\n",
       "      <td>10.884615</td>\n",
       "      <td>3</td>\n",
       "      <td>19</td>\n",
       "      <td>0</td>\n",
       "      <td>0.0</td>\n",
       "      <td>0.0</td>\n",
       "    </tr>\n",
       "    <tr>\n",
       "      <th>3</th>\n",
       "      <td>12349.0</td>\n",
       "      <td>18</td>\n",
       "      <td>1</td>\n",
       "      <td>630</td>\n",
       "      <td>1457.55</td>\n",
       "      <td>1457.550000</td>\n",
       "      <td>72</td>\n",
       "      <td>0.000000</td>\n",
       "      <td>0</td>\n",
       "      <td>9</td>\n",
       "      <td>0</td>\n",
       "      <td>0.0</td>\n",
       "      <td>0.0</td>\n",
       "    </tr>\n",
       "    <tr>\n",
       "      <th>4</th>\n",
       "      <td>12350.0</td>\n",
       "      <td>310</td>\n",
       "      <td>1</td>\n",
       "      <td>196</td>\n",
       "      <td>294.40</td>\n",
       "      <td>294.400000</td>\n",
       "      <td>16</td>\n",
       "      <td>0.000000</td>\n",
       "      <td>2</td>\n",
       "      <td>16</td>\n",
       "      <td>0</td>\n",
       "      <td>0.0</td>\n",
       "      <td>0.0</td>\n",
       "    </tr>\n",
       "  </tbody>\n",
       "</table>\n",
       "</div>"
      ],
      "text/plain": [
       "   CustomerID  Days_Since_Last_Purchase  Total_Transactions  \\\n",
       "0     12346.0                       325                   2   \n",
       "1     12347.0                         2                   7   \n",
       "2     12348.0                        75                   4   \n",
       "3     12349.0                        18                   1   \n",
       "4     12350.0                       310                   1   \n",
       "\n",
       "   Total_Products_Purchased  Total_Spend  Average_Transaction_Value  \\\n",
       "0                         0         0.00                   0.000000   \n",
       "1                      2458      4310.00                 615.714286   \n",
       "2                      2332      1437.24                 359.310000   \n",
       "3                       630      1457.55                1457.550000   \n",
       "4                       196       294.40                 294.400000   \n",
       "\n",
       "   Unique_Products_Purchased  Average_Days_Between_Purchases  Day_Of_Week  \\\n",
       "0                          1                        0.000000            1   \n",
       "1                        103                        2.016575            1   \n",
       "2                         21                       10.884615            3   \n",
       "3                         72                        0.000000            0   \n",
       "4                         16                        0.000000            2   \n",
       "\n",
       "   Hour  Is_UK  Cancellation_Frequency  Cancellation_Rate  \n",
       "0    10      1                     1.0                0.5  \n",
       "1    14      0                     0.0                0.0  \n",
       "2    19      0                     0.0                0.0  \n",
       "3     9      0                     0.0                0.0  \n",
       "4    16      0                     0.0                0.0  "
      ]
     },
     "execution_count": 43,
     "metadata": {},
     "output_type": "execute_result"
    }
   ],
   "source": [
    "# Calculate the total number of transactions made by each customer\n",
    "total_transactions = df.groupby('CustomerID')['InvoiceNo'].nunique().reset_index()\n",
    "\n",
    "# Calculate the number of cancelled transactions for each customer\n",
    "cancelled_transactions = df[df['Transaction_Status'] == 'Cancelled']\n",
    "cancellation_frequency = cancelled_transactions.groupby('CustomerID')['InvoiceNo'].nunique().reset_index()\n",
    "cancellation_frequency.rename(columns={'InvoiceNo': 'Cancellation_Frequency'}, inplace=True)\n",
    "\n",
    "# Merge the Cancellation Frequency data into the customer_data dataframe\n",
    "customer_data = pd.merge(customer_data, cancellation_frequency, on='CustomerID', how='left')\n",
    "\n",
    "# Replace NaN values with 0 (for customers who have not cancelled any transaction)\n",
    "customer_data['Cancellation_Frequency'].fillna(0, inplace=True)\n",
    "\n",
    "# Calculate the Cancellation Rate\n",
    "customer_data['Cancellation_Rate'] = customer_data['Cancellation_Frequency'] / total_transactions['InvoiceNo']\n",
    "\n",
    "# Display the first few rows of the customer_data dataframe\n",
    "customer_data.head()"
   ]
  },
  {
   "cell_type": "markdown",
   "id": "5c381571",
   "metadata": {
    "papermill": {
     "duration": 0.065303,
     "end_time": "2023-09-13T18:56:05.333472",
     "exception": false,
     "start_time": "2023-09-13T18:56:05.268169",
     "status": "completed"
    },
    "tags": []
   },
   "source": [
    "<a id=\"seasonality_trends\"></a>\n",
    "# <b><span style='color:#fcc36d'>Step 4.6 |</span><span style='color:#ff6200'> Seasonality & Trends</span></b>\n",
    "⬆️ [Tabel of Contents](#contents_tabel)"
   ]
  },
  {
   "cell_type": "markdown",
   "id": "597477c3",
   "metadata": {
    "papermill": {
     "duration": 0.065548,
     "end_time": "2023-09-13T18:56:05.465159",
     "exception": false,
     "start_time": "2023-09-13T18:56:05.399611",
     "status": "completed"
    },
    "tags": []
   },
   "source": [
    "<div style=\"border-radius:10px; padding: 15px; background-color: #ffeacc; font-size:120%; text-align:left\">\n",
    "\n",
    "In this step, I will delve into the seasonality and trends in customers' purchasing behaviors, which can offer invaluable insights for tailoring marketing strategies and enhancing customer satisfaction. Here are the features I am looking to introduce:\n",
    "\n",
    "- __Monthly_Spending_Mean__: This is the average amount a customer spends monthly. It helps us gauge the general spending habit of each customer. A higher mean indicates a customer who spends more, potentially showing interest in premium products, whereas a lower mean might indicate a more budget-conscious customer.\n",
    "\n",
    "    \n",
    "- __Monthly_Spending_Std__: This feature indicates the variability in a customer's monthly spending. A higher value signals that the customer's spending fluctuates significantly month-to-month, perhaps indicating sporadic large purchases. In contrast, a lower value suggests more stable, consistent spending habits. Understanding this variability can help in crafting personalized promotions or discounts during periods they are expected to spend more.\n",
    "\n",
    "    \n",
    "- __Spending_Trend__: This reflects the trend in a customer's spending over time, calculated as the slope of the linear trend line fitted to their spending data. A positive value indicates an increasing trend in spending, possibly pointing to growing loyalty or satisfaction. Conversely, a negative trend might signal decreasing interest or satisfaction, highlighting a need for re-engagement strategies. A near-zero value signifies stable spending habits. Recognizing these trends can help in developing strategies to either maintain or alter customer spending patterns, enhancing the effectiveness of marketing campaigns.\n",
    "\n",
    "By incorporating these detailed insights into our customer segmentation model, we can create more precise and actionable customer groups, facilitating the development of highly targeted marketing strategies and promotions.\n"
   ]
  },
  {
   "cell_type": "code",
   "execution_count": 44,
   "id": "c5720ea3",
   "metadata": {
    "papermill": {
     "duration": 0.835651,
     "end_time": "2023-09-13T18:56:06.367576",
     "exception": false,
     "start_time": "2023-09-13T18:56:05.531925",
     "status": "completed"
    },
    "tags": []
   },
   "outputs": [
    {
     "data": {
      "text/html": [
       "<div>\n",
       "<style scoped>\n",
       "    .dataframe tbody tr th:only-of-type {\n",
       "        vertical-align: middle;\n",
       "    }\n",
       "\n",
       "    .dataframe tbody tr th {\n",
       "        vertical-align: top;\n",
       "    }\n",
       "\n",
       "    .dataframe thead th {\n",
       "        text-align: right;\n",
       "    }\n",
       "</style>\n",
       "<table border=\"1\" class=\"dataframe\">\n",
       "  <thead>\n",
       "    <tr style=\"text-align: right;\">\n",
       "      <th></th>\n",
       "      <th>CustomerID</th>\n",
       "      <th>Days_Since_Last_Purchase</th>\n",
       "      <th>Total_Transactions</th>\n",
       "      <th>Total_Products_Purchased</th>\n",
       "      <th>Total_Spend</th>\n",
       "      <th>Average_Transaction_Value</th>\n",
       "      <th>Unique_Products_Purchased</th>\n",
       "      <th>Average_Days_Between_Purchases</th>\n",
       "      <th>Day_Of_Week</th>\n",
       "      <th>Hour</th>\n",
       "      <th>Is_UK</th>\n",
       "      <th>Cancellation_Frequency</th>\n",
       "      <th>Cancellation_Rate</th>\n",
       "      <th>Monthly_Spending_Mean</th>\n",
       "      <th>Monthly_Spending_Std</th>\n",
       "      <th>Spending_Trend</th>\n",
       "    </tr>\n",
       "  </thead>\n",
       "  <tbody>\n",
       "    <tr>\n",
       "      <th>0</th>\n",
       "      <td>12346.0</td>\n",
       "      <td>325</td>\n",
       "      <td>2</td>\n",
       "      <td>0</td>\n",
       "      <td>0.00</td>\n",
       "      <td>0.000000</td>\n",
       "      <td>1</td>\n",
       "      <td>0.000000</td>\n",
       "      <td>1</td>\n",
       "      <td>10</td>\n",
       "      <td>1</td>\n",
       "      <td>1.0</td>\n",
       "      <td>0.5</td>\n",
       "      <td>0.000000</td>\n",
       "      <td>0.000000</td>\n",
       "      <td>0.000000</td>\n",
       "    </tr>\n",
       "    <tr>\n",
       "      <th>1</th>\n",
       "      <td>12347.0</td>\n",
       "      <td>2</td>\n",
       "      <td>7</td>\n",
       "      <td>2458</td>\n",
       "      <td>4310.00</td>\n",
       "      <td>615.714286</td>\n",
       "      <td>103</td>\n",
       "      <td>2.016575</td>\n",
       "      <td>1</td>\n",
       "      <td>14</td>\n",
       "      <td>0</td>\n",
       "      <td>0.0</td>\n",
       "      <td>0.0</td>\n",
       "      <td>615.714286</td>\n",
       "      <td>341.070789</td>\n",
       "      <td>4.486071</td>\n",
       "    </tr>\n",
       "    <tr>\n",
       "      <th>2</th>\n",
       "      <td>12348.0</td>\n",
       "      <td>75</td>\n",
       "      <td>4</td>\n",
       "      <td>2332</td>\n",
       "      <td>1437.24</td>\n",
       "      <td>359.310000</td>\n",
       "      <td>21</td>\n",
       "      <td>10.884615</td>\n",
       "      <td>3</td>\n",
       "      <td>19</td>\n",
       "      <td>0</td>\n",
       "      <td>0.0</td>\n",
       "      <td>0.0</td>\n",
       "      <td>359.310000</td>\n",
       "      <td>203.875689</td>\n",
       "      <td>-100.884000</td>\n",
       "    </tr>\n",
       "    <tr>\n",
       "      <th>3</th>\n",
       "      <td>12349.0</td>\n",
       "      <td>18</td>\n",
       "      <td>1</td>\n",
       "      <td>630</td>\n",
       "      <td>1457.55</td>\n",
       "      <td>1457.550000</td>\n",
       "      <td>72</td>\n",
       "      <td>0.000000</td>\n",
       "      <td>0</td>\n",
       "      <td>9</td>\n",
       "      <td>0</td>\n",
       "      <td>0.0</td>\n",
       "      <td>0.0</td>\n",
       "      <td>1457.550000</td>\n",
       "      <td>0.000000</td>\n",
       "      <td>0.000000</td>\n",
       "    </tr>\n",
       "    <tr>\n",
       "      <th>4</th>\n",
       "      <td>12350.0</td>\n",
       "      <td>310</td>\n",
       "      <td>1</td>\n",
       "      <td>196</td>\n",
       "      <td>294.40</td>\n",
       "      <td>294.400000</td>\n",
       "      <td>16</td>\n",
       "      <td>0.000000</td>\n",
       "      <td>2</td>\n",
       "      <td>16</td>\n",
       "      <td>0</td>\n",
       "      <td>0.0</td>\n",
       "      <td>0.0</td>\n",
       "      <td>294.400000</td>\n",
       "      <td>0.000000</td>\n",
       "      <td>0.000000</td>\n",
       "    </tr>\n",
       "  </tbody>\n",
       "</table>\n",
       "</div>"
      ],
      "text/plain": [
       "   CustomerID  Days_Since_Last_Purchase  Total_Transactions  \\\n",
       "0     12346.0                       325                   2   \n",
       "1     12347.0                         2                   7   \n",
       "2     12348.0                        75                   4   \n",
       "3     12349.0                        18                   1   \n",
       "4     12350.0                       310                   1   \n",
       "\n",
       "   Total_Products_Purchased  Total_Spend  Average_Transaction_Value  \\\n",
       "0                         0         0.00                   0.000000   \n",
       "1                      2458      4310.00                 615.714286   \n",
       "2                      2332      1437.24                 359.310000   \n",
       "3                       630      1457.55                1457.550000   \n",
       "4                       196       294.40                 294.400000   \n",
       "\n",
       "   Unique_Products_Purchased  Average_Days_Between_Purchases  Day_Of_Week  \\\n",
       "0                          1                        0.000000            1   \n",
       "1                        103                        2.016575            1   \n",
       "2                         21                       10.884615            3   \n",
       "3                         72                        0.000000            0   \n",
       "4                         16                        0.000000            2   \n",
       "\n",
       "   Hour  Is_UK  Cancellation_Frequency  Cancellation_Rate  \\\n",
       "0    10      1                     1.0                0.5   \n",
       "1    14      0                     0.0                0.0   \n",
       "2    19      0                     0.0                0.0   \n",
       "3     9      0                     0.0                0.0   \n",
       "4    16      0                     0.0                0.0   \n",
       "\n",
       "   Monthly_Spending_Mean  Monthly_Spending_Std  Spending_Trend  \n",
       "0               0.000000              0.000000        0.000000  \n",
       "1             615.714286            341.070789        4.486071  \n",
       "2             359.310000            203.875689     -100.884000  \n",
       "3            1457.550000              0.000000        0.000000  \n",
       "4             294.400000              0.000000        0.000000  "
      ]
     },
     "execution_count": 44,
     "metadata": {},
     "output_type": "execute_result"
    }
   ],
   "source": [
    "# Extract month and year from InvoiceDate\n",
    "df['Year'] = df['InvoiceDate'].dt.year\n",
    "df['Month'] = df['InvoiceDate'].dt.month\n",
    "\n",
    "# Calculate monthly spending for each customer\n",
    "monthly_spending = df.groupby(['CustomerID', 'Year', 'Month'])['Total_Spend'].sum().reset_index()\n",
    "\n",
    "# Calculate Seasonal Buying Patterns: We are using monthly frequency as a proxy for seasonal buying patterns\n",
    "seasonal_buying_patterns = monthly_spending.groupby('CustomerID')['Total_Spend'].agg(['mean', 'std']).reset_index()\n",
    "seasonal_buying_patterns.rename(columns={'mean': 'Monthly_Spending_Mean', 'std': 'Monthly_Spending_Std'}, inplace=True)\n",
    "\n",
    "# Replace NaN values in Monthly_Spending_Std with 0, implying no variability for customers with single transaction month\n",
    "seasonal_buying_patterns['Monthly_Spending_Std'].fillna(0, inplace=True)\n",
    "\n",
    "# Calculate Trends in Spending \n",
    "# We are using the slope of the linear trend line fitted to the customer's spending over time as an indicator of spending trends\n",
    "def calculate_trend(spend_data):\n",
    "    # If there are more than one data points, we calculate the trend using linear regression\n",
    "    if len(spend_data) > 1:\n",
    "        x = np.arange(len(spend_data))\n",
    "        slope, _, _, _, _ = linregress(x, spend_data)\n",
    "        return slope\n",
    "    # If there is only one data point, no trend can be calculated, hence we return 0\n",
    "    else:\n",
    "        return 0\n",
    "\n",
    "# Apply the calculate_trend function to find the spending trend for each customer\n",
    "spending_trends = monthly_spending.groupby('CustomerID')['Total_Spend'].apply(calculate_trend).reset_index()\n",
    "spending_trends.rename(columns={'Total_Spend': 'Spending_Trend'}, inplace=True)\n",
    "\n",
    "# Merge the new features into the customer_data dataframe\n",
    "customer_data = pd.merge(customer_data, seasonal_buying_patterns, on='CustomerID')\n",
    "customer_data = pd.merge(customer_data, spending_trends, on='CustomerID')\n",
    "\n",
    "# Display the first few rows of the customer_data dataframe\n",
    "customer_data.head()"
   ]
  },
  {
   "cell_type": "markdown",
   "id": "77e1417c",
   "metadata": {
    "papermill": {
     "duration": 0.070024,
     "end_time": "2023-09-13T18:56:06.504061",
     "exception": false,
     "start_time": "2023-09-13T18:56:06.434037",
     "status": "completed"
    },
    "tags": []
   },
   "source": [
    "<div style=\"border-radius:10px; padding: 15px; background-color: #ffeacc; font-size:120%; text-align:left\">\n",
    "\n",
    "We've done a great job so far! We have created a dataset that focuses on our customers, using a variety of new features that give us a deeper understanding of their buying patterns and preferences."
   ]
  },
  {
   "cell_type": "code",
   "execution_count": 45,
   "id": "ced9cc9e",
   "metadata": {
    "papermill": {
     "duration": 0.103278,
     "end_time": "2023-09-13T18:56:06.675301",
     "exception": false,
     "start_time": "2023-09-13T18:56:06.572023",
     "status": "completed"
    },
    "tags": []
   },
   "outputs": [],
   "source": [
    "# Changing the data type of 'CustomerID' to string as it is a unique identifier and not used in mathematical operations\n",
    "customer_data['CustomerID'] = customer_data['CustomerID'].astype(str)\n",
    "\n",
    "# Convert data types of columns to optimal types\n",
    "customer_data = customer_data.convert_dtypes()"
   ]
  },
  {
   "cell_type": "code",
   "execution_count": 46,
   "id": "ad4a945c",
   "metadata": {
    "papermill": {
     "duration": 0.102034,
     "end_time": "2023-09-13T18:56:06.846461",
     "exception": false,
     "start_time": "2023-09-13T18:56:06.744427",
     "status": "completed"
    },
    "tags": []
   },
   "outputs": [
    {
     "data": {
      "text/html": [
       "<div>\n",
       "<style scoped>\n",
       "    .dataframe tbody tr th:only-of-type {\n",
       "        vertical-align: middle;\n",
       "    }\n",
       "\n",
       "    .dataframe tbody tr th {\n",
       "        vertical-align: top;\n",
       "    }\n",
       "\n",
       "    .dataframe thead th {\n",
       "        text-align: right;\n",
       "    }\n",
       "</style>\n",
       "<table border=\"1\" class=\"dataframe\">\n",
       "  <thead>\n",
       "    <tr style=\"text-align: right;\">\n",
       "      <th></th>\n",
       "      <th>CustomerID</th>\n",
       "      <th>Days_Since_Last_Purchase</th>\n",
       "      <th>Total_Transactions</th>\n",
       "      <th>Total_Products_Purchased</th>\n",
       "      <th>Total_Spend</th>\n",
       "      <th>Average_Transaction_Value</th>\n",
       "      <th>Unique_Products_Purchased</th>\n",
       "      <th>Average_Days_Between_Purchases</th>\n",
       "      <th>Day_Of_Week</th>\n",
       "      <th>Hour</th>\n",
       "      <th>Is_UK</th>\n",
       "      <th>Cancellation_Frequency</th>\n",
       "      <th>Cancellation_Rate</th>\n",
       "      <th>Monthly_Spending_Mean</th>\n",
       "      <th>Monthly_Spending_Std</th>\n",
       "      <th>Spending_Trend</th>\n",
       "    </tr>\n",
       "  </thead>\n",
       "  <tbody>\n",
       "    <tr>\n",
       "      <th>0</th>\n",
       "      <td>12346.0</td>\n",
       "      <td>325</td>\n",
       "      <td>2</td>\n",
       "      <td>0</td>\n",
       "      <td>0.0</td>\n",
       "      <td>0.0</td>\n",
       "      <td>1</td>\n",
       "      <td>0.0</td>\n",
       "      <td>1</td>\n",
       "      <td>10</td>\n",
       "      <td>1</td>\n",
       "      <td>1</td>\n",
       "      <td>0.5</td>\n",
       "      <td>0.0</td>\n",
       "      <td>0.0</td>\n",
       "      <td>0.0</td>\n",
       "    </tr>\n",
       "    <tr>\n",
       "      <th>1</th>\n",
       "      <td>12347.0</td>\n",
       "      <td>2</td>\n",
       "      <td>7</td>\n",
       "      <td>2458</td>\n",
       "      <td>4310.0</td>\n",
       "      <td>615.714286</td>\n",
       "      <td>103</td>\n",
       "      <td>2.016575</td>\n",
       "      <td>1</td>\n",
       "      <td>14</td>\n",
       "      <td>0</td>\n",
       "      <td>0</td>\n",
       "      <td>0.0</td>\n",
       "      <td>615.714286</td>\n",
       "      <td>341.070789</td>\n",
       "      <td>4.486071</td>\n",
       "    </tr>\n",
       "    <tr>\n",
       "      <th>2</th>\n",
       "      <td>12348.0</td>\n",
       "      <td>75</td>\n",
       "      <td>4</td>\n",
       "      <td>2332</td>\n",
       "      <td>1437.24</td>\n",
       "      <td>359.31</td>\n",
       "      <td>21</td>\n",
       "      <td>10.884615</td>\n",
       "      <td>3</td>\n",
       "      <td>19</td>\n",
       "      <td>0</td>\n",
       "      <td>0</td>\n",
       "      <td>0.0</td>\n",
       "      <td>359.31</td>\n",
       "      <td>203.875689</td>\n",
       "      <td>-100.884</td>\n",
       "    </tr>\n",
       "    <tr>\n",
       "      <th>3</th>\n",
       "      <td>12349.0</td>\n",
       "      <td>18</td>\n",
       "      <td>1</td>\n",
       "      <td>630</td>\n",
       "      <td>1457.55</td>\n",
       "      <td>1457.55</td>\n",
       "      <td>72</td>\n",
       "      <td>0.0</td>\n",
       "      <td>0</td>\n",
       "      <td>9</td>\n",
       "      <td>0</td>\n",
       "      <td>0</td>\n",
       "      <td>0.0</td>\n",
       "      <td>1457.55</td>\n",
       "      <td>0.0</td>\n",
       "      <td>0.0</td>\n",
       "    </tr>\n",
       "    <tr>\n",
       "      <th>4</th>\n",
       "      <td>12350.0</td>\n",
       "      <td>310</td>\n",
       "      <td>1</td>\n",
       "      <td>196</td>\n",
       "      <td>294.4</td>\n",
       "      <td>294.4</td>\n",
       "      <td>16</td>\n",
       "      <td>0.0</td>\n",
       "      <td>2</td>\n",
       "      <td>16</td>\n",
       "      <td>0</td>\n",
       "      <td>0</td>\n",
       "      <td>0.0</td>\n",
       "      <td>294.4</td>\n",
       "      <td>0.0</td>\n",
       "      <td>0.0</td>\n",
       "    </tr>\n",
       "    <tr>\n",
       "      <th>5</th>\n",
       "      <td>12352.0</td>\n",
       "      <td>36</td>\n",
       "      <td>8</td>\n",
       "      <td>463</td>\n",
       "      <td>1265.41</td>\n",
       "      <td>158.17625</td>\n",
       "      <td>57</td>\n",
       "      <td>3.13253</td>\n",
       "      <td>1</td>\n",
       "      <td>14</td>\n",
       "      <td>0</td>\n",
       "      <td>1</td>\n",
       "      <td>0.125</td>\n",
       "      <td>316.3525</td>\n",
       "      <td>134.700629</td>\n",
       "      <td>9.351</td>\n",
       "    </tr>\n",
       "    <tr>\n",
       "      <th>6</th>\n",
       "      <td>12353.0</td>\n",
       "      <td>204</td>\n",
       "      <td>1</td>\n",
       "      <td>20</td>\n",
       "      <td>89.0</td>\n",
       "      <td>89.0</td>\n",
       "      <td>4</td>\n",
       "      <td>0.0</td>\n",
       "      <td>3</td>\n",
       "      <td>17</td>\n",
       "      <td>0</td>\n",
       "      <td>0</td>\n",
       "      <td>0.0</td>\n",
       "      <td>89.0</td>\n",
       "      <td>0.0</td>\n",
       "      <td>0.0</td>\n",
       "    </tr>\n",
       "    <tr>\n",
       "      <th>7</th>\n",
       "      <td>12354.0</td>\n",
       "      <td>232</td>\n",
       "      <td>1</td>\n",
       "      <td>530</td>\n",
       "      <td>1079.4</td>\n",
       "      <td>1079.4</td>\n",
       "      <td>58</td>\n",
       "      <td>0.0</td>\n",
       "      <td>3</td>\n",
       "      <td>13</td>\n",
       "      <td>0</td>\n",
       "      <td>0</td>\n",
       "      <td>0.0</td>\n",
       "      <td>1079.4</td>\n",
       "      <td>0.0</td>\n",
       "      <td>0.0</td>\n",
       "    </tr>\n",
       "    <tr>\n",
       "      <th>8</th>\n",
       "      <td>12355.0</td>\n",
       "      <td>214</td>\n",
       "      <td>1</td>\n",
       "      <td>240</td>\n",
       "      <td>459.4</td>\n",
       "      <td>459.4</td>\n",
       "      <td>13</td>\n",
       "      <td>0.0</td>\n",
       "      <td>0</td>\n",
       "      <td>13</td>\n",
       "      <td>0</td>\n",
       "      <td>0</td>\n",
       "      <td>0.0</td>\n",
       "      <td>459.4</td>\n",
       "      <td>0.0</td>\n",
       "      <td>0.0</td>\n",
       "    </tr>\n",
       "    <tr>\n",
       "      <th>9</th>\n",
       "      <td>12356.0</td>\n",
       "      <td>22</td>\n",
       "      <td>3</td>\n",
       "      <td>1573</td>\n",
       "      <td>2487.43</td>\n",
       "      <td>829.143333</td>\n",
       "      <td>52</td>\n",
       "      <td>5.315789</td>\n",
       "      <td>1</td>\n",
       "      <td>9</td>\n",
       "      <td>0</td>\n",
       "      <td>0</td>\n",
       "      <td>0.0</td>\n",
       "      <td>829.143333</td>\n",
       "      <td>991.462585</td>\n",
       "      <td>-944.635</td>\n",
       "    </tr>\n",
       "  </tbody>\n",
       "</table>\n",
       "</div>"
      ],
      "text/plain": [
       "  CustomerID  Days_Since_Last_Purchase  Total_Transactions  \\\n",
       "0    12346.0                       325                   2   \n",
       "1    12347.0                         2                   7   \n",
       "2    12348.0                        75                   4   \n",
       "3    12349.0                        18                   1   \n",
       "4    12350.0                       310                   1   \n",
       "5    12352.0                        36                   8   \n",
       "6    12353.0                       204                   1   \n",
       "7    12354.0                       232                   1   \n",
       "8    12355.0                       214                   1   \n",
       "9    12356.0                        22                   3   \n",
       "\n",
       "   Total_Products_Purchased  Total_Spend  Average_Transaction_Value  \\\n",
       "0                         0          0.0                        0.0   \n",
       "1                      2458       4310.0                 615.714286   \n",
       "2                      2332      1437.24                     359.31   \n",
       "3                       630      1457.55                    1457.55   \n",
       "4                       196        294.4                      294.4   \n",
       "5                       463      1265.41                  158.17625   \n",
       "6                        20         89.0                       89.0   \n",
       "7                       530       1079.4                     1079.4   \n",
       "8                       240        459.4                      459.4   \n",
       "9                      1573      2487.43                 829.143333   \n",
       "\n",
       "   Unique_Products_Purchased  Average_Days_Between_Purchases  Day_Of_Week  \\\n",
       "0                          1                             0.0            1   \n",
       "1                        103                        2.016575            1   \n",
       "2                         21                       10.884615            3   \n",
       "3                         72                             0.0            0   \n",
       "4                         16                             0.0            2   \n",
       "5                         57                         3.13253            1   \n",
       "6                          4                             0.0            3   \n",
       "7                         58                             0.0            3   \n",
       "8                         13                             0.0            0   \n",
       "9                         52                        5.315789            1   \n",
       "\n",
       "   Hour  Is_UK  Cancellation_Frequency  Cancellation_Rate  \\\n",
       "0    10      1                       1                0.5   \n",
       "1    14      0                       0                0.0   \n",
       "2    19      0                       0                0.0   \n",
       "3     9      0                       0                0.0   \n",
       "4    16      0                       0                0.0   \n",
       "5    14      0                       1              0.125   \n",
       "6    17      0                       0                0.0   \n",
       "7    13      0                       0                0.0   \n",
       "8    13      0                       0                0.0   \n",
       "9     9      0                       0                0.0   \n",
       "\n",
       "   Monthly_Spending_Mean  Monthly_Spending_Std  Spending_Trend  \n",
       "0                    0.0                   0.0             0.0  \n",
       "1             615.714286            341.070789        4.486071  \n",
       "2                 359.31            203.875689        -100.884  \n",
       "3                1457.55                   0.0             0.0  \n",
       "4                  294.4                   0.0             0.0  \n",
       "5               316.3525            134.700629           9.351  \n",
       "6                   89.0                   0.0             0.0  \n",
       "7                 1079.4                   0.0             0.0  \n",
       "8                  459.4                   0.0             0.0  \n",
       "9             829.143333            991.462585        -944.635  "
      ]
     },
     "execution_count": 46,
     "metadata": {},
     "output_type": "execute_result"
    }
   ],
   "source": [
    "customer_data.head(10)"
   ]
  },
  {
   "cell_type": "code",
   "execution_count": 47,
   "id": "84886ab4",
   "metadata": {
    "papermill": {
     "duration": 0.09233,
     "end_time": "2023-09-13T18:56:07.006785",
     "exception": false,
     "start_time": "2023-09-13T18:56:06.914455",
     "status": "completed"
    },
    "tags": []
   },
   "outputs": [
    {
     "name": "stdout",
     "output_type": "stream",
     "text": [
      "<class 'pandas.core.frame.DataFrame'>\n",
      "RangeIndex: 4282 entries, 0 to 4281\n",
      "Data columns (total 16 columns):\n",
      " #   Column                          Non-Null Count  Dtype  \n",
      "---  ------                          --------------  -----  \n",
      " 0   CustomerID                      4282 non-null   string \n",
      " 1   Days_Since_Last_Purchase        4282 non-null   Int64  \n",
      " 2   Total_Transactions              4282 non-null   Int64  \n",
      " 3   Total_Products_Purchased        4282 non-null   Int64  \n",
      " 4   Total_Spend                     4282 non-null   Float64\n",
      " 5   Average_Transaction_Value       4282 non-null   Float64\n",
      " 6   Unique_Products_Purchased       4282 non-null   Int64  \n",
      " 7   Average_Days_Between_Purchases  4282 non-null   Float64\n",
      " 8   Day_Of_Week                     4282 non-null   Int32  \n",
      " 9   Hour                            4282 non-null   Int32  \n",
      " 10  Is_UK                           4282 non-null   Int64  \n",
      " 11  Cancellation_Frequency          4282 non-null   Int64  \n",
      " 12  Cancellation_Rate               4282 non-null   Float64\n",
      " 13  Monthly_Spending_Mean           4282 non-null   Float64\n",
      " 14  Monthly_Spending_Std            4282 non-null   Float64\n",
      " 15  Spending_Trend                  4282 non-null   Float64\n",
      "dtypes: Float64(7), Int32(2), Int64(6), string(1)\n",
      "memory usage: 564.7 KB\n"
     ]
    }
   ],
   "source": [
    "customer_data.info()"
   ]
  },
  {
   "cell_type": "markdown",
   "id": "6add8e7d",
   "metadata": {
    "papermill": {
     "duration": 0.068289,
     "end_time": "2023-09-13T18:56:07.145231",
     "exception": false,
     "start_time": "2023-09-13T18:56:07.076942",
     "status": "completed"
    },
    "tags": []
   },
   "source": [
    "<div style=\"border-radius:10px; padding: 15px; background-color: #ffeacc; font-size:120%; text-align:left\">\n",
    "    \n",
    "Let's review the descriptions of the columns in our newly created `customer_data` dataset:"
   ]
  },
  {
   "cell_type": "markdown",
   "id": "ece07f05",
   "metadata": {
    "papermill": {
     "duration": 0.067916,
     "end_time": "2023-09-13T18:56:07.281272",
     "exception": false,
     "start_time": "2023-09-13T18:56:07.213356",
     "status": "completed"
    },
    "tags": []
   },
   "source": [
    "<div style=\"border-radius:10px; padding: 15px; background-color: #ffeacc; font-size:130%; text-align:left\">\n",
    "\n",
    "<h2 align=\"left\"><font color=#ff6200>Customer Dataset Description:</font></h2>\n",
    "\n",
    "| __Variable__                       | __Description__ |\n",
    "|     :---                           |       :---      |\n",
    "| __CustomerID__                     | Identifier uniquely assigned to each customer, used to distinguish individual customers. |\n",
    "| __Days_Since_Last_Purchase__       | The number of days that have passed since the customer's last purchase. |\n",
    "| __Total_Transactions__             | The total number of transactions made by the customer. |\n",
    "| __Total_Products_Purchased__       | The total quantity of products purchased by the customer across all transactions. |\n",
    "| __Total_Spend__                    | The total amount of money the customer has spent across all transactions. |\n",
    "| __Average_Transaction_Value__      | The average value of the customer's transactions, calculated as total spend divided by the number of transactions. |\n",
    "| __Unique_Products_Purchased__      | The number of different products the customer has purchased. |\n",
    "| __Average_Days_Between_Purchases__ | The average number of days between consecutive purchases made by the customer. |\n",
    "| __Day_Of_Week__                    | The day of the week when the customer prefers to shop, represented numerically (0 for Monday, 6 for Sunday). |\n",
    "| __Hour__                           | The hour of the day when the customer prefers to shop, represented in a 24-hour format. |\n",
    "| __Is_UK__                          | A binary variable indicating whether the customer is based in the UK (1) or not (0). |\n",
    "| __Cancellation_Frequency__         | The total number of transactions that the customer has cancelled. |\n",
    "| __Cancellation_Rate__              | The proportion of transactions that the customer has cancelled, calculated as cancellation frequency divided by total transactions. |\n",
    "| __Monthly_Spending_Mean__          | The average monthly spending of the customer. |\n",
    "| __Monthly_Spending_Std__           | The standard deviation of the customer's monthly spending, indicating the variability in their spending pattern. |\n",
    "| __Spending_Trend__                 | A numerical representation of the trend in the customer's spending over time. A positive value indicates an increasing trend, a negative value indicates a decreasing trend, and a value close to zero indicates a stable trend. |\n"
   ]
  },
  {
   "cell_type": "markdown",
   "id": "7837ff7f",
   "metadata": {
    "papermill": {
     "duration": 0.068674,
     "end_time": "2023-09-13T18:56:07.421487",
     "exception": false,
     "start_time": "2023-09-13T18:56:07.352813",
     "status": "completed"
    },
    "tags": []
   },
   "source": [
    "<div style=\"border-radius:10px; padding: 15px; background-color: #ffeacc; font-size:120%; text-align:left\">\n",
    "\n",
    "We've done a great job so far! We have created a dataset that focuses on our customers, using a variety of new features that give us a deeper understanding of their buying patterns and preferences.\n",
    "\n",
    "Now that our dataset is ready, we can move on to the next steps of our project. This includes looking at our data more closely to find any patterns or trends, making sure our data is in the best shape by checking for and handling any outliers, and preparing our data for the clustering process. All of these steps will help us build a strong foundation for creating our customer segments and, eventually, a personalized recommendation system."
   ]
  },
  {
   "cell_type": "markdown",
   "id": "4f94aed6",
   "metadata": {
    "papermill": {
     "duration": 0.070253,
     "end_time": "2023-09-13T18:56:07.561122",
     "exception": false,
     "start_time": "2023-09-13T18:56:07.490869",
     "status": "completed"
    },
    "tags": []
   },
   "source": [
    "<h3 align=\"left\"><font color=#ff6200>Let's dive in!</font></h3>"
   ]
  },
  {
   "cell_type": "markdown",
   "id": "850905bd",
   "metadata": {
    "papermill": {
     "duration": 0.069589,
     "end_time": "2023-09-13T18:56:07.701447",
     "exception": false,
     "start_time": "2023-09-13T18:56:07.631858",
     "status": "completed"
    },
    "tags": []
   },
   "source": [
    "<a id=\"outlier_detection\"></a>\n",
    "# <p style=\"background-color: #ff6200; font-family:calibri; color:white; font-size:140%; font-family:Verdana; text-align:center; border-radius:15px 50px;\">Step 5 | Outlier Detection and Treatment</p>\n",
    "⬆️ [Tabel of Contents](#contents_tabel)"
   ]
  },
  {
   "cell_type": "markdown",
   "id": "028cb74d",
   "metadata": {
    "papermill": {
     "duration": 0.069178,
     "end_time": "2023-09-13T18:56:07.840934",
     "exception": false,
     "start_time": "2023-09-13T18:56:07.771756",
     "status": "completed"
    },
    "tags": []
   },
   "source": [
    "<div style=\"border-radius:10px; padding: 15px; background-color: #ffeacc; font-size:120%; text-align:left\">\n",
    "\n",
    "In this section, I will identify and handle outliers in our dataset. Outliers are data points that are significantly different from the majority of other points in the dataset. These points can potentially skew the results of our analysis, especially in k-means clustering where they can significantly influence the position of the cluster centroids. Therefore, it is essential to identify and treat these outliers appropriately to achieve more accurate and meaningful clustering results.\n",
    "\n",
    "Given the multi-dimensional nature of the data, it would be prudent to use algorithms that can detect outliers in multi-dimensional spaces. I am going to use the __Isolation Forest__ algorithm for this task. This algorithm works well for multi-dimensional data and is computationally efficient. It isolates observations by randomly selecting a feature and then randomly selecting a split value between the maximum and minimum values of the selected feature.\n",
    "\n",
    "Let's proceed with this approach:"
   ]
  },
  {
   "cell_type": "code",
   "execution_count": 48,
   "id": "a067ae0a",
   "metadata": {
    "papermill": {
     "duration": 0.728447,
     "end_time": "2023-09-13T18:56:08.639790",
     "exception": false,
     "start_time": "2023-09-13T18:56:07.911343",
     "status": "completed"
    },
    "tags": []
   },
   "outputs": [
    {
     "data": {
      "text/html": [
       "<div>\n",
       "<style scoped>\n",
       "    .dataframe tbody tr th:only-of-type {\n",
       "        vertical-align: middle;\n",
       "    }\n",
       "\n",
       "    .dataframe tbody tr th {\n",
       "        vertical-align: top;\n",
       "    }\n",
       "\n",
       "    .dataframe thead th {\n",
       "        text-align: right;\n",
       "    }\n",
       "</style>\n",
       "<table border=\"1\" class=\"dataframe\">\n",
       "  <thead>\n",
       "    <tr style=\"text-align: right;\">\n",
       "      <th></th>\n",
       "      <th>CustomerID</th>\n",
       "      <th>Days_Since_Last_Purchase</th>\n",
       "      <th>Total_Transactions</th>\n",
       "      <th>Total_Products_Purchased</th>\n",
       "      <th>Total_Spend</th>\n",
       "      <th>Average_Transaction_Value</th>\n",
       "      <th>Unique_Products_Purchased</th>\n",
       "      <th>Average_Days_Between_Purchases</th>\n",
       "      <th>Day_Of_Week</th>\n",
       "      <th>Hour</th>\n",
       "      <th>Is_UK</th>\n",
       "      <th>Cancellation_Frequency</th>\n",
       "      <th>Cancellation_Rate</th>\n",
       "      <th>Monthly_Spending_Mean</th>\n",
       "      <th>Monthly_Spending_Std</th>\n",
       "      <th>Spending_Trend</th>\n",
       "      <th>Outlier_Scores</th>\n",
       "      <th>Is_Outlier</th>\n",
       "    </tr>\n",
       "  </thead>\n",
       "  <tbody>\n",
       "    <tr>\n",
       "      <th>0</th>\n",
       "      <td>12346.0</td>\n",
       "      <td>325</td>\n",
       "      <td>2</td>\n",
       "      <td>0</td>\n",
       "      <td>0.0</td>\n",
       "      <td>0.0</td>\n",
       "      <td>1</td>\n",
       "      <td>0.0</td>\n",
       "      <td>1</td>\n",
       "      <td>10</td>\n",
       "      <td>1</td>\n",
       "      <td>1</td>\n",
       "      <td>0.5</td>\n",
       "      <td>0.0</td>\n",
       "      <td>0.0</td>\n",
       "      <td>0.0</td>\n",
       "      <td>1</td>\n",
       "      <td>0</td>\n",
       "    </tr>\n",
       "    <tr>\n",
       "      <th>1</th>\n",
       "      <td>12347.0</td>\n",
       "      <td>2</td>\n",
       "      <td>7</td>\n",
       "      <td>2458</td>\n",
       "      <td>4310.0</td>\n",
       "      <td>615.714286</td>\n",
       "      <td>103</td>\n",
       "      <td>2.016575</td>\n",
       "      <td>1</td>\n",
       "      <td>14</td>\n",
       "      <td>0</td>\n",
       "      <td>0</td>\n",
       "      <td>0.0</td>\n",
       "      <td>615.714286</td>\n",
       "      <td>341.070789</td>\n",
       "      <td>4.486071</td>\n",
       "      <td>1</td>\n",
       "      <td>0</td>\n",
       "    </tr>\n",
       "    <tr>\n",
       "      <th>2</th>\n",
       "      <td>12348.0</td>\n",
       "      <td>75</td>\n",
       "      <td>4</td>\n",
       "      <td>2332</td>\n",
       "      <td>1437.24</td>\n",
       "      <td>359.31</td>\n",
       "      <td>21</td>\n",
       "      <td>10.884615</td>\n",
       "      <td>3</td>\n",
       "      <td>19</td>\n",
       "      <td>0</td>\n",
       "      <td>0</td>\n",
       "      <td>0.0</td>\n",
       "      <td>359.31</td>\n",
       "      <td>203.875689</td>\n",
       "      <td>-100.884</td>\n",
       "      <td>1</td>\n",
       "      <td>0</td>\n",
       "    </tr>\n",
       "    <tr>\n",
       "      <th>3</th>\n",
       "      <td>12349.0</td>\n",
       "      <td>18</td>\n",
       "      <td>1</td>\n",
       "      <td>630</td>\n",
       "      <td>1457.55</td>\n",
       "      <td>1457.55</td>\n",
       "      <td>72</td>\n",
       "      <td>0.0</td>\n",
       "      <td>0</td>\n",
       "      <td>9</td>\n",
       "      <td>0</td>\n",
       "      <td>0</td>\n",
       "      <td>0.0</td>\n",
       "      <td>1457.55</td>\n",
       "      <td>0.0</td>\n",
       "      <td>0.0</td>\n",
       "      <td>1</td>\n",
       "      <td>0</td>\n",
       "    </tr>\n",
       "    <tr>\n",
       "      <th>4</th>\n",
       "      <td>12350.0</td>\n",
       "      <td>310</td>\n",
       "      <td>1</td>\n",
       "      <td>196</td>\n",
       "      <td>294.4</td>\n",
       "      <td>294.4</td>\n",
       "      <td>16</td>\n",
       "      <td>0.0</td>\n",
       "      <td>2</td>\n",
       "      <td>16</td>\n",
       "      <td>0</td>\n",
       "      <td>0</td>\n",
       "      <td>0.0</td>\n",
       "      <td>294.4</td>\n",
       "      <td>0.0</td>\n",
       "      <td>0.0</td>\n",
       "      <td>1</td>\n",
       "      <td>0</td>\n",
       "    </tr>\n",
       "  </tbody>\n",
       "</table>\n",
       "</div>"
      ],
      "text/plain": [
       "  CustomerID  Days_Since_Last_Purchase  Total_Transactions  \\\n",
       "0    12346.0                       325                   2   \n",
       "1    12347.0                         2                   7   \n",
       "2    12348.0                        75                   4   \n",
       "3    12349.0                        18                   1   \n",
       "4    12350.0                       310                   1   \n",
       "\n",
       "   Total_Products_Purchased  Total_Spend  Average_Transaction_Value  \\\n",
       "0                         0          0.0                        0.0   \n",
       "1                      2458       4310.0                 615.714286   \n",
       "2                      2332      1437.24                     359.31   \n",
       "3                       630      1457.55                    1457.55   \n",
       "4                       196        294.4                      294.4   \n",
       "\n",
       "   Unique_Products_Purchased  Average_Days_Between_Purchases  Day_Of_Week  \\\n",
       "0                          1                             0.0            1   \n",
       "1                        103                        2.016575            1   \n",
       "2                         21                       10.884615            3   \n",
       "3                         72                             0.0            0   \n",
       "4                         16                             0.0            2   \n",
       "\n",
       "   Hour  Is_UK  Cancellation_Frequency  Cancellation_Rate  \\\n",
       "0    10      1                       1                0.5   \n",
       "1    14      0                       0                0.0   \n",
       "2    19      0                       0                0.0   \n",
       "3     9      0                       0                0.0   \n",
       "4    16      0                       0                0.0   \n",
       "\n",
       "   Monthly_Spending_Mean  Monthly_Spending_Std  Spending_Trend  \\\n",
       "0                    0.0                   0.0             0.0   \n",
       "1             615.714286            341.070789        4.486071   \n",
       "2                 359.31            203.875689        -100.884   \n",
       "3                1457.55                   0.0             0.0   \n",
       "4                  294.4                   0.0             0.0   \n",
       "\n",
       "   Outlier_Scores  Is_Outlier  \n",
       "0               1           0  \n",
       "1               1           0  \n",
       "2               1           0  \n",
       "3               1           0  \n",
       "4               1           0  "
      ]
     },
     "execution_count": 48,
     "metadata": {},
     "output_type": "execute_result"
    }
   ],
   "source": [
    "# Initializing the IsolationForest model with a contamination parameter of 0.05\n",
    "model = IsolationForest(contamination=0.05, random_state=0)\n",
    "\n",
    "# Fitting the model on our dataset (converting DataFrame to NumPy to avoid warning)\n",
    "customer_data['Outlier_Scores'] = model.fit_predict(customer_data.iloc[:, 1:].to_numpy())\n",
    "\n",
    "# Creating a new column to identify outliers (1 for inliers and -1 for outliers)\n",
    "customer_data['Is_Outlier'] = [1 if x == -1 else 0 for x in customer_data['Outlier_Scores']]\n",
    "\n",
    "# Display the first few rows of the customer_data dataframe\n",
    "customer_data.head()"
   ]
  },
  {
   "cell_type": "markdown",
   "id": "16a1388e",
   "metadata": {
    "papermill": {
     "duration": 0.070961,
     "end_time": "2023-09-13T18:56:08.782642",
     "exception": false,
     "start_time": "2023-09-13T18:56:08.711681",
     "status": "completed"
    },
    "tags": []
   },
   "source": [
    "<div style=\"border-radius:10px; padding: 15px; background-color: #ffeacc; font-size:120%; text-align:left\">\n",
    "    \n",
    "After applying the Isolation Forest algorithm, we have identified the outliers and marked them in a new column named `Is_Outlier`. We have also calculated the outlier scores which represent the anomaly score of each record. \n",
    "\n",
    "Now let's visualize the distribution of these scores and the number of inliers and outliers detected by the model:"
   ]
  },
  {
   "cell_type": "code",
   "execution_count": 49,
   "id": "2a156aa4",
   "metadata": {
    "papermill": {
     "duration": 0.637863,
     "end_time": "2023-09-13T18:56:09.494637",
     "exception": false,
     "start_time": "2023-09-13T18:56:08.856774",
     "status": "completed"
    },
    "tags": []
   },
   "outputs": [
    {
     "data": {
      "image/png": "[encoded data removed]",
      "text/plain": [
       "<Figure size 1200x400 with 1 Axes>"
      ]
     },
     "metadata": {},
     "output_type": "display_data"
    }
   ],
   "source": [
    "# Calculate the percentage of inliers and outliers\n",
    "outlier_percentage = customer_data['Is_Outlier'].value_counts(normalize=True) * 100\n",
    "\n",
    "# Plotting the percentage of inliers and outliers\n",
    "plt.figure(figsize=(12, 4))\n",
    "outlier_percentage.plot(kind='barh', color='#ff6200')\n",
    "\n",
    "# Adding the percentage labels on the bars\n",
    "for index, value in enumerate(outlier_percentage):\n",
    "    plt.text(value, index, f'{value:.2f}%', fontsize=15)\n",
    "\n",
    "plt.title('Percentage of Inliers and Outliers')\n",
    "plt.xticks(ticks=np.arange(0, 115, 5))\n",
    "plt.xlabel('Percentage (%)')\n",
    "plt.ylabel('Is Outlier')\n",
    "plt.gca().invert_yaxis()\n",
    "plt.show()"
   ]
  },
  {
   "cell_type": "markdown",
   "id": "0e41f9f5",
   "metadata": {
    "papermill": {
     "duration": 0.071032,
     "end_time": "2023-09-13T18:56:09.635360",
     "exception": false,
     "start_time": "2023-09-13T18:56:09.564328",
     "status": "completed"
    },
    "tags": []
   },
   "source": [
    "<div style=\"border-radius:10px; padding: 15px; background-color: #ffeacc; font-size:120%; text-align:left\">\n",
    "<h3 align=\"left\"><font color=#ff6200>Inference: </font></h3>\n",
    "    \n",
    "From the above plot, we can observe that about 5% of the customers have been identified as outliers in our dataset. This percentage seems to be a reasonable proportion, not too high to lose a significant amount of data, and not too low to retain potentially noisy data points. It suggests that our isolation forest algorithm has worked well in identifying a moderate percentage of outliers, which will be critical in refining our customer segmentation."
   ]
  },
  {
   "cell_type": "markdown",
   "id": "0a076661",
   "metadata": {
    "papermill": {
     "duration": 0.072984,
     "end_time": "2023-09-13T18:56:09.779213",
     "exception": false,
     "start_time": "2023-09-13T18:56:09.706229",
     "status": "completed"
    },
    "tags": []
   },
   "source": [
    "<div style=\"border-radius:10px; padding: 15px; background-color: #ffeacc; font-size:120%; text-align:left\">\n",
    "<h3 align=\"left\"><font color=#ff6200>Strategy: </font></h3>\n",
    "\n",
    "Considering the nature of the project (customer segmentation using clustering), it is crucial to handle these outliers to prevent them from affecting the clusters' quality significantly. Therefore, I will separate these outliers for further analysis and remove them from our main dataset to prepare it for the clustering analysis. \n",
    "\n",
    "Let's proceed with the following steps:\n",
    "\n",
    "- Separate the identified outliers for further analysis and save them as a separate file (optional).\n",
    "- Remove the outliers from the main dataset to prevent them from influencing the clustering process.\n",
    "- Drop the `Outlier_Scores` and `Is_Outlier` columns as they were auxiliary columns used for the outlier detection process.\n",
    "\n",
    "Let's implement these steps:"
   ]
  },
  {
   "cell_type": "code",
   "execution_count": 50,
   "id": "4662a17f",
   "metadata": {
    "papermill": {
     "duration": 0.095994,
     "end_time": "2023-09-13T18:56:09.945790",
     "exception": false,
     "start_time": "2023-09-13T18:56:09.849796",
     "status": "completed"
    },
    "tags": []
   },
   "outputs": [],
   "source": [
    "# Separate the outliers for analysis\n",
    "outliers_data = customer_data[customer_data['Is_Outlier'] == 1]\n",
    "\n",
    "# Remove the outliers from the main dataset\n",
    "customer_data_cleaned = customer_data[customer_data['Is_Outlier'] == 0]\n",
    "\n",
    "# Drop the 'Outlier_Scores' and 'Is_Outlier' columns\n",
    "customer_data_cleaned = customer_data_cleaned.drop(columns=['Outlier_Scores', 'Is_Outlier'])\n",
    "\n",
    "# Reset the index of the cleaned data\n",
    "customer_data_cleaned.reset_index(drop=True, inplace=True)"
   ]
  },
  {
   "cell_type": "markdown",
   "id": "1a030cce",
   "metadata": {
    "papermill": {
     "duration": 0.071319,
     "end_time": "2023-09-13T18:56:10.088406",
     "exception": false,
     "start_time": "2023-09-13T18:56:10.017087",
     "status": "completed"
    },
    "tags": []
   },
   "source": [
    "<div style=\"border-radius:10px; padding: 15px; background-color: #ffeacc; font-size:120%; text-align:left\">\n",
    "    \n",
    "We have successfully separated the outliers for further analysis and cleaned our main dataset by removing these outliers. This cleaned dataset is now ready for the next steps in our customer segmentation project, which includes scaling the features and applying clustering algorithms to identify distinct customer segments."
   ]
  },
  {
   "cell_type": "code",
   "execution_count": 51,
   "id": "22f3e398",
   "metadata": {
    "papermill": {
     "duration": 0.085015,
     "end_time": "2023-09-13T18:56:10.246151",
     "exception": false,
     "start_time": "2023-09-13T18:56:10.161136",
     "status": "completed"
    },
    "tags": []
   },
   "outputs": [
    {
     "data": {
      "text/plain": [
       "4067"
      ]
     },
     "execution_count": 51,
     "metadata": {},
     "output_type": "execute_result"
    }
   ],
   "source": [
    "# Getting the number of rows in the cleaned customer dataset\n",
    "customer_data_cleaned.shape[0]"
   ]
  },
  {
   "cell_type": "markdown",
   "id": "c8510b52",
   "metadata": {
    "papermill": {
     "duration": 0.07047,
     "end_time": "2023-09-13T18:56:10.388162",
     "exception": false,
     "start_time": "2023-09-13T18:56:10.317692",
     "status": "completed"
    },
    "tags": []
   },
   "source": [
    "<a id=\"correlation\"></a>\n",
    "# <p style=\"background-color: #ff6200; font-family:calibri; color:white; font-size:140%; font-family:Verdana; text-align:center; border-radius:15px 50px;\">Step 6 | Correlation Analysis</p>\n",
    "⬆️ [Tabel of Contents](#contents_tabel)"
   ]
  },
  {
   "cell_type": "markdown",
   "id": "9aa9c2cf",
   "metadata": {
    "papermill": {
     "duration": 0.071934,
     "end_time": "2023-09-13T18:56:10.533432",
     "exception": false,
     "start_time": "2023-09-13T18:56:10.461498",
     "status": "completed"
    },
    "tags": []
   },
   "source": [
    "<div style=\"border-radius:10px; padding: 15px; background-color: #ffeacc; font-size:120%; text-align:left\">\n",
    "\n",
    "Before we proceed to KMeans clustering, it's essential to check the correlation between features in our dataset. The presence of __multicollinearity__, where __features are highly correlated__, can potentially affect the clustering process by not allowing the model to learn the actual underlying patterns in the data, as the features do not provide unique information. This could lead to clusters that are not well-separated and meaningful.\n",
    "\n",
    "If we identify multicollinearity, we can utilize dimensionality reduction techniques like PCA. These techniques help in neutralizing the effect of multicollinearity by transforming the correlated features into a new set of uncorrelated variables, preserving most of the original data's variance. This step not only enhances the quality of clusters formed but also makes the clustering process more computationally efficient."
   ]
  },
  {
   "cell_type": "code",
   "execution_count": 52,
   "id": "1df88ef0",
   "metadata": {
    "papermill": {
     "duration": 1.245909,
     "end_time": "2023-09-13T18:56:11.852633",
     "exception": false,
     "start_time": "2023-09-13T18:56:10.606724",
     "status": "completed"
    },
    "tags": []
   },
   "outputs": [
    {
     "data": {
      "image/png": "[encoded data removed]",
      "text/plain": [
       "<Figure size 1200x1000 with 2 Axes>"
      ]
     },
     "metadata": {},
     "output_type": "display_data"
    }
   ],
   "source": [
    "# Reset background style\n",
    "sns.set_style('whitegrid')\n",
    "\n",
    "# Calculate the correlation matrix excluding the 'CustomerID' column\n",
    "corr = customer_data_cleaned.drop(columns=['CustomerID']).corr()\n",
    "\n",
    "# Define a custom colormap\n",
    "colors = ['#ff6200', '#ffcaa8', 'white', '#ffcaa8', '#ff6200']\n",
    "my_cmap = LinearSegmentedColormap.from_list('custom_map', colors, N=256)\n",
    "\n",
    "# Create a mask to only show the lower triangle of the matrix (since it's mirrored around its \n",
    "# top-left to bottom-right diagonal)\n",
    "mask = np.zeros_like(corr)\n",
    "mask[np.triu_indices_from(mask, k=1)] = True\n",
    "\n",
    "# Plot the heatmap\n",
    "plt.figure(figsize=(12, 10))\n",
    "sns.heatmap(corr, mask=mask, cmap=my_cmap, annot=True, center=0, fmt='.2f', linewidths=2)\n",
    "plt.title('Correlation Matrix', fontsize=14)\n",
    "plt.show()"
   ]
  },
  {
   "cell_type": "markdown",
   "id": "c8b5e1c8",
   "metadata": {
    "papermill": {
     "duration": 0.078511,
     "end_time": "2023-09-13T18:56:12.023961",
     "exception": false,
     "start_time": "2023-09-13T18:56:11.945450",
     "status": "completed"
    },
    "tags": []
   },
   "source": [
    "<div style=\"border-radius:10px; padding: 15px; background-color: #ffeacc; font-size:120%; text-align:left\">\n",
    "<h3 align=\"left\"><font color=#ff6200>Inference: </font></h3>\n",
    "\n",
    "Looking at the heatmap, we can see that there are some pairs of variables that have high correlations, for instance:\n",
    "\n",
    "- `Monthly_Spending_Mean` and `Average_Transaction_Value`\n",
    "    \n",
    "    \n",
    "- `Total_Spend` and `Total_Products_Purchased`\n",
    "\n",
    "    \n",
    "- `Total_Transactions` and `Total_Spend`\n",
    "    \n",
    "    \n",
    "- `Cancellation_Rate` and `Cancellation_Frequency`\n",
    "    \n",
    "    \n",
    "- `Total_Transactions` and `Total_Products_Purchased`\n",
    " \n",
    "    \n",
    "These high correlations indicate that these variables move closely together, implying a degree of multicollinearity."
   ]
  },
  {
   "cell_type": "markdown",
   "id": "11588f38",
   "metadata": {
    "papermill": {
     "duration": 0.079063,
     "end_time": "2023-09-13T18:56:12.185719",
     "exception": false,
     "start_time": "2023-09-13T18:56:12.106656",
     "status": "completed"
    },
    "tags": []
   },
   "source": [
    "<div style=\"border-radius:10px; padding: 15px; background-color: #ffeacc; font-size:120%; text-align:left\">\n",
    "    \n",
    "\n",
    "Before moving to the next steps, considering the impact of multicollinearity on KMeans clustering, it might be beneficial to treat this multicollinearity possibly through dimensionality reduction techniques such as PCA to create a set of uncorrelated variables. This will help in achieving more stable clusters during the KMeans clustering process."
   ]
  },
  {
   "cell_type": "markdown",
   "id": "8a07521c",
   "metadata": {
    "papermill": {
     "duration": 0.078379,
     "end_time": "2023-09-13T18:56:12.342655",
     "exception": false,
     "start_time": "2023-09-13T18:56:12.264276",
     "status": "completed"
    },
    "tags": []
   },
   "source": [
    "<a id=\"scaling\"></a>\n",
    "# <p style=\"background-color: #ff6200; font-family:calibri; color:white; font-size:140%; font-family:Verdana; text-align:center; border-radius:15px 50px;\">Step 7 | Feature Scaling</p>\n",
    "⬆️ [Tabel of Contents](#contents_tabel)"
   ]
  },
  {
   "cell_type": "markdown",
   "id": "92aa1efd",
   "metadata": {
    "papermill": {
     "duration": 0.079113,
     "end_time": "2023-09-13T18:56:12.503824",
     "exception": false,
     "start_time": "2023-09-13T18:56:12.424711",
     "status": "completed"
    },
    "tags": []
   },
   "source": [
    "<div style=\"border-radius:10px; padding: 15px; background-color: #ffeacc; font-size:120%; text-align:left\">\n",
    "\n",
    "Before we move forward with the clustering and dimensionality reduction, it's imperative to scale our features. This step holds significant importance, especially in the context of distance-based algorithms like K-means and dimensionality reduction methods like PCA. Here's why:\n",
    "\n",
    "  - __For K-means Clustering__: K-means relies heavily on the concept of '__distance__' between data points to form clusters. When features are not on a similar scale, features with larger values can disproportionately influence the clustering outcome, potentially leading to incorrect groupings.\n",
    "  \n",
    "    \n",
    "  - __For PCA__: PCA aims to find the directions where the data varies the most. When features are not scaled, those with larger values might dominate these components, not accurately reflecting the underlying patterns in the data.\n"
   ]
  },
  {
   "cell_type": "markdown",
   "id": "ca390b0c",
   "metadata": {
    "papermill": {
     "duration": 0.081475,
     "end_time": "2023-09-13T18:56:12.665586",
     "exception": false,
     "start_time": "2023-09-13T18:56:12.584111",
     "status": "completed"
    },
    "tags": []
   },
   "source": [
    "<div style=\"border-radius:10px; padding: 15px; background-color: #ffeacc; font-size:120%; text-align:left\">\n",
    "<h3 align=\"left\"><font color=#ff6200>Methodology: </font></h3>\n",
    "    \n",
    "Therefore, to ensure a balanced influence on the model and to reveal the true patterns in the data, I am going to standardize our data, meaning transforming the features to have a mean of 0 and a standard deviation of 1. However, not all features require scaling. Here are the exceptions and the reasons why they are excluded:\n",
    "\n",
    "- __CustomerID__: This feature is just an identifier for the customers and does not contain any meaningful information for clustering.\n",
    "    \n",
    "    \n",
    "- __Is_UK__: This is a binary feature indicating whether the customer is from the UK or not. Since it already takes a value of 0 or 1, scaling it won't make any significant difference.\n",
    "    \n",
    "    \n",
    "- __Day_Of_Week__: This feature represents the most frequent day of the week that the customer made transactions. Since it's a categorical feature represented by integers (1 to 7), scaling it would not be necessary.\n",
    "\n",
    "    \n",
    "I will proceed to scale the other features in the dataset to prepare it for PCA and K-means clustering."
   ]
  },
  {
   "cell_type": "code",
   "execution_count": 53,
   "id": "6a2707ef",
   "metadata": {
    "papermill": {
     "duration": 0.130165,
     "end_time": "2023-09-13T18:56:12.878414",
     "exception": false,
     "start_time": "2023-09-13T18:56:12.748249",
     "status": "completed"
    },
    "tags": []
   },
   "outputs": [
    {
     "data": {
      "text/html": [
       "<div>\n",
       "<style scoped>\n",
       "    .dataframe tbody tr th:only-of-type {\n",
       "        vertical-align: middle;\n",
       "    }\n",
       "\n",
       "    .dataframe tbody tr th {\n",
       "        vertical-align: top;\n",
       "    }\n",
       "\n",
       "    .dataframe thead th {\n",
       "        text-align: right;\n",
       "    }\n",
       "</style>\n",
       "<table border=\"1\" class=\"dataframe\">\n",
       "  <thead>\n",
       "    <tr style=\"text-align: right;\">\n",
       "      <th></th>\n",
       "      <th>CustomerID</th>\n",
       "      <th>Days_Since_Last_Purchase</th>\n",
       "      <th>Total_Transactions</th>\n",
       "      <th>Total_Products_Purchased</th>\n",
       "      <th>Total_Spend</th>\n",
       "      <th>Average_Transaction_Value</th>\n",
       "      <th>Unique_Products_Purchased</th>\n",
       "      <th>Average_Days_Between_Purchases</th>\n",
       "      <th>Day_Of_Week</th>\n",
       "      <th>Hour</th>\n",
       "      <th>Is_UK</th>\n",
       "      <th>Cancellation_Frequency</th>\n",
       "      <th>Cancellation_Rate</th>\n",
       "      <th>Monthly_Spending_Mean</th>\n",
       "      <th>Monthly_Spending_Std</th>\n",
       "      <th>Spending_Trend</th>\n",
       "    </tr>\n",
       "  </thead>\n",
       "  <tbody>\n",
       "    <tr>\n",
       "      <th>0</th>\n",
       "      <td>12346.0</td>\n",
       "      <td>2.345802</td>\n",
       "      <td>-0.477589</td>\n",
       "      <td>-0.754491</td>\n",
       "      <td>-0.813464</td>\n",
       "      <td>-1.317106</td>\n",
       "      <td>-0.908471</td>\n",
       "      <td>-0.310564</td>\n",
       "      <td>1</td>\n",
       "      <td>-1.086929</td>\n",
       "      <td>1</td>\n",
       "      <td>0.420541</td>\n",
       "      <td>0.417623</td>\n",
       "      <td>-1.329018</td>\n",
       "      <td>-0.713318</td>\n",
       "      <td>0.090868</td>\n",
       "    </tr>\n",
       "    <tr>\n",
       "      <th>1</th>\n",
       "      <td>12347.0</td>\n",
       "      <td>-0.905575</td>\n",
       "      <td>0.707930</td>\n",
       "      <td>2.005048</td>\n",
       "      <td>2.366920</td>\n",
       "      <td>1.528132</td>\n",
       "      <td>0.815119</td>\n",
       "      <td>-0.128438</td>\n",
       "      <td>1</td>\n",
       "      <td>0.647126</td>\n",
       "      <td>0</td>\n",
       "      <td>-0.545753</td>\n",
       "      <td>-0.432111</td>\n",
       "      <td>0.989511</td>\n",
       "      <td>1.259961</td>\n",
       "      <td>0.116774</td>\n",
       "    </tr>\n",
       "    <tr>\n",
       "      <th>2</th>\n",
       "      <td>12348.0</td>\n",
       "      <td>-0.170744</td>\n",
       "      <td>-0.003381</td>\n",
       "      <td>1.863591</td>\n",
       "      <td>0.247087</td>\n",
       "      <td>0.343279</td>\n",
       "      <td>-0.570512</td>\n",
       "      <td>0.672476</td>\n",
       "      <td>3</td>\n",
       "      <td>2.814696</td>\n",
       "      <td>0</td>\n",
       "      <td>-0.545753</td>\n",
       "      <td>-0.432111</td>\n",
       "      <td>0.023997</td>\n",
       "      <td>0.466213</td>\n",
       "      <td>-0.491708</td>\n",
       "    </tr>\n",
       "    <tr>\n",
       "      <th>3</th>\n",
       "      <td>12349.0</td>\n",
       "      <td>-0.744516</td>\n",
       "      <td>-0.714692</td>\n",
       "      <td>-0.047205</td>\n",
       "      <td>0.262074</td>\n",
       "      <td>5.418285</td>\n",
       "      <td>0.291283</td>\n",
       "      <td>-0.310564</td>\n",
       "      <td>0</td>\n",
       "      <td>-1.520443</td>\n",
       "      <td>0</td>\n",
       "      <td>-0.545753</td>\n",
       "      <td>-0.432111</td>\n",
       "      <td>4.159521</td>\n",
       "      <td>-0.713318</td>\n",
       "      <td>0.090868</td>\n",
       "    </tr>\n",
       "    <tr>\n",
       "      <th>4</th>\n",
       "      <td>12350.0</td>\n",
       "      <td>2.194809</td>\n",
       "      <td>-0.714692</td>\n",
       "      <td>-0.534446</td>\n",
       "      <td>-0.596223</td>\n",
       "      <td>0.043327</td>\n",
       "      <td>-0.655002</td>\n",
       "      <td>-0.310564</td>\n",
       "      <td>2</td>\n",
       "      <td>1.514154</td>\n",
       "      <td>0</td>\n",
       "      <td>-0.545753</td>\n",
       "      <td>-0.432111</td>\n",
       "      <td>-0.220428</td>\n",
       "      <td>-0.713318</td>\n",
       "      <td>0.090868</td>\n",
       "    </tr>\n",
       "  </tbody>\n",
       "</table>\n",
       "</div>"
      ],
      "text/plain": [
       "  CustomerID  Days_Since_Last_Purchase  Total_Transactions  \\\n",
       "0    12346.0                  2.345802           -0.477589   \n",
       "1    12347.0                 -0.905575            0.707930   \n",
       "2    12348.0                 -0.170744           -0.003381   \n",
       "3    12349.0                 -0.744516           -0.714692   \n",
       "4    12350.0                  2.194809           -0.714692   \n",
       "\n",
       "   Total_Products_Purchased  Total_Spend  Average_Transaction_Value  \\\n",
       "0                 -0.754491    -0.813464                  -1.317106   \n",
       "1                  2.005048     2.366920                   1.528132   \n",
       "2                  1.863591     0.247087                   0.343279   \n",
       "3                 -0.047205     0.262074                   5.418285   \n",
       "4                 -0.534446    -0.596223                   0.043327   \n",
       "\n",
       "   Unique_Products_Purchased  Average_Days_Between_Purchases  Day_Of_Week  \\\n",
       "0                  -0.908471                       -0.310564            1   \n",
       "1                   0.815119                       -0.128438            1   \n",
       "2                  -0.570512                        0.672476            3   \n",
       "3                   0.291283                       -0.310564            0   \n",
       "4                  -0.655002                       -0.310564            2   \n",
       "\n",
       "       Hour  Is_UK  Cancellation_Frequency  Cancellation_Rate  \\\n",
       "0 -1.086929      1                0.420541           0.417623   \n",
       "1  0.647126      0               -0.545753          -0.432111   \n",
       "2  2.814696      0               -0.545753          -0.432111   \n",
       "3 -1.520443      0               -0.545753          -0.432111   \n",
       "4  1.514154      0               -0.545753          -0.432111   \n",
       "\n",
       "   Monthly_Spending_Mean  Monthly_Spending_Std  Spending_Trend  \n",
       "0              -1.329018             -0.713318        0.090868  \n",
       "1               0.989511              1.259961        0.116774  \n",
       "2               0.023997              0.466213       -0.491708  \n",
       "3               4.159521             -0.713318        0.090868  \n",
       "4              -0.220428             -0.713318        0.090868  "
      ]
     },
     "execution_count": 53,
     "metadata": {},
     "output_type": "execute_result"
    }
   ],
   "source": [
    "# Initialize the StandardScaler\n",
    "scaler = StandardScaler()\n",
    "\n",
    "# List of columns that don't need to be scaled\n",
    "columns_to_exclude = ['CustomerID', 'Is_UK', 'Day_Of_Week']\n",
    "\n",
    "# List of columns that need to be scaled\n",
    "columns_to_scale = customer_data_cleaned.columns.difference(columns_to_exclude)\n",
    "\n",
    "# Copy the cleaned dataset\n",
    "customer_data_scaled = customer_data_cleaned.copy()\n",
    "\n",
    "# Applying the scaler to the necessary columns in the dataset\n",
    "customer_data_scaled[columns_to_scale] = scaler.fit_transform(customer_data_scaled[columns_to_scale])\n",
    "\n",
    "# Display the first few rows of the scaled data\n",
    "customer_data_scaled.head()"
   ]
  },
  {
   "cell_type": "markdown",
   "id": "983b170f",
   "metadata": {
    "papermill": {
     "duration": 0.079003,
     "end_time": "2023-09-13T18:56:13.040264",
     "exception": false,
     "start_time": "2023-09-13T18:56:12.961261",
     "status": "completed"
    },
    "tags": []
   },
   "source": [
    "<a id=\"pca\"></a>\n",
    "# <p style=\"background-color: #ff6200; font-family:calibri; color:white; font-size:140%; font-family:Verdana; text-align:center; border-radius:15px 50px;\">Step 8 | Dimensionality Reduction</p>\n",
    "⬆️ [Tabel of Contents](#contents_tabel)"
   ]
  },
  {
   "cell_type": "markdown",
   "id": "ca4b0a07",
   "metadata": {
    "papermill": {
     "duration": 0.078811,
     "end_time": "2023-09-13T18:56:13.195539",
     "exception": false,
     "start_time": "2023-09-13T18:56:13.116728",
     "status": "completed"
    },
    "tags": []
   },
   "source": [
    "<div style=\"border-radius:10px; padding: 15px; background-color: #ffeacc; font-size:120%; text-align:left\">\n",
    "<h3 align=\"left\"><font color=#ff6200>Why We Need Dimensionality Reduction? </font></h3>\n",
    "\n",
    "- __Multicollinearity Detected__: In the previous steps, we identified that our dataset contains multicollinear features. Dimensionality reduction can help us remove redundant information and alleviate the multicollinearity issue.\n",
    "\n",
    "    \n",
    "- __Better Clustering with K-means__: Since K-means is a distance-based algorithm, having a large number of features can sometimes dilute the meaningful underlying patterns in the data. By reducing the dimensionality, we can help K-means to find more compact and well-separated clusters.    \n",
    "   \n",
    "    \n",
    "- __Noise Reduction__: By focusing only on the most important features, we can potentially remove noise in the data, leading to more accurate and stable clusters.    \n",
    "   \n",
    "    \n",
    "- __Enhanced Visualization__: In the context of customer segmentation, being able to visualize customer groups in two or three dimensions can provide intuitive insights. Dimensionality reduction techniques can facilitate this by reducing the data to a few principal components which can be plotted easily.\n",
    "    \n",
    "    \n",
    "- __Improved Computational Efficiency__: Reducing the number of features can speed up the computation time during the modeling process, making our clustering algorithm more efficient.\n",
    "\n",
    "\n",
    "Let's proceed to select an appropriate dimensionality reduction method to our data."
   ]
  },
  {
   "cell_type": "markdown",
   "id": "2464b601",
   "metadata": {
    "papermill": {
     "duration": 0.075645,
     "end_time": "2023-09-13T18:56:13.347039",
     "exception": false,
     "start_time": "2023-09-13T18:56:13.271394",
     "status": "completed"
    },
    "tags": []
   },
   "source": [
    "<div style=\"border-radius:10px; padding: 15px; background-color: #ffeacc; font-size:120%; text-align:left\">\n",
    "<h3 align=\"left\"><font color=#ff6200>Which Dimensionality Reduction Method? </font></h3>\n",
    "  \n",
    "    \n",
    "In this step, we are considering the application of dimensionality reduction techniques to simplify our data while retaining the essential information. Among various methods such as KernelPCA, ICA, ISOMAP, TSNE, and UMAP, I am starting with **PCA (Principal Component Analysis)**. Here's why:\n",
    "\n",
    "PCA is an excellent starting point because it works well in capturing linear relationships in the data, which is particularly relevant given the multicollinearity we identified in our dataset. It allows us to reduce the number of features in our dataset while still retaining a significant amount of the information, thus making our clustering analysis potentially more accurate and interpretable. Moreover, it is computationally efficient, which means it won't significantly increase the processing time.\n",
    "\n",
    "However, it's essential to note that we are keeping our options open. After applying PCA, if we find that the first few components do not capture a significant amount of variance, indicating a loss of vital information, we might consider exploring other non-linear methods. These methods can potentially provide a more nuanced approach to dimensionality reduction, capturing complex patterns that PCA might miss, albeit at the cost of increased computational time and complexity.\n",
    "\n"
   ]
  },
  {
   "cell_type": "markdown",
   "id": "071de45e",
   "metadata": {
    "papermill": {
     "duration": 0.082025,
     "end_time": "2023-09-13T18:56:13.505836",
     "exception": false,
     "start_time": "2023-09-13T18:56:13.423811",
     "status": "completed"
    },
    "tags": []
   },
   "source": [
    "<div style=\"border-radius:10px; padding: 15px; background-color: #ffeacc; font-size:120%; text-align:left\">\n",
    "<h3 align=\"left\"><font color=#ff6200>Methodology </font></h3>\n",
    "\n",
    "We will apply PCA on all the available components and plot the cumulative variance explained by them. This process will allow me to visualize how much variance each additional principal component can explain, thereby helping me to pinpoint the optimal number of components to retain for the analysis:"
   ]
  },
  {
   "cell_type": "code",
   "execution_count": 54,
   "id": "4c24948d",
   "metadata": {
    "papermill": {
     "duration": 1.164794,
     "end_time": "2023-09-13T18:56:14.748669",
     "exception": false,
     "start_time": "2023-09-13T18:56:13.583875",
     "status": "completed"
    },
    "tags": []
   },
   "outputs": [
    {
     "data": {
      "image/png": "[encoded data removed]",
      "text/plain": [
       "<Figure size 2000x1000 with 1 Axes>"
      ]
     },
     "metadata": {},
     "output_type": "display_data"
    }
   ],
   "source": [
    "# Setting CustomerID as the index column\n",
    "customer_data_scaled.set_index('CustomerID', inplace=True)\n",
    "\n",
    "# Apply PCA\n",
    "pca = PCA().fit(customer_data_scaled)\n",
    "\n",
    "# Calculate the Cumulative Sum of the Explained Variance\n",
    "explained_variance_ratio = pca.explained_variance_ratio_\n",
    "cumulative_explained_variance = np.cumsum(explained_variance_ratio)\n",
    "\n",
    "# Set the optimal k value (based on our analysis, we can choose 6)\n",
    "optimal_k = 6\n",
    "\n",
    "# Set seaborn plot style\n",
    "sns.set(rc={'axes.facecolor': '#fcf0dc'}, style='darkgrid')\n",
    "\n",
    "# Plot the cumulative explained variance against the number of components\n",
    "plt.figure(figsize=(20, 10))\n",
    "\n",
    "# Bar chart for the explained variance of each component\n",
    "barplot = sns.barplot(x=list(range(1, len(cumulative_explained_variance) + 1)),\n",
    "                      y=explained_variance_ratio,\n",
    "                      color='#fcc36d',\n",
    "                      alpha=0.8)\n",
    "\n",
    "# Line plot for the cumulative explained variance\n",
    "lineplot, = plt.plot(range(0, len(cumulative_explained_variance)), cumulative_explained_variance,\n",
    "                     marker='o', linestyle='--', color='#ff6200', linewidth=2)\n",
    "\n",
    "# Plot optimal k value line\n",
    "optimal_k_line = plt.axvline(optimal_k - 1, color='red', linestyle='--', label=f'Optimal k value = {optimal_k}') \n",
    "\n",
    "# Set labels and title\n",
    "plt.xlabel('Number of Components', fontsize=14)\n",
    "plt.ylabel('Explained Variance', fontsize=14)\n",
    "plt.title('Cumulative Variance vs. Number of Components', fontsize=18)\n",
    "\n",
    "# Customize ticks and legend\n",
    "plt.xticks(range(0, len(cumulative_explained_variance)))\n",
    "plt.legend(handles=[barplot.patches[0], lineplot, optimal_k_line],\n",
    "           labels=['Explained Variance of Each Component', 'Cumulative Explained Variance', f'Optimal k value = {optimal_k}'],\n",
    "           loc=(0.62, 0.1),\n",
    "           frameon=True,\n",
    "           framealpha=1.0,  \n",
    "           edgecolor='#ff6200')  \n",
    "\n",
    "# Display the variance values for both graphs on the plots\n",
    "x_offset = -0.3\n",
    "y_offset = 0.01\n",
    "for i, (ev_ratio, cum_ev_ratio) in enumerate(zip(explained_variance_ratio, cumulative_explained_variance)):\n",
    "    plt.text(i, ev_ratio, f\"{ev_ratio:.2f}\", ha=\"center\", va=\"bottom\", fontsize=10)\n",
    "    if i > 0:\n",
    "        plt.text(i + x_offset, cum_ev_ratio + y_offset, f\"{cum_ev_ratio:.2f}\", ha=\"center\", va=\"bottom\", fontsize=10)\n",
    "\n",
    "plt.grid(axis='both')   \n",
    "plt.show()"
   ]
  },
  {
   "cell_type": "markdown",
   "id": "24874c5b",
   "metadata": {
    "papermill": {
     "duration": 0.08209,
     "end_time": "2023-09-13T18:56:14.914553",
     "exception": false,
     "start_time": "2023-09-13T18:56:14.832463",
     "status": "completed"
    },
    "tags": []
   },
   "source": [
    "<div style=\"border-radius:10px; padding: 15px; background-color: #ffeacc; font-size:120%; text-align:left\">\n",
    "<h3 align=\"left\"><font color=#ff6200>Conclusion </font></h3>\n",
    "    \n",
    "The plot and the cumulative explained variance values indicate how much of the total variance in the dataset is captured by each principal component, as well as the cumulative variance explained by the first n components.\n",
    "\n",
    "Here, we can observe that:\n",
    "\n",
    "- The first component explains approximately 28% of the variance.\n",
    "\n",
    "- The first two components together explain about 49% of the variance.\n",
    "\n",
    "- The first three components explain approximately 61% of the variance, and so on.\n",
    "\n",
    "    \n",
    "To choose the optimal number of components, we generally look for a point where adding another component doesn't significantly increase the cumulative explained variance, often referred to as the \"__elbow point__\" in the curve.\n",
    "\n",
    "From the plot, we can see that the increase in cumulative variance starts to slow down after the __6th component__ (which __captures about 81% of the total variance__).\n",
    "\n",
    "Considering the context of customer segmentation, we want to retain a sufficient amount of information to identify distinct customer groups effectively. Therefore, retaining __the first 6 components__ might be a balanced choice, as they together explain a substantial portion of the total variance while reducing the dimensionality of the dataset."
   ]
  },
  {
   "cell_type": "code",
   "execution_count": 55,
   "id": "b6a40979",
   "metadata": {
    "papermill": {
     "duration": 0.134162,
     "end_time": "2023-09-13T18:56:15.130666",
     "exception": false,
     "start_time": "2023-09-13T18:56:14.996504",
     "status": "completed"
    },
    "tags": []
   },
   "outputs": [],
   "source": [
    "# Creating a PCA object with 6 components\n",
    "pca = PCA(n_components=6)\n",
    "\n",
    "# Fitting and transforming the original data to the new PCA dataframe\n",
    "customer_data_pca = pca.fit_transform(customer_data_scaled)\n",
    "\n",
    "# Creating a new dataframe from the PCA dataframe, with columns labeled PC1, PC2, etc.\n",
    "customer_data_pca = pd.DataFrame(customer_data_pca, columns=['PC'+str(i+1) for i in range(pca.n_components_)])\n",
    "\n",
    "# Adding the CustomerID index back to the new PCA dataframe\n",
    "customer_data_pca.index = customer_data_scaled.index"
   ]
  },
  {
   "cell_type": "code",
   "execution_count": 56,
   "id": "92d8befe",
   "metadata": {
    "papermill": {
     "duration": 0.103676,
     "end_time": "2023-09-13T18:56:15.396556",
     "exception": false,
     "start_time": "2023-09-13T18:56:15.292880",
     "status": "completed"
    },
    "tags": []
   },
   "outputs": [
    {
     "data": {
      "text/html": [
       "<div>\n",
       "<style scoped>\n",
       "    .dataframe tbody tr th:only-of-type {\n",
       "        vertical-align: middle;\n",
       "    }\n",
       "\n",
       "    .dataframe tbody tr th {\n",
       "        vertical-align: top;\n",
       "    }\n",
       "\n",
       "    .dataframe thead th {\n",
       "        text-align: right;\n",
       "    }\n",
       "</style>\n",
       "<table border=\"1\" class=\"dataframe\">\n",
       "  <thead>\n",
       "    <tr style=\"text-align: right;\">\n",
       "      <th></th>\n",
       "      <th>PC1</th>\n",
       "      <th>PC2</th>\n",
       "      <th>PC3</th>\n",
       "      <th>PC4</th>\n",
       "      <th>PC5</th>\n",
       "      <th>PC6</th>\n",
       "    </tr>\n",
       "    <tr>\n",
       "      <th>CustomerID</th>\n",
       "      <th></th>\n",
       "      <th></th>\n",
       "      <th></th>\n",
       "      <th></th>\n",
       "      <th></th>\n",
       "      <th></th>\n",
       "    </tr>\n",
       "  </thead>\n",
       "  <tbody>\n",
       "    <tr>\n",
       "      <th>12346.0</th>\n",
       "      <td>-2.186469</td>\n",
       "      <td>-1.705370</td>\n",
       "      <td>-1.576745</td>\n",
       "      <td>1.008187</td>\n",
       "      <td>-0.411803</td>\n",
       "      <td>-1.658012</td>\n",
       "    </tr>\n",
       "    <tr>\n",
       "      <th>12347.0</th>\n",
       "      <td>3.290264</td>\n",
       "      <td>-1.387375</td>\n",
       "      <td>1.923310</td>\n",
       "      <td>-0.930990</td>\n",
       "      <td>-0.010591</td>\n",
       "      <td>0.873150</td>\n",
       "    </tr>\n",
       "    <tr>\n",
       "      <th>12348.0</th>\n",
       "      <td>0.584684</td>\n",
       "      <td>0.585019</td>\n",
       "      <td>0.664727</td>\n",
       "      <td>-0.655411</td>\n",
       "      <td>-0.470280</td>\n",
       "      <td>2.306657</td>\n",
       "    </tr>\n",
       "    <tr>\n",
       "      <th>12349.0</th>\n",
       "      <td>1.791116</td>\n",
       "      <td>-2.695652</td>\n",
       "      <td>5.850040</td>\n",
       "      <td>0.853418</td>\n",
       "      <td>0.677111</td>\n",
       "      <td>-1.520098</td>\n",
       "    </tr>\n",
       "    <tr>\n",
       "      <th>12350.0</th>\n",
       "      <td>-1.997139</td>\n",
       "      <td>-0.542639</td>\n",
       "      <td>0.578781</td>\n",
       "      <td>0.183682</td>\n",
       "      <td>-1.484838</td>\n",
       "      <td>0.062672</td>\n",
       "    </tr>\n",
       "  </tbody>\n",
       "</table>\n",
       "</div>"
      ],
      "text/plain": [
       "                 PC1       PC2       PC3       PC4       PC5       PC6\n",
       "CustomerID                                                            \n",
       "12346.0    -2.186469 -1.705370 -1.576745  1.008187 -0.411803 -1.658012\n",
       "12347.0     3.290264 -1.387375  1.923310 -0.930990 -0.010591  0.873150\n",
       "12348.0     0.584684  0.585019  0.664727 -0.655411 -0.470280  2.306657\n",
       "12349.0     1.791116 -2.695652  5.850040  0.853418  0.677111 -1.520098\n",
       "12350.0    -1.997139 -0.542639  0.578781  0.183682 -1.484838  0.062672"
      ]
     },
     "execution_count": 56,
     "metadata": {},
     "output_type": "execute_result"
    }
   ],
   "source": [
    "# Displaying the resulting dataframe based on the PCs\n",
    "customer_data_pca.head()"
   ]
  },
  {
   "cell_type": "markdown",
   "id": "9692e479",
   "metadata": {
    "papermill": {
     "duration": 0.082261,
     "end_time": "2023-09-13T18:56:15.561968",
     "exception": false,
     "start_time": "2023-09-13T18:56:15.479707",
     "status": "completed"
    },
    "tags": []
   },
   "source": [
    "<div style=\"border-radius:10px; padding: 15px; background-color: #ffeacc; font-size:120%; text-align:left\">\n",
    "\n",
    "Now, let's extract the coefficients corresponding to each principal component to better understand the transformation performed by PCA:"
   ]
  },
  {
   "cell_type": "code",
   "execution_count": 57,
   "id": "07765030",
   "metadata": {
    "papermill": {
     "duration": 0.223598,
     "end_time": "2023-09-13T18:56:15.869472",
     "exception": false,
     "start_time": "2023-09-13T18:56:15.645874",
     "status": "completed"
    },
    "tags": []
   },
   "outputs": [
    {
     "data": {
      "text/html": [
       "<style type=\"text/css\">\n",
       "#T_34e60_row0_col3, #T_34e60_row0_col4, #T_34e60_row0_col5, #T_34e60_row1_col0, #T_34e60_row2_col0, #T_34e60_row3_col0, #T_34e60_row4_col2, #T_34e60_row5_col1, #T_34e60_row6_col4, #T_34e60_row7_col1, #T_34e60_row8_col1, #T_34e60_row8_col4, #T_34e60_row8_col5, #T_34e60_row10_col2, #T_34e60_row11_col3, #T_34e60_row12_col2, #T_34e60_row14_col3, #T_34e60_row14_col5 {\n",
       "  background-color: #ffeacc;\n",
       "}\n",
       "</style>\n",
       "<table id=\"T_34e60\">\n",
       "  <thead>\n",
       "    <tr>\n",
       "      <th class=\"blank level0\" >&nbsp;</th>\n",
       "      <th id=\"T_34e60_level0_col0\" class=\"col_heading level0 col0\" >PC1</th>\n",
       "      <th id=\"T_34e60_level0_col1\" class=\"col_heading level0 col1\" >PC2</th>\n",
       "      <th id=\"T_34e60_level0_col2\" class=\"col_heading level0 col2\" >PC3</th>\n",
       "      <th id=\"T_34e60_level0_col3\" class=\"col_heading level0 col3\" >PC4</th>\n",
       "      <th id=\"T_34e60_level0_col4\" class=\"col_heading level0 col4\" >PC5</th>\n",
       "      <th id=\"T_34e60_level0_col5\" class=\"col_heading level0 col5\" >PC6</th>\n",
       "    </tr>\n",
       "  </thead>\n",
       "  <tbody>\n",
       "    <tr>\n",
       "      <th id=\"T_34e60_level0_row0\" class=\"row_heading level0 row0\" >Days_Since_Last_Purchase</th>\n",
       "      <td id=\"T_34e60_row0_col0\" class=\"data row0 col0\" >-0.217859</td>\n",
       "      <td id=\"T_34e60_row0_col1\" class=\"data row0 col1\" >-0.013986</td>\n",
       "      <td id=\"T_34e60_row0_col2\" class=\"data row0 col2\" >0.067660</td>\n",
       "      <td id=\"T_34e60_row0_col3\" class=\"data row0 col3\" >0.273430</td>\n",
       "      <td id=\"T_34e60_row0_col4\" class=\"data row0 col4\" >-0.240968</td>\n",
       "      <td id=\"T_34e60_row0_col5\" class=\"data row0 col5\" >-0.373059</td>\n",
       "    </tr>\n",
       "    <tr>\n",
       "      <th id=\"T_34e60_level0_row1\" class=\"row_heading level0 row1\" >Total_Transactions</th>\n",
       "      <td id=\"T_34e60_row1_col0\" class=\"data row1 col0\" >0.380301</td>\n",
       "      <td id=\"T_34e60_row1_col1\" class=\"data row1 col1\" >0.014759</td>\n",
       "      <td id=\"T_34e60_row1_col2\" class=\"data row1 col2\" >-0.259180</td>\n",
       "      <td id=\"T_34e60_row1_col3\" class=\"data row1 col3\" >-0.138165</td>\n",
       "      <td id=\"T_34e60_row1_col4\" class=\"data row1 col4\" >-0.017356</td>\n",
       "      <td id=\"T_34e60_row1_col5\" class=\"data row1 col5\" >-0.028257</td>\n",
       "    </tr>\n",
       "    <tr>\n",
       "      <th id=\"T_34e60_level0_row2\" class=\"row_heading level0 row2\" >Total_Products_Purchased</th>\n",
       "      <td id=\"T_34e60_row2_col0\" class=\"data row2 col0\" >0.401425</td>\n",
       "      <td id=\"T_34e60_row2_col1\" class=\"data row2 col1\" >0.007365</td>\n",
       "      <td id=\"T_34e60_row2_col2\" class=\"data row2 col2\" >0.069133</td>\n",
       "      <td id=\"T_34e60_row2_col3\" class=\"data row2 col3\" >-0.134806</td>\n",
       "      <td id=\"T_34e60_row2_col4\" class=\"data row2 col4\" >0.057476</td>\n",
       "      <td id=\"T_34e60_row2_col5\" class=\"data row2 col5\" >-0.013373</td>\n",
       "    </tr>\n",
       "    <tr>\n",
       "      <th id=\"T_34e60_level0_row3\" class=\"row_heading level0 row3\" >Total_Spend</th>\n",
       "      <td id=\"T_34e60_row3_col0\" class=\"data row3 col0\" >0.431260</td>\n",
       "      <td id=\"T_34e60_row3_col1\" class=\"data row3 col1\" >0.010159</td>\n",
       "      <td id=\"T_34e60_row3_col2\" class=\"data row3 col2\" >0.065165</td>\n",
       "      <td id=\"T_34e60_row3_col3\" class=\"data row3 col3\" >-0.092047</td>\n",
       "      <td id=\"T_34e60_row3_col4\" class=\"data row3 col4\" >0.025202</td>\n",
       "      <td id=\"T_34e60_row3_col5\" class=\"data row3 col5\" >-0.036947</td>\n",
       "    </tr>\n",
       "    <tr>\n",
       "      <th id=\"T_34e60_level0_row4\" class=\"row_heading level0 row4\" >Average_Transaction_Value</th>\n",
       "      <td id=\"T_34e60_row4_col0\" class=\"data row4 col0\" >0.176225</td>\n",
       "      <td id=\"T_34e60_row4_col1\" class=\"data row4 col1\" >-0.015544</td>\n",
       "      <td id=\"T_34e60_row4_col2\" class=\"data row4 col2\" >0.589050</td>\n",
       "      <td id=\"T_34e60_row4_col3\" class=\"data row4 col3\" >0.114307</td>\n",
       "      <td id=\"T_34e60_row4_col4\" class=\"data row4 col4\" >0.021847</td>\n",
       "      <td id=\"T_34e60_row4_col5\" class=\"data row4 col5\" >-0.101738</td>\n",
       "    </tr>\n",
       "    <tr>\n",
       "      <th id=\"T_34e60_level0_row5\" class=\"row_heading level0 row5\" >Unique_Products_Purchased</th>\n",
       "      <td id=\"T_34e60_row5_col0\" class=\"data row5 col0\" >0.324992</td>\n",
       "      <td id=\"T_34e60_row5_col1\" class=\"data row5 col1\" >0.063346</td>\n",
       "      <td id=\"T_34e60_row5_col2\" class=\"data row5 col2\" >0.014010</td>\n",
       "      <td id=\"T_34e60_row5_col3\" class=\"data row5 col3\" >-0.230502</td>\n",
       "      <td id=\"T_34e60_row5_col4\" class=\"data row5 col4\" >-0.193981</td>\n",
       "      <td id=\"T_34e60_row5_col5\" class=\"data row5 col5\" >0.124604</td>\n",
       "    </tr>\n",
       "    <tr>\n",
       "      <th id=\"T_34e60_level0_row6\" class=\"row_heading level0 row6\" >Average_Days_Between_Purchases</th>\n",
       "      <td id=\"T_34e60_row6_col0\" class=\"data row6 col0\" >-0.022600</td>\n",
       "      <td id=\"T_34e60_row6_col1\" class=\"data row6 col1\" >-0.036007</td>\n",
       "      <td id=\"T_34e60_row6_col2\" class=\"data row6 col2\" >-0.127341</td>\n",
       "      <td id=\"T_34e60_row6_col3\" class=\"data row6 col3\" >-0.160627</td>\n",
       "      <td id=\"T_34e60_row6_col4\" class=\"data row6 col4\" >0.753462</td>\n",
       "      <td id=\"T_34e60_row6_col5\" class=\"data row6 col5\" >0.211787</td>\n",
       "    </tr>\n",
       "    <tr>\n",
       "      <th id=\"T_34e60_level0_row7\" class=\"row_heading level0 row7\" >Day_Of_Week</th>\n",
       "      <td id=\"T_34e60_row7_col0\" class=\"data row7 col0\" >-0.026572</td>\n",
       "      <td id=\"T_34e60_row7_col1\" class=\"data row7 col1\" >0.994650</td>\n",
       "      <td id=\"T_34e60_row7_col2\" class=\"data row7 col2\" >-0.006591</td>\n",
       "      <td id=\"T_34e60_row7_col3\" class=\"data row7 col3\" >0.028870</td>\n",
       "      <td id=\"T_34e60_row7_col4\" class=\"data row7 col4\" >0.058359</td>\n",
       "      <td id=\"T_34e60_row7_col5\" class=\"data row7 col5\" >-0.060799</td>\n",
       "    </tr>\n",
       "    <tr>\n",
       "      <th id=\"T_34e60_level0_row8\" class=\"row_heading level0 row8\" >Hour</th>\n",
       "      <td id=\"T_34e60_row8_col0\" class=\"data row8 col0\" >-0.024259</td>\n",
       "      <td id=\"T_34e60_row8_col1\" class=\"data row8 col1\" >0.056388</td>\n",
       "      <td id=\"T_34e60_row8_col2\" class=\"data row8 col2\" >-0.002019</td>\n",
       "      <td id=\"T_34e60_row8_col3\" class=\"data row8 col3\" >-0.226832</td>\n",
       "      <td id=\"T_34e60_row8_col4\" class=\"data row8 col4\" >-0.528881</td>\n",
       "      <td id=\"T_34e60_row8_col5\" class=\"data row8 col5\" >0.621915</td>\n",
       "    </tr>\n",
       "    <tr>\n",
       "      <th id=\"T_34e60_level0_row9\" class=\"row_heading level0 row9\" >Is_UK</th>\n",
       "      <td id=\"T_34e60_row9_col0\" class=\"data row9 col0\" >-0.001014</td>\n",
       "      <td id=\"T_34e60_row9_col1\" class=\"data row9 col1\" >0.007435</td>\n",
       "      <td id=\"T_34e60_row9_col2\" class=\"data row9 col2\" >-0.018378</td>\n",
       "      <td id=\"T_34e60_row9_col3\" class=\"data row9 col3\" >-0.013419</td>\n",
       "      <td id=\"T_34e60_row9_col4\" class=\"data row9 col4\" >-0.005353</td>\n",
       "      <td id=\"T_34e60_row9_col5\" class=\"data row9 col5\" >0.014384</td>\n",
       "    </tr>\n",
       "    <tr>\n",
       "      <th id=\"T_34e60_level0_row10\" class=\"row_heading level0 row10\" >Cancellation_Frequency</th>\n",
       "      <td id=\"T_34e60_row10_col0\" class=\"data row10 col0\" >0.287102</td>\n",
       "      <td id=\"T_34e60_row10_col1\" class=\"data row10 col1\" >-0.018576</td>\n",
       "      <td id=\"T_34e60_row10_col2\" class=\"data row10 col2\" >-0.400697</td>\n",
       "      <td id=\"T_34e60_row10_col3\" class=\"data row10 col3\" >0.225923</td>\n",
       "      <td id=\"T_34e60_row10_col4\" class=\"data row10 col4\" >-0.100595</td>\n",
       "      <td id=\"T_34e60_row10_col5\" class=\"data row10 col5\" >-0.168050</td>\n",
       "    </tr>\n",
       "    <tr>\n",
       "      <th id=\"T_34e60_level0_row11\" class=\"row_heading level0 row11\" >Cancellation_Rate</th>\n",
       "      <td id=\"T_34e60_row11_col0\" class=\"data row11 col0\" >0.229885</td>\n",
       "      <td id=\"T_34e60_row11_col1\" class=\"data row11 col1\" >-0.022616</td>\n",
       "      <td id=\"T_34e60_row11_col2\" class=\"data row11 col2\" >-0.381347</td>\n",
       "      <td id=\"T_34e60_row11_col3\" class=\"data row11 col3\" >0.290702</td>\n",
       "      <td id=\"T_34e60_row11_col4\" class=\"data row11 col4\" >-0.126048</td>\n",
       "      <td id=\"T_34e60_row11_col5\" class=\"data row11 col5\" >-0.216073</td>\n",
       "    </tr>\n",
       "    <tr>\n",
       "      <th id=\"T_34e60_level0_row12\" class=\"row_heading level0 row12\" >Monthly_Spending_Mean</th>\n",
       "      <td id=\"T_34e60_row12_col0\" class=\"data row12 col0\" >0.274127</td>\n",
       "      <td id=\"T_34e60_row12_col1\" class=\"data row12 col1\" >-0.005116</td>\n",
       "      <td id=\"T_34e60_row12_col2\" class=\"data row12 col2\" >0.498142</td>\n",
       "      <td id=\"T_34e60_row12_col3\" class=\"data row12 col3\" >0.134989</td>\n",
       "      <td id=\"T_34e60_row12_col4\" class=\"data row12 col4\" >-0.004123</td>\n",
       "      <td id=\"T_34e60_row12_col5\" class=\"data row12 col5\" >-0.101941</td>\n",
       "    </tr>\n",
       "    <tr>\n",
       "      <th id=\"T_34e60_level0_row13\" class=\"row_heading level0 row13\" >Monthly_Spending_Std</th>\n",
       "      <td id=\"T_34e60_row13_col0\" class=\"data row13 col0\" >0.334168</td>\n",
       "      <td id=\"T_34e60_row13_col1\" class=\"data row13 col1\" >0.014557</td>\n",
       "      <td id=\"T_34e60_row13_col2\" class=\"data row13 col2\" >0.036156</td>\n",
       "      <td id=\"T_34e60_row13_col3\" class=\"data row13 col3\" >0.218369</td>\n",
       "      <td id=\"T_34e60_row13_col4\" class=\"data row13 col4\" >0.128494</td>\n",
       "      <td id=\"T_34e60_row13_col5\" class=\"data row13 col5\" >0.193648</td>\n",
       "    </tr>\n",
       "    <tr>\n",
       "      <th id=\"T_34e60_level0_row14\" class=\"row_heading level0 row14\" >Spending_Trend</th>\n",
       "      <td id=\"T_34e60_row14_col0\" class=\"data row14 col0\" >-0.014574</td>\n",
       "      <td id=\"T_34e60_row14_col1\" class=\"data row14 col1\" >-0.014845</td>\n",
       "      <td id=\"T_34e60_row14_col2\" class=\"data row14 col2\" >-0.002987</td>\n",
       "      <td id=\"T_34e60_row14_col3\" class=\"data row14 col3\" >-0.730466</td>\n",
       "      <td id=\"T_34e60_row14_col4\" class=\"data row14 col4\" >-0.078739</td>\n",
       "      <td id=\"T_34e60_row14_col5\" class=\"data row14 col5\" >-0.523692</td>\n",
       "    </tr>\n",
       "  </tbody>\n",
       "</table>\n"
      ],
      "text/plain": [
       "<pandas.io.formats.style.Styler at 0x26a3ccae490>"
      ]
     },
     "execution_count": 57,
     "metadata": {},
     "output_type": "execute_result"
    }
   ],
   "source": [
    "# Define a function to highlight the top 3 absolute values in each column of a dataframe\n",
    "def highlight_top3(column):\n",
    "    top3 = column.abs().nlargest(3).index\n",
    "    return ['background-color:  #ffeacc' if i in top3 else '' for i in column.index]\n",
    "\n",
    "# Create the PCA component DataFrame and apply the highlighting function\n",
    "pc_df = pd.DataFrame(pca.components_.T, columns=['PC{}'.format(i+1) for i in range(pca.n_components_)],  \n",
    "                     index=customer_data_scaled.columns)\n",
    "\n",
    "pc_df.style.apply(highlight_top3, axis=0)"
   ]
  },
  {
   "cell_type": "markdown",
   "id": "6eef0ce8",
   "metadata": {
    "papermill": {
     "duration": 0.085571,
     "end_time": "2023-09-13T18:56:16.038485",
     "exception": false,
     "start_time": "2023-09-13T18:56:15.952914",
     "status": "completed"
    },
    "tags": []
   },
   "source": [
    "<a id=\"kmeans\"></a>\n",
    "# <p style=\"background-color: #ff6200; font-family:calibri; color:white; font-size:140%; font-family:Verdana; text-align:center; border-radius:15px 50px;\">Step 9 | K-Means Clustering</p>\n",
    "⬆️ [Tabel of Contents](#contents_tabel)"
   ]
  },
  {
   "cell_type": "markdown",
   "id": "00acf722",
   "metadata": {
    "papermill": {
     "duration": 0.083704,
     "end_time": "2023-09-13T18:56:16.206054",
     "exception": false,
     "start_time": "2023-09-13T18:56:16.122350",
     "status": "completed"
    },
    "tags": []
   },
   "source": [
    "<div style=\"border-radius:10px; padding: 15px; background-color: #ffeacc; font-size:120%; text-align:left\">\n",
    "\n",
    "<h2 align=\"left\"><font color=#ff6200>K-Means:</font></h2>\n",
    "\n",
    "- __K-Means__ is an unsupervised machine learning algorithm that clusters data into a specified number of groups (K) by minimizing the __within-cluster sum-of-squares (WCSS)__, also known as __inertia__. The algorithm iteratively assigns each data point to the nearest centroid, then updates the centroids by calculating the mean of all assigned points. The process repeats until convergence or a stopping criterion is reached. "
   ]
  },
  {
   "cell_type": "markdown",
   "id": "c6bfcc61",
   "metadata": {
    "papermill": {
     "duration": 0.082968,
     "end_time": "2023-09-13T18:56:16.372700",
     "exception": false,
     "start_time": "2023-09-13T18:56:16.289732",
     "status": "completed"
    },
    "tags": []
   },
   "source": [
    "<div style=\"border-radius:10px; padding: 15px; background-color: #ffeacc; font-size:120%; text-align:left\">\n",
    "\n",
    "<h2 align=\"left\"><font color=#ff6200>Drawbacks of K-Means:</font></h2>\n",
    "\n",
    "\n",
    "Here are the main drawbacks of the K-means clustering algorithm and their corresponding solutions:\n",
    "\n",
    "- 1️⃣ __Inertia is influenced by the number of dimensions__: The value of inertia tends to increase in high-dimensional spaces due to the curse of dimensionality, which can distort the Euclidean distances between data points.\n",
    "\n",
    "> __Solution:__ Performing dimensionality reduction, such as __PCA__, before applying K-means to alleviate this issue and speed up computations.\n",
    "    \n",
    "___ \n",
    "    \n",
    "- 2️⃣ __Dependence on Initial Centroid Placement__: The K-means algorithm might find a local minimum instead of a global minimum, based on where the centroids are initially placed.\n",
    "\n",
    "> __Solution:__ To enhance the likelihood of locating the global minimum, we can employ the __k-means++ initialization__ method.\n",
    "  \n",
    "___ \n",
    "    \n",
    "- 3️⃣ __Requires specifying the number of clusters__: K-means requires specifying the number of clusters (K) beforehand, which may not be known in advance.\n",
    "\n",
    "> __Solution:__ Using methods such as the __elbow method__ and __silhouette analysis__ to estimate the optimal number of clusters.\n",
    "    \n",
    "___     \n",
    "    \n",
    "- 4️⃣ __Sensitivity to unevenly sized or sparse clusters__: K-means might struggle with clusters of different sizes or densities.\n",
    "\n",
    "> __Solution:__ Increasing the number of random initializations (n_init) or consider using algorithms that handle unevenly sized clusters better, like GMM or DBSCAN.\n",
    "    \n",
    "___ \n",
    "    \n",
    "- 5️⃣ __Assumes convex and isotropic clusters__: K-means assumes that clusters are spherical and have similar variances, which is not always the case. It may struggle with elongated or irregularly shaped clusters.\n",
    "    \n",
    "> __Solution:__ Considering using clustering algorithms that do not make these assumptions, such as DBSCAN or Gaussian Mixture Model (GMM).\n",
    "    \n",
    "    \n",
    "<img src=\"https://github.com/FarzadNekouee/Retail_Customer_Segmentation_Recommendation_System/blob/master/kmeans_drawbacks.jpg?raw=true\" width=\"2400\">\n",
    "    \n",
    "___\n",
    "    \n",
    "Taking into account the aforementioned considerations, I initially applied PCA to the dataset. For the KMeans algorithm, I will set the `init` parameter to `k-means++` and `n_init` to `10`. To determine the optimal number of clusters, I will employ the elbow method and silhouette analysis. Additionally, it might be beneficial to explore the use of alternative clustering algorithms such as GMM and DBSCAN in future analyses to potentially enhance the segmentation results."
   ]
  },
  {
   "cell_type": "markdown",
   "id": "f5bb3286",
   "metadata": {
    "papermill": {
     "duration": 0.083487,
     "end_time": "2023-09-13T18:56:16.538067",
     "exception": false,
     "start_time": "2023-09-13T18:56:16.454580",
     "status": "completed"
    },
    "tags": []
   },
   "source": [
    "<a id=\"optimal_k\"></a>\n",
    "# <b><span style='color:#fcc36d'>Step 9.1 |</span><span style='color:#ff6200'> Determining the Optimal Number of Clusters</span></b>\n",
    "⬆️ [Tabel of Contents](#contents_tabel)"
   ]
  },
  {
   "cell_type": "markdown",
   "id": "a4f58051",
   "metadata": {
    "papermill": {
     "duration": 0.08061,
     "end_time": "2023-09-13T18:56:16.705668",
     "exception": false,
     "start_time": "2023-09-13T18:56:16.625058",
     "status": "completed"
    },
    "tags": []
   },
   "source": [
    "<div style=\"border-radius:10px; padding: 15px; background-color: #ffeacc; font-size:120%; text-align:left\">\n",
    "\n",
    "To ascertain the optimal number of clusters (k) for segmenting customers, I will explore two renowned methods:\n",
    "\n",
    "* __Elbow Method__\n",
    "\n",
    "* __Silhouette Method__\n",
    "\n",
    "    \n",
    "It's common to utilize both methods in practice to corroborate the results."
   ]
  },
  {
   "cell_type": "markdown",
   "id": "e4299824",
   "metadata": {
    "papermill": {
     "duration": 0.08091,
     "end_time": "2023-09-13T18:56:16.872605",
     "exception": false,
     "start_time": "2023-09-13T18:56:16.791695",
     "status": "completed"
    },
    "tags": []
   },
   "source": [
    "<a id=\"elbow\"></a>\n",
    "## <b><span style='color:#fcc36d'>Step 9.1.1 |</span><span style='color:#ff6200'> Elbow Method</span></b>\n",
    "⬆️ [Tabel of Contents](#contents_tabel)"
   ]
  },
  {
   "cell_type": "markdown",
   "id": "2f10ee37",
   "metadata": {
    "papermill": {
     "duration": 0.080067,
     "end_time": "2023-09-13T18:56:17.032975",
     "exception": false,
     "start_time": "2023-09-13T18:56:16.952908",
     "status": "completed"
    },
    "tags": []
   },
   "source": [
    "<div style=\"border-radius:10px; padding: 15px; background-color: #ffeacc; font-size:120%; text-align:left\">\n",
    "\n",
    "<h3 align=\"left\"><font color=#ff6200>What is the Elbow Method?</font></h3>\n",
    "    \n",
    "The Elbow Method is a technique for identifying the ideal number of clusters in a dataset. It involves iterating through the data, generating clusters for various values of k. The k-means algorithm calculates the sum of squared distances between each data point and its assigned cluster centroid, known as the __inertia__ or __WCSS__ score. By plotting the inertia score against the k value, we create a graph that typically exhibits an elbow shape, hence the name \"__Elbow Method__\". The __elbow point__ represents the k-value where the reduction in inertia achieved by increasing k becomes negligible, indicating the optimal stopping point for the number of clusters."
   ]
  },
  {
   "cell_type": "markdown",
   "id": "2430ecaf",
   "metadata": {
    "papermill": {
     "duration": 0.080474,
     "end_time": "2023-09-13T18:56:17.195239",
     "exception": false,
     "start_time": "2023-09-13T18:56:17.114765",
     "status": "completed"
    },
    "tags": []
   },
   "source": [
    "<div style=\"border-radius:10px; padding: 15px; background-color: #ffeacc; font-size:120%; text-align:left\">\n",
    "\n",
    "<h3 align=\"left\"><font color=#ff6200>Utilizing the YellowBrick Library</font></h3>\n",
    "\n",
    "In this section, I will employ the __YellowBrick__ library to facilitate the implementation of the __Elbow method__. YellowBrick, an extension of the Scikit-Learn API, is renowned for its ability to rapidly generate insightful visualizations in the field of machine learning."
   ]
  },
  {
   "cell_type": "code",
   "execution_count": 59,
   "id": "0f4f9237",
   "metadata": {
    "papermill": {
     "duration": 18.47856,
     "end_time": "2023-09-13T18:56:35.752589",
     "exception": false,
     "start_time": "2023-09-13T18:56:17.274029",
     "status": "completed"
    },
    "tags": []
   },
   "outputs": [
    {
     "ename": "AttributeError",
     "evalue": "'NoneType' object has no attribute 'split'",
     "output_type": "error",
     "traceback": [
      "\u001b[1;31m---------------------------------------------------------------------------\u001b[0m",
      "\u001b[1;31mAttributeError\u001b[0m                            Traceback (most recent call last)",
      "Cell \u001b[1;32mIn[59], line 17\u001b[0m\n\u001b[0;32m     14\u001b[0m visualizer \u001b[38;5;241m=\u001b[39m KElbowVisualizer(km, k\u001b[38;5;241m=\u001b[39m(\u001b[38;5;241m2\u001b[39m, \u001b[38;5;241m15\u001b[39m), timings\u001b[38;5;241m=\u001b[39m\u001b[38;5;28;01mFalse\u001b[39;00m, ax\u001b[38;5;241m=\u001b[39max)\n\u001b[0;32m     16\u001b[0m \u001b[38;5;66;03m# Fit the data to the visualizer\u001b[39;00m\n\u001b[1;32m---> 17\u001b[0m \u001b[43mvisualizer\u001b[49m\u001b[38;5;241;43m.\u001b[39;49m\u001b[43mfit\u001b[49m\u001b[43m(\u001b[49m\u001b[43mcustomer_data_pca\u001b[49m\u001b[43m)\u001b[49m\n\u001b[0;32m     19\u001b[0m \u001b[38;5;66;03m# Finalize and render the figure\u001b[39;00m\n\u001b[0;32m     20\u001b[0m visualizer\u001b[38;5;241m.\u001b[39mshow();\n",
      "File \u001b[1;32mG:\\Anaconda\\Lib\\site-packages\\yellowbrick\\cluster\\elbow.py:339\u001b[0m, in \u001b[0;36mKElbowVisualizer.fit\u001b[1;34m(self, X, y, **kwargs)\u001b[0m\n\u001b[0;32m    337\u001b[0m \u001b[38;5;66;03m# Set the k value and fit the model\u001b[39;00m\n\u001b[0;32m    338\u001b[0m \u001b[38;5;28mself\u001b[39m\u001b[38;5;241m.\u001b[39mestimator\u001b[38;5;241m.\u001b[39mset_params(n_clusters\u001b[38;5;241m=\u001b[39mk)\n\u001b[1;32m--> 339\u001b[0m \u001b[38;5;28;43mself\u001b[39;49m\u001b[38;5;241;43m.\u001b[39;49m\u001b[43mestimator\u001b[49m\u001b[38;5;241;43m.\u001b[39;49m\u001b[43mfit\u001b[49m\u001b[43m(\u001b[49m\u001b[43mX\u001b[49m\u001b[43m,\u001b[49m\u001b[43m \u001b[49m\u001b[38;5;241;43m*\u001b[39;49m\u001b[38;5;241;43m*\u001b[39;49m\u001b[43mkwargs\u001b[49m\u001b[43m)\u001b[49m\n\u001b[0;32m    341\u001b[0m \u001b[38;5;66;03m# Append the time and score to our plottable metrics\u001b[39;00m\n\u001b[0;32m    342\u001b[0m \u001b[38;5;28mself\u001b[39m\u001b[38;5;241m.\u001b[39mk_timers_\u001b[38;5;241m.\u001b[39mappend(time\u001b[38;5;241m.\u001b[39mtime() \u001b[38;5;241m-\u001b[39m start)\n",
      "File \u001b[1;32mG:\\Anaconda\\Lib\\site-packages\\sklearn\\cluster\\_kmeans.py:1468\u001b[0m, in \u001b[0;36mKMeans.fit\u001b[1;34m(self, X, y, sample_weight)\u001b[0m\n\u001b[0;32m   1465\u001b[0m     \u001b[38;5;28mprint\u001b[39m(\u001b[38;5;124m\"\u001b[39m\u001b[38;5;124mInitialization complete\u001b[39m\u001b[38;5;124m\"\u001b[39m)\n\u001b[0;32m   1467\u001b[0m \u001b[38;5;66;03m# run a k-means once\u001b[39;00m\n\u001b[1;32m-> 1468\u001b[0m labels, inertia, centers, n_iter_ \u001b[38;5;241m=\u001b[39m \u001b[43mkmeans_single\u001b[49m\u001b[43m(\u001b[49m\n\u001b[0;32m   1469\u001b[0m \u001b[43m    \u001b[49m\u001b[43mX\u001b[49m\u001b[43m,\u001b[49m\n\u001b[0;32m   1470\u001b[0m \u001b[43m    \u001b[49m\u001b[43msample_weight\u001b[49m\u001b[43m,\u001b[49m\n\u001b[0;32m   1471\u001b[0m \u001b[43m    \u001b[49m\u001b[43mcenters_init\u001b[49m\u001b[43m,\u001b[49m\n\u001b[0;32m   1472\u001b[0m \u001b[43m    \u001b[49m\u001b[43mmax_iter\u001b[49m\u001b[38;5;241;43m=\u001b[39;49m\u001b[38;5;28;43mself\u001b[39;49m\u001b[38;5;241;43m.\u001b[39;49m\u001b[43mmax_iter\u001b[49m\u001b[43m,\u001b[49m\n\u001b[0;32m   1473\u001b[0m \u001b[43m    \u001b[49m\u001b[43mverbose\u001b[49m\u001b[38;5;241;43m=\u001b[39;49m\u001b[38;5;28;43mself\u001b[39;49m\u001b[38;5;241;43m.\u001b[39;49m\u001b[43mverbose\u001b[49m\u001b[43m,\u001b[49m\n\u001b[0;32m   1474\u001b[0m \u001b[43m    \u001b[49m\u001b[43mtol\u001b[49m\u001b[38;5;241;43m=\u001b[39;49m\u001b[38;5;28;43mself\u001b[39;49m\u001b[38;5;241;43m.\u001b[39;49m\u001b[43m_tol\u001b[49m\u001b[43m,\u001b[49m\n\u001b[0;32m   1475\u001b[0m \u001b[43m    \u001b[49m\u001b[43mn_threads\u001b[49m\u001b[38;5;241;43m=\u001b[39;49m\u001b[38;5;28;43mself\u001b[39;49m\u001b[38;5;241;43m.\u001b[39;49m\u001b[43m_n_threads\u001b[49m\u001b[43m,\u001b[49m\n\u001b[0;32m   1476\u001b[0m \u001b[43m\u001b[49m\u001b[43m)\u001b[49m\n\u001b[0;32m   1478\u001b[0m \u001b[38;5;66;03m# determine if these results are the best so far\u001b[39;00m\n\u001b[0;32m   1479\u001b[0m \u001b[38;5;66;03m# we chose a new run if it has a better inertia and the clustering is\u001b[39;00m\n\u001b[0;32m   1480\u001b[0m \u001b[38;5;66;03m# different from the best so far (it's possible that the inertia is\u001b[39;00m\n\u001b[0;32m   1481\u001b[0m \u001b[38;5;66;03m# slightly better even if the clustering is the same with potentially\u001b[39;00m\n\u001b[0;32m   1482\u001b[0m \u001b[38;5;66;03m# permuted labels, due to rounding errors)\u001b[39;00m\n\u001b[0;32m   1483\u001b[0m \u001b[38;5;28;01mif\u001b[39;00m best_inertia \u001b[38;5;129;01mis\u001b[39;00m \u001b[38;5;28;01mNone\u001b[39;00m \u001b[38;5;129;01mor\u001b[39;00m (\n\u001b[0;32m   1484\u001b[0m     inertia \u001b[38;5;241m<\u001b[39m best_inertia\n\u001b[0;32m   1485\u001b[0m     \u001b[38;5;129;01mand\u001b[39;00m \u001b[38;5;129;01mnot\u001b[39;00m _is_same_clustering(labels, best_labels, \u001b[38;5;28mself\u001b[39m\u001b[38;5;241m.\u001b[39mn_clusters)\n\u001b[0;32m   1486\u001b[0m ):\n",
      "File \u001b[1;32mG:\\Anaconda\\Lib\\site-packages\\sklearn\\cluster\\_kmeans.py:679\u001b[0m, in \u001b[0;36m_kmeans_single_lloyd\u001b[1;34m(X, sample_weight, centers_init, max_iter, verbose, tol, n_threads)\u001b[0m\n\u001b[0;32m    675\u001b[0m strict_convergence \u001b[38;5;241m=\u001b[39m \u001b[38;5;28;01mFalse\u001b[39;00m\n\u001b[0;32m    677\u001b[0m \u001b[38;5;66;03m# Threadpoolctl context to limit the number of threads in second level of\u001b[39;00m\n\u001b[0;32m    678\u001b[0m \u001b[38;5;66;03m# nested parallelism (i.e. BLAS) to avoid oversubscription.\u001b[39;00m\n\u001b[1;32m--> 679\u001b[0m \u001b[38;5;28;01mwith\u001b[39;00m \u001b[43mthreadpool_limits\u001b[49m\u001b[43m(\u001b[49m\u001b[43mlimits\u001b[49m\u001b[38;5;241;43m=\u001b[39;49m\u001b[38;5;241;43m1\u001b[39;49m\u001b[43m,\u001b[49m\u001b[43m \u001b[49m\u001b[43muser_api\u001b[49m\u001b[38;5;241;43m=\u001b[39;49m\u001b[38;5;124;43m\"\u001b[39;49m\u001b[38;5;124;43mblas\u001b[39;49m\u001b[38;5;124;43m\"\u001b[39;49m\u001b[43m)\u001b[49m:\n\u001b[0;32m    680\u001b[0m     \u001b[38;5;28;01mfor\u001b[39;00m i \u001b[38;5;129;01min\u001b[39;00m \u001b[38;5;28mrange\u001b[39m(max_iter):\n\u001b[0;32m    681\u001b[0m         lloyd_iter(\n\u001b[0;32m    682\u001b[0m             X,\n\u001b[0;32m    683\u001b[0m             sample_weight,\n\u001b[1;32m   (...)\u001b[0m\n\u001b[0;32m    689\u001b[0m             n_threads,\n\u001b[0;32m    690\u001b[0m         )\n",
      "File \u001b[1;32mG:\\Anaconda\\Lib\\site-packages\\sklearn\\utils\\fixes.py:139\u001b[0m, in \u001b[0;36mthreadpool_limits\u001b[1;34m(limits, user_api)\u001b[0m\n\u001b[0;32m    137\u001b[0m     \u001b[38;5;28;01mreturn\u001b[39;00m controller\u001b[38;5;241m.\u001b[39mlimit(limits\u001b[38;5;241m=\u001b[39mlimits, user_api\u001b[38;5;241m=\u001b[39muser_api)\n\u001b[0;32m    138\u001b[0m \u001b[38;5;28;01melse\u001b[39;00m:\n\u001b[1;32m--> 139\u001b[0m     \u001b[38;5;28;01mreturn\u001b[39;00m \u001b[43mthreadpoolctl\u001b[49m\u001b[38;5;241;43m.\u001b[39;49m\u001b[43mthreadpool_limits\u001b[49m\u001b[43m(\u001b[49m\u001b[43mlimits\u001b[49m\u001b[38;5;241;43m=\u001b[39;49m\u001b[43mlimits\u001b[49m\u001b[43m,\u001b[49m\u001b[43m \u001b[49m\u001b[43muser_api\u001b[49m\u001b[38;5;241;43m=\u001b[39;49m\u001b[43muser_api\u001b[49m\u001b[43m)\u001b[49m\n",
      "File \u001b[1;32mG:\\Anaconda\\Lib\\site-packages\\threadpoolctl.py:171\u001b[0m, in \u001b[0;36mthreadpool_limits.__init__\u001b[1;34m(self, limits, user_api)\u001b[0m\n\u001b[0;32m    167\u001b[0m \u001b[38;5;28;01mdef\u001b[39;00m \u001b[38;5;21m__init__\u001b[39m(\u001b[38;5;28mself\u001b[39m, limits\u001b[38;5;241m=\u001b[39m\u001b[38;5;28;01mNone\u001b[39;00m, user_api\u001b[38;5;241m=\u001b[39m\u001b[38;5;28;01mNone\u001b[39;00m):\n\u001b[0;32m    168\u001b[0m     \u001b[38;5;28mself\u001b[39m\u001b[38;5;241m.\u001b[39m_limits, \u001b[38;5;28mself\u001b[39m\u001b[38;5;241m.\u001b[39m_user_api, \u001b[38;5;28mself\u001b[39m\u001b[38;5;241m.\u001b[39m_prefixes \u001b[38;5;241m=\u001b[39m \\\n\u001b[0;32m    169\u001b[0m         \u001b[38;5;28mself\u001b[39m\u001b[38;5;241m.\u001b[39m_check_params(limits, user_api)\n\u001b[1;32m--> 171\u001b[0m     \u001b[38;5;28mself\u001b[39m\u001b[38;5;241m.\u001b[39m_original_info \u001b[38;5;241m=\u001b[39m \u001b[38;5;28;43mself\u001b[39;49m\u001b[38;5;241;43m.\u001b[39;49m\u001b[43m_set_threadpool_limits\u001b[49m\u001b[43m(\u001b[49m\u001b[43m)\u001b[49m\n",
      "File \u001b[1;32mG:\\Anaconda\\Lib\\site-packages\\threadpoolctl.py:268\u001b[0m, in \u001b[0;36mthreadpool_limits._set_threadpool_limits\u001b[1;34m(self)\u001b[0m\n\u001b[0;32m    265\u001b[0m \u001b[38;5;28;01mif\u001b[39;00m \u001b[38;5;28mself\u001b[39m\u001b[38;5;241m.\u001b[39m_limits \u001b[38;5;129;01mis\u001b[39;00m \u001b[38;5;28;01mNone\u001b[39;00m:\n\u001b[0;32m    266\u001b[0m     \u001b[38;5;28;01mreturn\u001b[39;00m \u001b[38;5;28;01mNone\u001b[39;00m\n\u001b[1;32m--> 268\u001b[0m modules \u001b[38;5;241m=\u001b[39m \u001b[43m_ThreadpoolInfo\u001b[49m\u001b[43m(\u001b[49m\u001b[43mprefixes\u001b[49m\u001b[38;5;241;43m=\u001b[39;49m\u001b[38;5;28;43mself\u001b[39;49m\u001b[38;5;241;43m.\u001b[39;49m\u001b[43m_prefixes\u001b[49m\u001b[43m,\u001b[49m\n\u001b[0;32m    269\u001b[0m \u001b[43m                          \u001b[49m\u001b[43muser_api\u001b[49m\u001b[38;5;241;43m=\u001b[39;49m\u001b[38;5;28;43mself\u001b[39;49m\u001b[38;5;241;43m.\u001b[39;49m\u001b[43m_user_api\u001b[49m\u001b[43m)\u001b[49m\n\u001b[0;32m    270\u001b[0m \u001b[38;5;28;01mfor\u001b[39;00m module \u001b[38;5;129;01min\u001b[39;00m modules:\n\u001b[0;32m    271\u001b[0m     \u001b[38;5;66;03m# self._limits is a dict {key: num_threads} where key is either\u001b[39;00m\n\u001b[0;32m    272\u001b[0m     \u001b[38;5;66;03m# a prefix or a user_api. If a module matches both, the limit\u001b[39;00m\n\u001b[0;32m    273\u001b[0m     \u001b[38;5;66;03m# corresponding to the prefix is chosed.\u001b[39;00m\n\u001b[0;32m    274\u001b[0m     \u001b[38;5;28;01mif\u001b[39;00m module\u001b[38;5;241m.\u001b[39mprefix \u001b[38;5;129;01min\u001b[39;00m \u001b[38;5;28mself\u001b[39m\u001b[38;5;241m.\u001b[39m_limits:\n",
      "File \u001b[1;32mG:\\Anaconda\\Lib\\site-packages\\threadpoolctl.py:340\u001b[0m, in \u001b[0;36m_ThreadpoolInfo.__init__\u001b[1;34m(self, user_api, prefixes, modules)\u001b[0m\n\u001b[0;32m    337\u001b[0m     \u001b[38;5;28mself\u001b[39m\u001b[38;5;241m.\u001b[39muser_api \u001b[38;5;241m=\u001b[39m [] \u001b[38;5;28;01mif\u001b[39;00m user_api \u001b[38;5;129;01mis\u001b[39;00m \u001b[38;5;28;01mNone\u001b[39;00m \u001b[38;5;28;01melse\u001b[39;00m user_api\n\u001b[0;32m    339\u001b[0m     \u001b[38;5;28mself\u001b[39m\u001b[38;5;241m.\u001b[39mmodules \u001b[38;5;241m=\u001b[39m []\n\u001b[1;32m--> 340\u001b[0m     \u001b[38;5;28;43mself\u001b[39;49m\u001b[38;5;241;43m.\u001b[39;49m\u001b[43m_load_modules\u001b[49m\u001b[43m(\u001b[49m\u001b[43m)\u001b[49m\n\u001b[0;32m    341\u001b[0m     \u001b[38;5;28mself\u001b[39m\u001b[38;5;241m.\u001b[39m_warn_if_incompatible_openmp()\n\u001b[0;32m    342\u001b[0m \u001b[38;5;28;01melse\u001b[39;00m:\n",
      "File \u001b[1;32mG:\\Anaconda\\Lib\\site-packages\\threadpoolctl.py:373\u001b[0m, in \u001b[0;36m_ThreadpoolInfo._load_modules\u001b[1;34m(self)\u001b[0m\n\u001b[0;32m    371\u001b[0m     \u001b[38;5;28mself\u001b[39m\u001b[38;5;241m.\u001b[39m_find_modules_with_dyld()\n\u001b[0;32m    372\u001b[0m \u001b[38;5;28;01melif\u001b[39;00m sys\u001b[38;5;241m.\u001b[39mplatform \u001b[38;5;241m==\u001b[39m \u001b[38;5;124m\"\u001b[39m\u001b[38;5;124mwin32\u001b[39m\u001b[38;5;124m\"\u001b[39m:\n\u001b[1;32m--> 373\u001b[0m     \u001b[38;5;28;43mself\u001b[39;49m\u001b[38;5;241;43m.\u001b[39;49m\u001b[43m_find_modules_with_enum_process_module_ex\u001b[49m\u001b[43m(\u001b[49m\u001b[43m)\u001b[49m\n\u001b[0;32m    374\u001b[0m \u001b[38;5;28;01melse\u001b[39;00m:\n\u001b[0;32m    375\u001b[0m     \u001b[38;5;28mself\u001b[39m\u001b[38;5;241m.\u001b[39m_find_modules_with_dl_iterate_phdr()\n",
      "File \u001b[1;32mG:\\Anaconda\\Lib\\site-packages\\threadpoolctl.py:485\u001b[0m, in \u001b[0;36m_ThreadpoolInfo._find_modules_with_enum_process_module_ex\u001b[1;34m(self)\u001b[0m\n\u001b[0;32m    482\u001b[0m         filepath \u001b[38;5;241m=\u001b[39m buf\u001b[38;5;241m.\u001b[39mvalue\n\u001b[0;32m    484\u001b[0m         \u001b[38;5;66;03m# Store the module if it is supported and selected\u001b[39;00m\n\u001b[1;32m--> 485\u001b[0m         \u001b[38;5;28;43mself\u001b[39;49m\u001b[38;5;241;43m.\u001b[39;49m\u001b[43m_make_module_from_path\u001b[49m\u001b[43m(\u001b[49m\u001b[43mfilepath\u001b[49m\u001b[43m)\u001b[49m\n\u001b[0;32m    486\u001b[0m \u001b[38;5;28;01mfinally\u001b[39;00m:\n\u001b[0;32m    487\u001b[0m     kernel_32\u001b[38;5;241m.\u001b[39mCloseHandle(h_process)\n",
      "File \u001b[1;32mG:\\Anaconda\\Lib\\site-packages\\threadpoolctl.py:515\u001b[0m, in \u001b[0;36m_ThreadpoolInfo._make_module_from_path\u001b[1;34m(self, filepath)\u001b[0m\n\u001b[0;32m    513\u001b[0m \u001b[38;5;28;01mif\u001b[39;00m prefix \u001b[38;5;129;01min\u001b[39;00m \u001b[38;5;28mself\u001b[39m\u001b[38;5;241m.\u001b[39mprefixes \u001b[38;5;129;01mor\u001b[39;00m user_api \u001b[38;5;129;01min\u001b[39;00m \u001b[38;5;28mself\u001b[39m\u001b[38;5;241m.\u001b[39muser_api:\n\u001b[0;32m    514\u001b[0m     module_class \u001b[38;5;241m=\u001b[39m \u001b[38;5;28mglobals\u001b[39m()[module_class]\n\u001b[1;32m--> 515\u001b[0m     module \u001b[38;5;241m=\u001b[39m \u001b[43mmodule_class\u001b[49m\u001b[43m(\u001b[49m\u001b[43mfilepath\u001b[49m\u001b[43m,\u001b[49m\u001b[43m \u001b[49m\u001b[43mprefix\u001b[49m\u001b[43m,\u001b[49m\u001b[43m \u001b[49m\u001b[43muser_api\u001b[49m\u001b[43m,\u001b[49m\u001b[43m \u001b[49m\u001b[43minternal_api\u001b[49m\u001b[43m)\u001b[49m\n\u001b[0;32m    516\u001b[0m     \u001b[38;5;28mself\u001b[39m\u001b[38;5;241m.\u001b[39mmodules\u001b[38;5;241m.\u001b[39mappend(module)\n",
      "File \u001b[1;32mG:\\Anaconda\\Lib\\site-packages\\threadpoolctl.py:606\u001b[0m, in \u001b[0;36m_Module.__init__\u001b[1;34m(self, filepath, prefix, user_api, internal_api)\u001b[0m\n\u001b[0;32m    604\u001b[0m \u001b[38;5;28mself\u001b[39m\u001b[38;5;241m.\u001b[39minternal_api \u001b[38;5;241m=\u001b[39m internal_api\n\u001b[0;32m    605\u001b[0m \u001b[38;5;28mself\u001b[39m\u001b[38;5;241m.\u001b[39m_dynlib \u001b[38;5;241m=\u001b[39m ctypes\u001b[38;5;241m.\u001b[39mCDLL(filepath, mode\u001b[38;5;241m=\u001b[39m_RTLD_NOLOAD)\n\u001b[1;32m--> 606\u001b[0m \u001b[38;5;28mself\u001b[39m\u001b[38;5;241m.\u001b[39mversion \u001b[38;5;241m=\u001b[39m \u001b[38;5;28;43mself\u001b[39;49m\u001b[38;5;241;43m.\u001b[39;49m\u001b[43mget_version\u001b[49m\u001b[43m(\u001b[49m\u001b[43m)\u001b[49m\n\u001b[0;32m    607\u001b[0m \u001b[38;5;28mself\u001b[39m\u001b[38;5;241m.\u001b[39mnum_threads \u001b[38;5;241m=\u001b[39m \u001b[38;5;28mself\u001b[39m\u001b[38;5;241m.\u001b[39mget_num_threads()\n\u001b[0;32m    608\u001b[0m \u001b[38;5;28mself\u001b[39m\u001b[38;5;241m.\u001b[39m_get_extra_info()\n",
      "File \u001b[1;32mG:\\Anaconda\\Lib\\site-packages\\threadpoolctl.py:646\u001b[0m, in \u001b[0;36m_OpenBLASModule.get_version\u001b[1;34m(self)\u001b[0m\n\u001b[0;32m    643\u001b[0m get_config \u001b[38;5;241m=\u001b[39m \u001b[38;5;28mgetattr\u001b[39m(\u001b[38;5;28mself\u001b[39m\u001b[38;5;241m.\u001b[39m_dynlib, \u001b[38;5;124m\"\u001b[39m\u001b[38;5;124mopenblas_get_config\u001b[39m\u001b[38;5;124m\"\u001b[39m,\n\u001b[0;32m    644\u001b[0m                      \u001b[38;5;28;01mlambda\u001b[39;00m: \u001b[38;5;28;01mNone\u001b[39;00m)\n\u001b[0;32m    645\u001b[0m get_config\u001b[38;5;241m.\u001b[39mrestype \u001b[38;5;241m=\u001b[39m ctypes\u001b[38;5;241m.\u001b[39mc_char_p\n\u001b[1;32m--> 646\u001b[0m config \u001b[38;5;241m=\u001b[39m \u001b[43mget_config\u001b[49m\u001b[43m(\u001b[49m\u001b[43m)\u001b[49m\u001b[38;5;241;43m.\u001b[39;49m\u001b[43msplit\u001b[49m()\n\u001b[0;32m    647\u001b[0m \u001b[38;5;28;01mif\u001b[39;00m config[\u001b[38;5;241m0\u001b[39m] \u001b[38;5;241m==\u001b[39m \u001b[38;5;124mb\u001b[39m\u001b[38;5;124m\"\u001b[39m\u001b[38;5;124mOpenBLAS\u001b[39m\u001b[38;5;124m\"\u001b[39m:\n\u001b[0;32m    648\u001b[0m     \u001b[38;5;28;01mreturn\u001b[39;00m config[\u001b[38;5;241m1\u001b[39m]\u001b[38;5;241m.\u001b[39mdecode(\u001b[38;5;124m\"\u001b[39m\u001b[38;5;124mutf-8\u001b[39m\u001b[38;5;124m\"\u001b[39m)\n",
      "\u001b[1;31mAttributeError\u001b[0m: 'NoneType' object has no attribute 'split'"
     ]
    },
    {
     "data": {
      "image/png": "[encoded data removed]",
      "text/plain": [
       "<Figure size 1200x500 with 1 Axes>"
      ]
     },
     "metadata": {},
     "output_type": "display_data"
    }
   ],
   "source": [
    "# Set plot style, and background color\n",
    "sns.set(style='darkgrid', rc={'axes.facecolor': '#fcf0dc'})\n",
    "\n",
    "# Set the color palette for the plot\n",
    "sns.set_palette(['#ff6200'])\n",
    "\n",
    "# Instantiate the clustering model with the specified parameters\n",
    "km = KMeans(init='k-means++', n_init=10, max_iter=100, random_state=0)\n",
    "\n",
    "# Create a figure and axis with the desired size\n",
    "fig, ax = plt.subplots(figsize=(12, 5))\n",
    "\n",
    "# Instantiate the KElbowVisualizer with the model and range of k values, and disable the timing plot\n",
    "visualizer = KElbowVisualizer(km, k=(2, 15), timings=False, ax=ax)\n",
    "\n",
    "# Fit the data to the visualizer\n",
    "visualizer.fit(customer_data_pca)\n",
    "\n",
    "# Finalize and render the figure\n",
    "visualizer.show();"
   ]
  },
  {
   "cell_type": "markdown",
   "id": "225fd1c7",
   "metadata": {
    "papermill": {
     "duration": 0.086402,
     "end_time": "2023-09-13T18:56:35.922228",
     "exception": false,
     "start_time": "2023-09-13T18:56:35.835826",
     "status": "completed"
    },
    "tags": []
   },
   "source": [
    "<div style=\"border-radius:10px; padding: 15px; background-color: #ffeacc; font-size:120%; text-align:left\">\n",
    "\n",
    "<h3 align=\"left\"><font color=#ff6200>Optimal k Value: Elbow Method Insights</font></h3>\n",
    "\n",
    "The optimal value of k for the KMeans clustering algorithm can be found at the __elbow point__. Using the YellowBrick library for the Elbow method, we observe that the suggested optimal k value is __5__. However, __we don't have a very distinct elbow point in this case__, which is common in real-world data. From the plot, we can see that the inertia continues to decrease significantly up to k=5, indicating that __the optimum value of k could be between 3 and 7__. To choose the best k within this range, we can employ the __silhouette analysis__, another cluster quality evaluation method. Additionally, incorporating business insights can help determine a practical k value."
   ]
  },
  {
   "cell_type": "markdown",
   "id": "94118a4b",
   "metadata": {
    "papermill": {
     "duration": 0.086471,
     "end_time": "2023-09-13T18:56:36.092946",
     "exception": false,
     "start_time": "2023-09-13T18:56:36.006475",
     "status": "completed"
    },
    "tags": []
   },
   "source": [
    "<a id=\"silhouette\"></a>\n",
    "## <b><span style='color:#fcc36d'>Step 9.1.2 |</span><span style='color:#ff6200'> Silhouette Method</span></b>\n",
    "⬆️ [Tabel of Contents](#contents_tabel)"
   ]
  },
  {
   "cell_type": "markdown",
   "id": "75d1de89",
   "metadata": {
    "papermill": {
     "duration": 0.080453,
     "end_time": "2023-09-13T18:56:36.256900",
     "exception": false,
     "start_time": "2023-09-13T18:56:36.176447",
     "status": "completed"
    },
    "tags": []
   },
   "source": [
    "<div style=\"border-radius:10px; padding: 15px; background-color: #ffeacc; font-size:120%; text-align:left\">\n",
    "\n",
    "<h3 align=\"left\"><font color=#ff6200>What is the Silhouette Method?</font></h3>\n",
    "    \n",
    "The __Silhouette Method__ is an approach to find the optimal number of clusters in a dataset by evaluating the consistency within clusters and their separation from other clusters. It computes the __silhouette coefficient for each data point__, which measures how similar a point is to its own cluster compared to other clusters.\n",
    "\n",
    "____\n",
    "    \n",
    "<h3 align=\"left\"><font color=#ff6200>What is the Silhouette Coefficient?</font></h3>\n",
    "    \n",
    "To determine the silhouette coefficient for a given point i, follow these steps:\n",
    "\n",
    "* __Calculate a(i)__: Compute the average distance between point i and all other points within its cluster.\n",
    "* __Calculate b(i)__: Compute the average distance between point i and all points in the nearest cluster to its own.\n",
    "* __Compute the silhouette coefficient__, s(i), for point i using the following formula: \n",
    "    \n",
    "    $$ s(i) = \\frac{b(i) - a(i)}{\\max(b(i), a(i))} $$\n",
    "    \n",
    "__Note:__ The silhouette coefficient quantifies the similarity of a point to its own cluster (cohesion) relative to its separation from other clusters. This value ranges from -1 to 1, with higher values signifying that the point is well aligned with its cluster and has a low similarity to neighboring clusters.    \n",
    "\n",
    "____\n",
    "    \n",
    "<h3 align=\"left\"><font color=#ff6200>What is the Silhouette Score?</font></h3>\n",
    "    \n",
    "The __silhouette score__ is the __average silhouette coefficient__ calculated for all data points in a dataset. It provides an overall assessment of the clustering quality, taking into account both cohesion within clusters and separation between clusters. A higher silhouette score indicates a better clustering configuration.    \n",
    "    \n",
    "____\n",
    "       \n",
    "<h3 align=\"left\"><font color=#ff6200>What are the Advantages of Silhouette Method over the Elbow Method?</font></h3>\n",
    "    \n",
    "* The __Silhouette Method__ evaluates cluster quality by considering __both__ the __cohesion within clusters__ and their __separation__ from other clusters. This provides a more comprehensive measure of clustering performance compared to the __Elbow Method__, which only considers the __inertia__ (sum of squared distances within clusters).\n",
    "\n",
    "\n",
    "* The __Silhouette Method__ produces a silhouette score that directly quantifies the quality of clustering, making it easier to compare different values of k. In contrast, the __Elbow Method__ relies on the subjective interpretation of the elbow point, which can be less reliable in cases where the plot does not show a clear elbow.\n",
    "\n",
    "    \n",
    "* The __Silhouette Method__ generates a visual representation of silhouette coefficients for each data point, allowing for easier identification of fluctuations and outliers within clusters. This helps in determining the optimal number of clusters with higher confidence, as opposed to the __Elbow Method__, which relies on visual inspection of the inertia plot."
   ]
  },
  {
   "cell_type": "markdown",
   "id": "fd43ed65",
   "metadata": {
    "papermill": {
     "duration": 0.080951,
     "end_time": "2023-09-13T18:56:36.422273",
     "exception": false,
     "start_time": "2023-09-13T18:56:36.341322",
     "status": "completed"
    },
    "tags": []
   },
   "source": [
    "<div style=\"border-radius:10px; padding: 15px; background-color: #ffeacc; font-size:120%; text-align:left\">\n",
    "\n",
    "<h3 align=\"left\"><font color=#ff6200>Methodology</font></h3>\n",
    "    \n",
    "In the following analysis:\n",
    "\n",
    "- I will initially choose a range of 2-6 for the number of clusters (k) based on the Elbow method from the previous section. Next, I will plot __Silhouette scores__ for each k value to determine the one with the highest score.\n",
    "\n",
    "\n",
    "- Subsequently, to fine-tune the selection of the most appropriate k, I will generate __Silhouette plots__ that visually display the __silhouette coefficients for each data point within various clusters__.\n",
    "\n",
    "\n",
    "The __YellowBrick__ library will be utilized once again to create these plots and facilitate a comparative analysis."
   ]
  },
  {
   "cell_type": "code",
   "execution_count": null,
   "id": "24135687",
   "metadata": {
    "papermill": {
     "duration": 0.105705,
     "end_time": "2023-09-13T18:56:36.609774",
     "exception": false,
     "start_time": "2023-09-13T18:56:36.504069",
     "status": "completed"
    },
    "tags": []
   },
   "outputs": [],
   "source": [
    "def silhouette_analysis(df, start_k, stop_k, figsize=(15, 16)):\n",
    "    \"\"\"\n",
    "    Perform Silhouette analysis for a range of k values and visualize the results.\n",
    "    \"\"\"\n",
    "\n",
    "    # Set the size of the figure\n",
    "    plt.figure(figsize=figsize)\n",
    "\n",
    "    # Create a grid with (stop_k - start_k + 1) rows and 2 columns\n",
    "    grid = gridspec.GridSpec(stop_k - start_k + 1, 2)\n",
    "\n",
    "    # Assign the first plot to the first row and both columns\n",
    "    first_plot = plt.subplot(grid[0, :])\n",
    "\n",
    "    # First plot: Silhouette scores for different k values\n",
    "    sns.set_palette(['darkorange'])\n",
    "\n",
    "    silhouette_scores = []\n",
    "\n",
    "    # Iterate through the range of k values\n",
    "    for k in range(start_k, stop_k + 1):\n",
    "        km = KMeans(n_clusters=k, init='k-means++', n_init=10, max_iter=100, random_state=0)\n",
    "        km.fit(df)\n",
    "        labels = km.predict(df)\n",
    "        score = silhouette_score(df, labels)\n",
    "        silhouette_scores.append(score)\n",
    "\n",
    "    best_k = start_k + silhouette_scores.index(max(silhouette_scores))\n",
    "\n",
    "    plt.plot(range(start_k, stop_k + 1), silhouette_scores, marker='o')\n",
    "    plt.xticks(range(start_k, stop_k + 1))\n",
    "    plt.xlabel('Number of clusters (k)')\n",
    "    plt.ylabel('Silhouette score')\n",
    "    plt.title('Average Silhouette Score for Different k Values', fontsize=15)\n",
    "\n",
    "    # Add the optimal k value text to the plot\n",
    "    optimal_k_text = f'The k value with the highest Silhouette score is: {best_k}'\n",
    "    plt.text(10, 0.23, optimal_k_text, fontsize=12, verticalalignment='bottom', \n",
    "             horizontalalignment='left', bbox=dict(facecolor='#fcc36d', edgecolor='#ff6200', boxstyle='round, pad=0.5'))\n",
    "             \n",
    "\n",
    "    # Second plot (subplot): Silhouette plots for each k value\n",
    "    colors = sns.color_palette(\"bright\")\n",
    "\n",
    "    for i in range(start_k, stop_k + 1):    \n",
    "        km = KMeans(n_clusters=i, init='k-means++', n_init=10, max_iter=100, random_state=0)\n",
    "        row_idx, col_idx = divmod(i - start_k, 2)\n",
    "\n",
    "        # Assign the plots to the second, third, and fourth rows\n",
    "        ax = plt.subplot(grid[row_idx + 1, col_idx])\n",
    "\n",
    "        visualizer = SilhouetteVisualizer(km, colors=colors, ax=ax)\n",
    "        visualizer.fit(df)\n",
    "\n",
    "        # Add the Silhouette score text to the plot\n",
    "        score = silhouette_score(df, km.labels_)\n",
    "        ax.text(0.97, 0.02, f'Silhouette Score: {score:.2f}', fontsize=12, \\\n",
    "                ha='right', transform=ax.transAxes, color='red')\n",
    "\n",
    "        ax.set_title(f'Silhouette Plot for {i} Clusters', fontsize=15)\n",
    "\n",
    "    plt.tight_layout()\n",
    "    plt.show()"
   ]
  },
  {
   "cell_type": "code",
   "execution_count": null,
   "id": "c971cf0b",
   "metadata": {
    "papermill": {
     "duration": 48.801465,
     "end_time": "2023-09-13T18:57:25.496889",
     "exception": false,
     "start_time": "2023-09-13T18:56:36.695424",
     "status": "completed"
    },
    "tags": []
   },
   "outputs": [],
   "source": [
    "silhouette_analysis(customer_data_pca, 3, 12, figsize=(20, 50))"
   ]
  },
  {
   "cell_type": "markdown",
   "id": "fcd1d45f",
   "metadata": {
    "papermill": {
     "duration": 0.094759,
     "end_time": "2023-09-13T18:57:25.686661",
     "exception": false,
     "start_time": "2023-09-13T18:57:25.591902",
     "status": "completed"
    },
    "tags": []
   },
   "source": [
    "<div style=\"border-radius:10px; padding: 15px; background-color: #ffeacc; font-size:120%; text-align:left\">\n",
    "\n",
    "<h3 align=\"left\"><font color=#ff6200>Guidelines to Interpret Silhouette Plots and Determine the Optimal K:</font></h3>\n",
    "\n",
    "\n",
    "To interpret silhouette plots and identify the optimal number of clusters (\\( k \\)), consider the following criteria:\n",
    "\n",
    "- 1️⃣ __Analyze the Silhouette Plots__:\n",
    "   \n",
    "   * __Silhouette Score Width__:\n",
    "        - __Wide Widths (closer to +1)__: Indicate that the data points in the cluster are well separated from points in other clusters, suggesting well-defined clusters.\n",
    "        - __Narrow Widths (closer to -1)__: Show that data points in the cluster are not distinctly separated from other clusters, indicating poorly defined clusters.\n",
    "   \n",
    "   * __Average Silhouette Score__:\n",
    "        - __High Average Width__: A cluster with a high average silhouette score indicates well-separated clusters.\n",
    "        - __Low Average Width__: A cluster with a low average silhouette score indicates poor separation between clusters.\n",
    "\n",
    "____\n",
    "    \n",
    "    \n",
    "- 2️⃣ __Uniformity in Cluster Size__:\n",
    "   \n",
    "   2.1 __Cluster Thickness__:\n",
    "   - __Uniform Thickness__: Indicates that clusters have a roughly equal number of data points, suggesting a balanced clustering structure.\n",
    "   - __Variable Thickness__: Signifies an imbalance in the data point distribution across clusters, with some clusters having many data points and others too few.\n",
    "\n",
    "____\n",
    "    \n",
    "    \n",
    "- 3️⃣ __Peaks in Average Silhouette Score__:\n",
    "   - __Clear Peaks__: A clear peak in the __average__ silhouette score plot for a specific \\( k \\) value indicates this \\( k \\) might be optimal.\n",
    "\n",
    "____\n",
    "    \n",
    "    \n",
    "- 4️⃣ __Minimize Fluctuations in Silhouette Plot Widths__:\n",
    "   - __Uniform Widths__: Seek silhouette plots with similar widths across clusters, suggesting a more balanced and optimal clustering.\n",
    "   - __Variable Widths__: Avoid wide fluctuations in silhouette plot widths, indicating that clusters are not well-defined and may vary in compactness.\n",
    "\n",
    "____\n",
    "    \n",
    "    \n",
    "- 5️⃣ __Optimal Cluster Selection__:\n",
    "   - __Maximize the Overall Average Silhouette Score__: Choose the \\( k \\) value that gives the highest average silhouette score across all clusters, indicating well-defined clusters.\n",
    "   - __Avoid Below-Average Silhouette Scores__: Ensure most clusters have above-average silhouette scores to prevent suboptimal clustering structures.\n",
    "\n",
    "____\n",
    "    \n",
    "    \n",
    "- 6️⃣ __Visual Inspection of Silhouette Plots__:\n",
    "   - __Consistent Cluster Formation__: Visually inspect the silhouette plots for each \\( k \\) value to evaluate the consistency and structure of the formed clusters.\n",
    "   - __Cluster Compactness__: Look for more compact clusters, with data points having silhouette scores closer to +1, indicating better clustering.\n"
   ]
  },
  {
   "cell_type": "markdown",
   "id": "1b72a390",
   "metadata": {
    "papermill": {
     "duration": 0.094984,
     "end_time": "2023-09-13T18:57:25.877053",
     "exception": false,
     "start_time": "2023-09-13T18:57:25.782069",
     "status": "completed"
    },
    "tags": []
   },
   "source": [
    "<div style=\"border-radius:10px; padding: 15px; background-color: #ffeacc; font-size:120%; text-align:left\">\n",
    "\n",
    "<h3 align=\"left\"><font color=#ff6200>Optimal k Value: Silhouette Method Insights</font></h3>\n",
    "\n",
    "Based on above guidelines and after carefully considering the silhouette plots, it's clear that choosing __\\( k = 3 \\)__ is the better option. This choice gives us clusters that are more evenly matched and well-defined, making our clustering solution stronger and more reliable."
   ]
  },
  {
   "cell_type": "markdown",
   "id": "ad805a5d",
   "metadata": {
    "papermill": {
     "duration": 0.093555,
     "end_time": "2023-09-13T18:57:26.063850",
     "exception": false,
     "start_time": "2023-09-13T18:57:25.970295",
     "status": "completed"
    },
    "tags": []
   },
   "source": [
    "<a id=\"kmeans_model\"></a>\n",
    "# <b><span style='color:#fcc36d'>Step 9.2 |</span><span style='color:#ff6200'> Clustering Model - K-means</span></b>\n",
    "⬆️ [Tabel of Contents](#contents_tabel)"
   ]
  },
  {
   "cell_type": "markdown",
   "id": "0565eced",
   "metadata": {
    "papermill": {
     "duration": 0.093547,
     "end_time": "2023-09-13T18:57:26.251350",
     "exception": false,
     "start_time": "2023-09-13T18:57:26.157803",
     "status": "completed"
    },
    "tags": []
   },
   "source": [
    "<div style=\"border-radius:10px; padding: 15px; background-color: #ffeacc; font-size:120%; text-align:left\">\n",
    "\n",
    "In this step, I am going to apply the K-means clustering algorithm to segment customers into different clusters based on their purchasing behaviors and other characteristics, using the optimal number of clusters determined in the previous step.\n",
    "\n",
    "It's important to note that the K-means algorithm might assign different labels to the clusters in each run. To address this, we have taken an additional step to swap the labels based on the frequency of samples in each cluster, ensuring a consistent label assignment across different runs."
   ]
  },
  {
   "cell_type": "code",
   "execution_count": null,
   "id": "d9c3238b",
   "metadata": {
    "papermill": {
     "duration": 1.408565,
     "end_time": "2023-09-13T18:57:27.752578",
     "exception": false,
     "start_time": "2023-09-13T18:57:26.344013",
     "status": "completed"
    },
    "tags": []
   },
   "outputs": [],
   "source": [
    "# Apply KMeans clustering using the optimal k\n",
    "kmeans = KMeans(n_clusters=3, init='k-means++', n_init=10, max_iter=100, random_state=0)\n",
    "kmeans.fit(customer_data_pca)\n",
    "\n",
    "# Get the frequency of each cluster\n",
    "cluster_frequencies = Counter(kmeans.labels_)\n",
    "\n",
    "# Create a mapping from old labels to new labels based on frequency\n",
    "label_mapping = {label: new_label for new_label, (label, _) in \n",
    "                 enumerate(cluster_frequencies.most_common())}\n",
    "\n",
    "# Reverse the mapping to assign labels as per your criteria\n",
    "label_mapping = {v: k for k, v in {2: 1, 1: 0, 0: 2}.items()}\n",
    "\n",
    "# Apply the mapping to get the new labels\n",
    "new_labels = np.array([label_mapping[label] for label in kmeans.labels_])\n",
    "\n",
    "# Append the new cluster labels back to the original dataset\n",
    "customer_data_cleaned['cluster'] = new_labels\n",
    "\n",
    "# Append the new cluster labels to the PCA version of the dataset\n",
    "customer_data_pca['cluster'] = new_labels"
   ]
  },
  {
   "cell_type": "code",
   "execution_count": null,
   "id": "b4ac520a",
   "metadata": {
    "papermill": {
     "duration": 0.12762,
     "end_time": "2023-09-13T18:57:27.973860",
     "exception": false,
     "start_time": "2023-09-13T18:57:27.846240",
     "status": "completed"
    },
    "tags": []
   },
   "outputs": [],
   "source": [
    "# Display the first few rows of the original dataframe\n",
    "customer_data_cleaned.head()"
   ]
  },
  {
   "cell_type": "markdown",
   "id": "8b5e7a50",
   "metadata": {
    "papermill": {
     "duration": 0.093338,
     "end_time": "2023-09-13T18:57:28.163349",
     "exception": false,
     "start_time": "2023-09-13T18:57:28.070011",
     "status": "completed"
    },
    "tags": []
   },
   "source": [
    "<a id=\"evaluation\"></a>\n",
    "# <p style=\"background-color: #ff6200; font-family:calibri; color:white; font-size:140%; font-family:Verdana; text-align:center; border-radius:15px 50px;\">Step 10 | Clustering Evaluation</p>\n",
    "⬆️ [Tabel of Contents](#contents_tabel)"
   ]
  },
  {
   "cell_type": "markdown",
   "id": "ac3fdeb8",
   "metadata": {
    "papermill": {
     "duration": 0.094968,
     "end_time": "2023-09-13T18:57:28.359233",
     "exception": false,
     "start_time": "2023-09-13T18:57:28.264265",
     "status": "completed"
    },
    "tags": []
   },
   "source": [
    "<div style=\"border-radius:10px; padding: 15px; background-color: #ffeacc; font-size:120%; text-align:left\">\n",
    "\n",
    "After determining the optimal number of clusters (which is 3 in our case) using elbow and silhouette analyses, I move onto the evaluation step to assess the quality of the clusters formed. This step is essential to validate the effectiveness of the clustering and to ensure that the clusters are __coherent__ and __well-separated__. The evaluation metrics and a visualization technique I plan to use are outlined below:\n",
    "    \n",
    "- 1️⃣ __3D Visualization of Top PCs__ \n",
    "\n",
    "    \n",
    "- 2️⃣ __Cluster Distribution Visualization__ \n",
    "    \n",
    "    \n",
    "- 3️⃣ __Evaluation Metrics__ \n",
    "    \n",
    "    * Silhouette Score\n",
    "    * Calinski Harabasz Score\n",
    "    * Davies Bouldin Score\n",
    "       \n",
    "____  \n",
    "    \n",
    "**Note**: We are using the PCA version of the dataset for evaluation because this is the space where the clusters were actually formed, capturing the most significant patterns in the data. Evaluating in this space ensures a more accurate representation of the cluster quality, helping us understand the true cohesion and separation achieved during clustering. This approach also aids in creating a clearer 3D visualization using the top principal components, illustrating the actual separation between clusters."
   ]
  },
  {
   "cell_type": "markdown",
   "id": "462bd1a4",
   "metadata": {
    "papermill": {
     "duration": 0.09431,
     "end_time": "2023-09-13T18:57:28.548639",
     "exception": false,
     "start_time": "2023-09-13T18:57:28.454329",
     "status": "completed"
    },
    "tags": []
   },
   "source": [
    "<a id=\"3d_visualization\"></a>\n",
    "# <b><span style='color:#fcc36d'>Step 10.1 |</span><span style='color:#ff6200'>  3D Visualization of Top Principal Components</span></b>\n",
    "⬆️ [Tabel of Contents](#contents_tabel)"
   ]
  },
  {
   "cell_type": "markdown",
   "id": "255f64c4",
   "metadata": {
    "papermill": {
     "duration": 0.096205,
     "end_time": "2023-09-13T18:57:28.738642",
     "exception": false,
     "start_time": "2023-09-13T18:57:28.642437",
     "status": "completed"
    },
    "tags": []
   },
   "source": [
    "<div style=\"border-radius:10px; padding: 15px; background-color: #ffeacc; font-size:120%; text-align:left\">\n",
    "\n",
    "In this part, I am going to choose the top 3 PCs (which capture the most variance in the data) and use them to create a 3D visualization. This will allow us to visually inspect the quality of separation and cohesion of clusters to some extent:"
   ]
  },
  {
   "cell_type": "code",
   "execution_count": null,
   "id": "a9423286",
   "metadata": {
    "papermill": {
     "duration": 0.104131,
     "end_time": "2023-09-13T18:57:28.937718",
     "exception": false,
     "start_time": "2023-09-13T18:57:28.833587",
     "status": "completed"
    },
    "tags": []
   },
   "outputs": [],
   "source": [
    "# Setting up the color scheme for the clusters (RGB order)\n",
    "colors = ['#e8000b', '#1ac938', '#023eff']"
   ]
  },
  {
   "cell_type": "code",
   "execution_count": null,
   "id": "9f33fd0a",
   "metadata": {
    "papermill": {
     "duration": 0.482553,
     "end_time": "2023-09-13T18:57:29.514649",
     "exception": false,
     "start_time": "2023-09-13T18:57:29.032096",
     "status": "completed"
    },
    "tags": []
   },
   "outputs": [],
   "source": [
    "# Create separate data frames for each cluster\n",
    "cluster_0 = customer_data_pca[customer_data_pca['cluster'] == 0]\n",
    "cluster_1 = customer_data_pca[customer_data_pca['cluster'] == 1]\n",
    "cluster_2 = customer_data_pca[customer_data_pca['cluster'] == 2]\n",
    "\n",
    "# Create a 3D scatter plot\n",
    "fig = go.Figure()\n",
    "\n",
    "# Add data points for each cluster separately and specify the color\n",
    "fig.add_trace(go.Scatter3d(x=cluster_0['PC1'], y=cluster_0['PC2'], z=cluster_0['PC3'], \n",
    "                           mode='markers', marker=dict(color=colors[0], size=5, opacity=0.4), name='Cluster 0'))\n",
    "fig.add_trace(go.Scatter3d(x=cluster_1['PC1'], y=cluster_1['PC2'], z=cluster_1['PC3'], \n",
    "                           mode='markers', marker=dict(color=colors[1], size=5, opacity=0.4), name='Cluster 1'))\n",
    "fig.add_trace(go.Scatter3d(x=cluster_2['PC1'], y=cluster_2['PC2'], z=cluster_2['PC3'], \n",
    "                           mode='markers', marker=dict(color=colors[2], size=5, opacity=0.4), name='Cluster 2'))\n",
    "\n",
    "# Set the title and layout details\n",
    "fig.update_layout(\n",
    "    title=dict(text='3D Visualization of Customer Clusters in PCA Space', x=0.5),\n",
    "    scene=dict(\n",
    "        xaxis=dict(backgroundcolor=\"#fcf0dc\", gridcolor='white', title='PC1'),\n",
    "        yaxis=dict(backgroundcolor=\"#fcf0dc\", gridcolor='white', title='PC2'),\n",
    "        zaxis=dict(backgroundcolor=\"#fcf0dc\", gridcolor='white', title='PC3'),\n",
    "    ),\n",
    "    width=900,\n",
    "    height=800\n",
    ")\n",
    "\n",
    "# Show the plot\n",
    "fig.show()"
   ]
  },
  {
   "cell_type": "markdown",
   "id": "66b78551",
   "metadata": {
    "papermill": {
     "duration": 0.254792,
     "end_time": "2023-09-13T18:57:29.925873",
     "exception": false,
     "start_time": "2023-09-13T18:57:29.671081",
     "status": "completed"
    },
    "tags": []
   },
   "source": [
    "<a id=\"cluster_distributuion\"></a>\n",
    "# <b><span style='color:#fcc36d'>Step 10.2 |</span><span style='color:#ff6200'>  Cluster Distribution Visualization</span></b>\n",
    "⬆️ [Tabel of Contents](#contents_tabel)"
   ]
  },
  {
   "cell_type": "markdown",
   "id": "3ac250d9",
   "metadata": {
    "papermill": {
     "duration": 0.155618,
     "end_time": "2023-09-13T18:57:30.236070",
     "exception": false,
     "start_time": "2023-09-13T18:57:30.080452",
     "status": "completed"
    },
    "tags": []
   },
   "source": [
    "<div style=\"border-radius:10px; padding: 15px; background-color: #ffeacc; font-size:120%; text-align:left\">\n",
    "    \n",
    "I am going to utilize a bar plot to visualize the percentage of customers in each cluster, which helps in understanding if the clusters are balanced and significant:"
   ]
  },
  {
   "cell_type": "code",
   "execution_count": null,
   "id": "9c617e70",
   "metadata": {
    "papermill": {
     "duration": 0.55019,
     "end_time": "2023-09-13T18:57:30.939968",
     "exception": false,
     "start_time": "2023-09-13T18:57:30.389778",
     "status": "completed"
    },
    "tags": []
   },
   "outputs": [],
   "source": [
    "# Calculate the percentage of customers in each cluster\n",
    "cluster_percentage = (customer_data_pca['cluster'].value_counts(normalize=True) * 100).reset_index()\n",
    "cluster_percentage.columns = ['Cluster', 'Percentage']\n",
    "cluster_percentage.sort_values(by='Cluster', inplace=True)\n",
    "\n",
    "# Create a horizontal bar plot\n",
    "plt.figure(figsize=(10, 4))\n",
    "sns.barplot(x='Percentage', y='Cluster', data=cluster_percentage, orient='h', palette=colors)\n",
    "\n",
    "# Adding percentages on the bars\n",
    "for index, value in enumerate(cluster_percentage['Percentage']):\n",
    "    plt.text(value+0.5, index, f'{value:.2f}%')\n",
    "\n",
    "plt.title('Distribution of Customers Across Clusters', fontsize=14)\n",
    "plt.xticks(ticks=np.arange(0, 50, 5))\n",
    "plt.xlabel('Percentage (%)')\n",
    "\n",
    "# Show the plot\n",
    "plt.show()"
   ]
  },
  {
   "cell_type": "markdown",
   "id": "9236e9d8",
   "metadata": {
    "papermill": {
     "duration": 0.152868,
     "end_time": "2023-09-13T18:57:31.244931",
     "exception": false,
     "start_time": "2023-09-13T18:57:31.092063",
     "status": "completed"
    },
    "tags": []
   },
   "source": [
    "<div style=\"border-radius:10px; padding: 15px; background-color: #ffeacc; font-size:120%; text-align:left\">\n",
    "<h3 align=\"left\"><font color=#ff6200>Inference</font></h3>\n",
    "    \n",
    "The distribution of customers across the clusters, as depicted by the bar plot, suggests a fairly balanced distribution with clusters 0 and 1 holding around 41% of customers each and cluster 2 accommodating approximately 18% of the customers. \n",
    "\n",
    "This balanced distribution indicates that our clustering process has been largely successful in identifying meaningful patterns within the data, rather than merely grouping noise or outliers. It implies that each cluster represents a substantial and distinct segment of the customer base, thereby offering valuable insights for future business strategies.\n",
    "\n",
    "Moreover, the fact that no cluster contains a very small percentage of customers, assures us that each cluster is significant and not just representing outliers or noise in the data. This setup allows for a more nuanced understanding and analysis of different customer segments, facilitating effective and informed decision-making.\n"
   ]
  },
  {
   "cell_type": "markdown",
   "id": "89c91c1a",
   "metadata": {
    "papermill": {
     "duration": 0.155889,
     "end_time": "2023-09-13T18:57:31.558512",
     "exception": false,
     "start_time": "2023-09-13T18:57:31.402623",
     "status": "completed"
    },
    "tags": []
   },
   "source": [
    "<a id=\"evaluations_metrics\"></a>\n",
    "# <b><span style='color:#fcc36d'>Step 10.3 |</span><span style='color:#ff6200'> Evaluation Metrics</span></b>\n",
    "⬆️ [Tabel of Contents](#contents_tabel)"
   ]
  },
  {
   "cell_type": "markdown",
   "id": "0ff66d31",
   "metadata": {
    "papermill": {
     "duration": 0.155537,
     "end_time": "2023-09-13T18:57:31.873252",
     "exception": false,
     "start_time": "2023-09-13T18:57:31.717715",
     "status": "completed"
    },
    "tags": []
   },
   "source": [
    "<div style=\"border-radius:10px; padding: 15px; background-color: #ffeacc; font-size:120%; text-align:left\">\n",
    "\n",
    "To further scrutinize the quality of our clustering, I will employ the following metrics:\n",
    "\n",
    "- __Silhouette Score__: A measure to evaluate the separation distance between the clusters. Higher values indicate better cluster separation. It ranges from -1 to 1.\n",
    "    \n",
    "    \n",
    "- __Calinski Harabasz Score__: This score is used to evaluate the dispersion between and within clusters. A higher score indicates better defined clusters.\n",
    "\n",
    "    \n",
    "- __Davies Bouldin Score__: It assesses the average similarity between each cluster and its most similar cluster. Lower values indicate better cluster separation."
   ]
  },
  {
   "cell_type": "code",
   "execution_count": null,
   "id": "6f85d0d4",
   "metadata": {
    "papermill": {
     "duration": 0.555512,
     "end_time": "2023-09-13T18:57:32.585864",
     "exception": false,
     "start_time": "2023-09-13T18:57:32.030352",
     "status": "completed"
    },
    "tags": []
   },
   "outputs": [],
   "source": [
    "# Compute number of customers\n",
    "num_observations = len(customer_data_pca)\n",
    "\n",
    "# Separate the features and the cluster labels\n",
    "X = customer_data_pca.drop('cluster', axis=1)\n",
    "clusters = customer_data_pca['cluster']\n",
    "\n",
    "# Compute the metrics\n",
    "sil_score = silhouette_score(X, clusters)\n",
    "calinski_score = calinski_harabasz_score(X, clusters)\n",
    "davies_score = davies_bouldin_score(X, clusters)\n",
    "\n",
    "# Create a table to display the metrics and the number of observations\n",
    "table_data = [\n",
    "    [\"Number of Observations\", num_observations],\n",
    "    [\"Silhouette Score\", sil_score],\n",
    "    [\"Calinski Harabasz Score\", calinski_score],\n",
    "    [\"Davies Bouldin Score\", davies_score]\n",
    "]\n",
    "\n",
    "# Print the table\n",
    "print(tabulate(table_data, headers=[\"Metric\", \"Value\"], tablefmt='pretty'))"
   ]
  },
  {
   "cell_type": "markdown",
   "id": "b9b1305d",
   "metadata": {
    "papermill": {
     "duration": 0.154675,
     "end_time": "2023-09-13T18:57:32.949852",
     "exception": false,
     "start_time": "2023-09-13T18:57:32.795177",
     "status": "completed"
    },
    "tags": []
   },
   "source": [
    "<div style=\"border-radius:10px; padding: 15px; background-color: #ffeacc; font-size:120%; text-align:left\">\n",
    "<h3 align=\"left\"><font color=#ff6200>Clustering Quality Inference</font></h3>\n",
    "    \n",
    "    \n",
    "- The __Silhouette Score__ of approximately 0.236, although not close to 1, still indicates a fair amount of separation between the clusters. It suggests that the clusters are somewhat distinct, but there might be slight overlaps between them. Generally, a score closer to 1 would be ideal, indicating more distinct and well-separated clusters.\n",
    "\n",
    "    \n",
    "- The __Calinski Harabasz Score__ is 1257.17, which is considerably high, indicating that the clusters are well-defined. A higher score in this metric generally signals better cluster definitions, thus implying that our clustering has managed to find substantial structure in the data.\n",
    "\n",
    "    \n",
    "- The __Davies Bouldin Score__ of 1.37 is a reasonable score, indicating a moderate level of similarity between each cluster and its most similar one. A lower score is generally better as it indicates less similarity between clusters, and thus, our score here suggests a decent separation between the clusters.\n",
    "\n",
    "\n",
    "In conclusion, the metrics suggest that the clustering is of good quality, with clusters being well-defined and fairly separated. However, there might still be room for further optimization to enhance cluster separation and definition, potentially by trying other clustering and dimensionality reduction algorithms.\n",
    "\n"
   ]
  },
  {
   "cell_type": "markdown",
   "id": "a6f7544c",
   "metadata": {
    "papermill": {
     "duration": 0.157282,
     "end_time": "2023-09-13T18:57:33.262175",
     "exception": false,
     "start_time": "2023-09-13T18:57:33.104893",
     "status": "completed"
    },
    "tags": []
   },
   "source": [
    "<a id=\"profiling\"></a>\n",
    "# <p style=\"background-color: #ff6200; font-family:calibri; color:white; font-size:140%; font-family:Verdana; text-align:center; border-radius:15px 50px;\">Step 11 | Cluster Analysis and Profiling</p>\n",
    "⬆️ [Tabel of Contents](#contents_tabel)"
   ]
  },
  {
   "cell_type": "markdown",
   "id": "6343622b",
   "metadata": {
    "papermill": {
     "duration": 0.15762,
     "end_time": "2023-09-13T18:57:33.573094",
     "exception": false,
     "start_time": "2023-09-13T18:57:33.415474",
     "status": "completed"
    },
    "tags": []
   },
   "source": [
    "<div style=\"border-radius:10px; padding: 15px; background-color: #ffeacc; font-size:120%; text-align:left\">\n",
    "    \n",
    "In this section, We are going to analyze the characteristics of each cluster to understand the distinct behaviors and preferences of different customer segments and also profile each cluster to identify the key traits that define the customers in each cluster."
   ]
  },
  {
   "cell_type": "markdown",
   "id": "1949f7f7",
   "metadata": {
    "papermill": {
     "duration": 0.162758,
     "end_time": "2023-09-13T18:57:36.542206",
     "exception": false,
     "start_time": "2023-09-13T18:57:36.379448",
     "status": "completed"
    },
    "tags": []
   },
   "source": [
    "<a id=\"histogram\"></a>\n",
    "# <b><span style='color:#fcc36d'>Step 11.1 |</span><span style='color:#ff6200'> Histogram Chart Approach</span></b>\n",
    "⬆️ [Tabel of Contents](#contents_tabel)"
   ]
  },
  {
   "cell_type": "markdown",
   "id": "704973d0",
   "metadata": {
    "papermill": {
     "duration": 0.162619,
     "end_time": "2023-09-13T18:57:36.866049",
     "exception": false,
     "start_time": "2023-09-13T18:57:36.703430",
     "status": "completed"
    },
    "tags": []
   },
   "source": [
    "<div style=\"border-radius:10px; padding: 15px; background-color: #ffeacc; font-size:120%; text-align:left\">\n",
    "    \n",
    "We can plot histograms for each feature segmented by the cluster labels. These histograms will allow us to visually inspect the distribution of feature values within each cluster."
   ]
  },
  {
   "cell_type": "code",
   "execution_count": null,
   "id": "ae23c83d",
   "metadata": {
    "papermill": {
     "duration": 18.726601,
     "end_time": "2023-09-13T18:57:55.787377",
     "exception": false,
     "start_time": "2023-09-13T18:57:37.060776",
     "status": "completed"
    },
    "tags": []
   },
   "outputs": [],
   "source": [
    "# Plot histograms for each feature segmented by the clusters\n",
    "features = customer_data_cleaned.columns[1:-1]\n",
    "clusters = customer_data_cleaned['cluster'].unique()\n",
    "clusters.sort()\n",
    "\n",
    "# Setting up the subplots\n",
    "n_rows = len(features)\n",
    "n_cols = len(clusters)\n",
    "fig, axes = plt.subplots(n_rows, n_cols, figsize=(20, 3*n_rows))\n",
    "\n",
    "# Plotting histograms\n",
    "for i, feature in enumerate(features):\n",
    "    for j, cluster in enumerate(clusters):\n",
    "        data = customer_data_cleaned[customer_data_cleaned['cluster'] == cluster][feature]\n",
    "        axes[i, j].hist(data, bins=20, color=colors[j], edgecolor='w', alpha=0.7)\n",
    "        axes[i, j].set_title(f'Cluster {cluster} - {feature}', fontsize=15)\n",
    "        axes[i, j].set_xlabel('')\n",
    "        axes[i, j].set_ylabel('')\n",
    "\n",
    "# Adjusting layout to prevent overlapping\n",
    "plt.tight_layout()\n",
    "plt.show()"
   ]
  },
  {
   "cell_type": "markdown",
   "id": "b1b1e8c2",
   "metadata": {
    "papermill": {
     "duration": 0.172403,
     "end_time": "2023-09-13T18:57:56.480300",
     "exception": false,
     "start_time": "2023-09-13T18:57:56.307897",
     "status": "completed"
    },
    "tags": []
   },
   "source": [
    "<img src=\"https://github.com/FarzadNekouee/Retail_Customer_Segmentation_Recommendation_System/blob/master/profiles.png?raw=true\" width=\"2400\">"
   ]
  },
  {
   "cell_type": "markdown",
   "id": "944d9b66",
   "metadata": {
    "papermill": {
     "duration": 0.169573,
     "end_time": "2023-09-13T18:57:56.822756",
     "exception": false,
     "start_time": "2023-09-13T18:57:56.653183",
     "status": "completed"
    },
    "tags": []
   },
   "source": [
    "<a id=\"recommendation_system\"></a>\n",
    "# <p style=\"background-color: #ff6200; font-family:calibri; color:white; font-size:140%; font-family:Verdana; text-align:center; border-radius:15px 50px;\">Step 12 | Recommendation System</p>\n",
    "⬆️ [Tabel of Contents](#contents_tabel)"
   ]
  },
  {
   "cell_type": "markdown",
   "id": "2c735ac6",
   "metadata": {
    "papermill": {
     "duration": 0.177632,
     "end_time": "2023-09-13T18:57:57.172146",
     "exception": false,
     "start_time": "2023-09-13T18:57:56.994514",
     "status": "completed"
    },
    "tags": []
   },
   "source": [
    "<div style=\"border-radius:10px; padding: 15px; background-color: #ffeacc; font-size:120%; text-align:left\">\n",
    "\n",
    "In the final phase of this project, I am set to develop a recommendation system to enhance the online shopping experience. This system will suggest products to customers based on the purchasing patterns prevalent in their respective clusters. Earlier in the project, during the customer data preparation stage, I isolated a small fraction (5%) of the customers identified as outliers and reserved them in a separate dataset called `outliers_data`.\n",
    "\n",
    "Now, focusing on the core 95% of the customer group, I analyze the cleansed customer data to pinpoint the top-selling products within each cluster. Leveraging this information, the system will craft personalized recommendations, suggesting __the top three products__ popular within their cluster that they have not yet purchased. This not only facilitates targeted marketing strategies but also enriches the personal shopping experience, potentially boosting sales. For the outlier group, a basic approach could be to recommend random products, as a starting point to engage them."
   ]
  },
  {
   "cell_type": "code",
   "execution_count": null,
   "id": "74145455",
   "metadata": {
    "papermill": {
     "duration": 11.716599,
     "end_time": "2023-09-13T18:58:09.060770",
     "exception": false,
     "start_time": "2023-09-13T18:57:57.344171",
     "status": "completed"
    },
    "tags": []
   },
   "outputs": [],
   "source": [
    "# Step 1: Extract the CustomerIDs of the outliers and remove their transactions from the main dataframe\n",
    "outlier_customer_ids = outliers_data['CustomerID'].astype('float').unique()\n",
    "df_filtered = df[~df['CustomerID'].isin(outlier_customer_ids)]\n",
    "\n",
    "# Step 2: Ensure consistent data type for CustomerID across both dataframes before merging\n",
    "customer_data_cleaned['CustomerID'] = customer_data_cleaned['CustomerID'].astype('float')\n",
    "\n",
    "# Step 3: Merge the transaction data with the customer data to get the cluster information for each transaction\n",
    "merged_data = df_filtered.merge(customer_data_cleaned[['CustomerID', 'cluster']], on='CustomerID', how='inner')\n",
    "\n",
    "# Step 4: Identify the top 10 best-selling products in each cluster based on the total quantity sold\n",
    "best_selling_products = merged_data.groupby(['cluster', 'StockCode', 'Description'])['Quantity'].sum().reset_index()\n",
    "best_selling_products = best_selling_products.sort_values(by=['cluster', 'Quantity'], ascending=[True, False])\n",
    "top_products_per_cluster = best_selling_products.groupby('cluster').head(10)\n",
    "\n",
    "# Step 5: Create a record of products purchased by each customer in each cluster\n",
    "customer_purchases = merged_data.groupby(['CustomerID', 'cluster', 'StockCode'])['Quantity'].sum().reset_index()\n",
    "\n",
    "# Step 6: Generate recommendations for each customer in each cluster\n",
    "recommendations = []\n",
    "for cluster in top_products_per_cluster['cluster'].unique():\n",
    "    top_products = top_products_per_cluster[top_products_per_cluster['cluster'] == cluster]\n",
    "    customers_in_cluster = customer_data_cleaned[customer_data_cleaned['cluster'] == cluster]['CustomerID']\n",
    "    \n",
    "    for customer in customers_in_cluster:\n",
    "        # Identify products already purchased by the customer\n",
    "        customer_purchased_products = customer_purchases[(customer_purchases['CustomerID'] == customer) & \n",
    "                                                         (customer_purchases['cluster'] == cluster)]['StockCode'].tolist()\n",
    "        \n",
    "        # Find top 3 products in the best-selling list that the customer hasn't purchased yet\n",
    "        top_products_not_purchased = top_products[~top_products['StockCode'].isin(customer_purchased_products)]\n",
    "        top_3_products_not_purchased = top_products_not_purchased.head(3)\n",
    "        \n",
    "        # Append the recommendations to the list\n",
    "        recommendations.append([customer, cluster] + top_3_products_not_purchased[['StockCode', 'Description']].values.flatten().tolist())\n",
    "\n",
    "# Step 7: Create a dataframe from the recommendations list and merge it with the original customer data\n",
    "recommendations_df = pd.DataFrame(recommendations, columns=['CustomerID', 'cluster', 'Rec1_StockCode', 'Rec1_Description', \\\n",
    "                                                 'Rec2_StockCode', 'Rec2_Description', 'Rec3_StockCode', 'Rec3_Description'])\n",
    "customer_data_with_recommendations = customer_data_cleaned.merge(recommendations_df, on=['CustomerID', 'cluster'], how='right')"
   ]
  },
  {
   "cell_type": "code",
   "execution_count": null,
   "id": "5a101bd3",
   "metadata": {
    "papermill": {
     "duration": 0.199648,
     "end_time": "2023-09-13T18:58:09.436781",
     "exception": false,
     "start_time": "2023-09-13T18:58:09.237133",
     "status": "completed"
    },
    "tags": []
   },
   "outputs": [],
   "source": [
    "# Display 10 random rows from the customer_data_with_recommendations dataframe\n",
    "customer_data_with_recommendations.set_index('CustomerID').iloc[:, -6:].sample(10, random_state=0)"
   ]
  }
 ],
 "metadata": {
  "kernelspec": {
   "display_name": "Python 3 (ipykernel)",
   "language": "python",
   "name": "python3"
  },
  "language_info": {
   "codemirror_mode": {
    "name": "ipython",
    "version": 3
   },
   "file_extension": ".py",
   "mimetype": "text/x-python",
   "name": "python",
   "nbconvert_exporter": "python",
   "pygments_lexer": "ipython3",
   "version": "3.11.7"
  },
  "papermill": {
   "default_parameters": {},
   "duration": 168.09806,
   "end_time": "2023-09-13T18:58:13.013821",
   "environment_variables": {},
   "exception": null,
   "input_path": "__notebook__.ipynb",
   "output_path": "__notebook__.ipynb",
   "parameters": {},
   "start_time": "2023-09-13T18:55:24.915761",
   "version": "2.4.0"
  }
 },
 "nbformat": 4,
 "nbformat_minor": 5
}
